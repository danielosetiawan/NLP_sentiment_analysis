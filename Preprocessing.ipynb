{
 "cells": [
  {
   "cell_type": "code",
   "execution_count": 119,
   "id": "5d6590a2",
   "metadata": {},
   "outputs": [],
   "source": [
    "import seaborn as sns\n",
    "import numpy as np\n",
    "import pandas as pd\n",
    "from string import punctuation\n",
    "from collections import Counter\n",
    "import matplotlib.pyplot as plt\n",
    "\n",
    "sns.set(rc = {'figure.figsize':(15, 7)})\n",
    "sns.set_style('white')\n",
    "pd.set_option('display.max_columns', 500)\n",
    "title_fontsize = 15"
   ]
  },
  {
   "cell_type": "code",
   "execution_count": 41,
   "id": "d628f2e4",
   "metadata": {},
   "outputs": [
    {
     "data": {
      "text/html": [
       "<div>\n",
       "<style scoped>\n",
       "    .dataframe tbody tr th:only-of-type {\n",
       "        vertical-align: middle;\n",
       "    }\n",
       "\n",
       "    .dataframe tbody tr th {\n",
       "        vertical-align: top;\n",
       "    }\n",
       "\n",
       "    .dataframe thead th {\n",
       "        text-align: right;\n",
       "    }\n",
       "</style>\n",
       "<table border=\"1\" class=\"dataframe\">\n",
       "  <thead>\n",
       "    <tr style=\"text-align: right;\">\n",
       "      <th></th>\n",
       "      <th>Date</th>\n",
       "      <th>Tweet</th>\n",
       "      <th>Stock Name</th>\n",
       "      <th>Company Name</th>\n",
       "    </tr>\n",
       "  </thead>\n",
       "  <tbody>\n",
       "    <tr>\n",
       "      <th>0</th>\n",
       "      <td>2022-09-29 23:41:16+00:00</td>\n",
       "      <td>Mainstream media has done an amazing job at br...</td>\n",
       "      <td>TSLA</td>\n",
       "      <td>Tesla, Inc.</td>\n",
       "    </tr>\n",
       "    <tr>\n",
       "      <th>1</th>\n",
       "      <td>2022-09-29 23:24:43+00:00</td>\n",
       "      <td>Tesla delivery estimates are at around 364k fr...</td>\n",
       "      <td>TSLA</td>\n",
       "      <td>Tesla, Inc.</td>\n",
       "    </tr>\n",
       "    <tr>\n",
       "      <th>2</th>\n",
       "      <td>2022-09-29 23:18:08+00:00</td>\n",
       "      <td>3/ Even if I include 63.0M unvested RSUs as of...</td>\n",
       "      <td>TSLA</td>\n",
       "      <td>Tesla, Inc.</td>\n",
       "    </tr>\n",
       "    <tr>\n",
       "      <th>3</th>\n",
       "      <td>2022-09-29 22:40:07+00:00</td>\n",
       "      <td>@RealDanODowd @WholeMarsBlog @Tesla Hahaha why...</td>\n",
       "      <td>TSLA</td>\n",
       "      <td>Tesla, Inc.</td>\n",
       "    </tr>\n",
       "    <tr>\n",
       "      <th>4</th>\n",
       "      <td>2022-09-29 22:27:05+00:00</td>\n",
       "      <td>@RealDanODowd @Tesla Stop trying to kill kids,...</td>\n",
       "      <td>TSLA</td>\n",
       "      <td>Tesla, Inc.</td>\n",
       "    </tr>\n",
       "  </tbody>\n",
       "</table>\n",
       "</div>"
      ],
      "text/plain": [
       "                       Date  \\\n",
       "0 2022-09-29 23:41:16+00:00   \n",
       "1 2022-09-29 23:24:43+00:00   \n",
       "2 2022-09-29 23:18:08+00:00   \n",
       "3 2022-09-29 22:40:07+00:00   \n",
       "4 2022-09-29 22:27:05+00:00   \n",
       "\n",
       "                                               Tweet Stock Name Company Name  \n",
       "0  Mainstream media has done an amazing job at br...       TSLA  Tesla, Inc.  \n",
       "1  Tesla delivery estimates are at around 364k fr...       TSLA  Tesla, Inc.  \n",
       "2  3/ Even if I include 63.0M unvested RSUs as of...       TSLA  Tesla, Inc.  \n",
       "3  @RealDanODowd @WholeMarsBlog @Tesla Hahaha why...       TSLA  Tesla, Inc.  \n",
       "4  @RealDanODowd @Tesla Stop trying to kill kids,...       TSLA  Tesla, Inc.  "
      ]
     },
     "execution_count": 41,
     "metadata": {},
     "output_type": "execute_result"
    }
   ],
   "source": [
    "tweets = pd.read_csv('./data/stock_tweets.csv', parse_dates=['Date'])\n",
    "stocks = pd.read_csv('./data/stock_yfinance_data.csv')\n",
    "\n",
    "tweets.head()"
   ]
  },
  {
   "cell_type": "code",
   "execution_count": 42,
   "id": "fd13e9d5",
   "metadata": {},
   "outputs": [
    {
     "data": {
      "text/html": [
       "<div>\n",
       "<style scoped>\n",
       "    .dataframe tbody tr th:only-of-type {\n",
       "        vertical-align: middle;\n",
       "    }\n",
       "\n",
       "    .dataframe tbody tr th {\n",
       "        vertical-align: top;\n",
       "    }\n",
       "\n",
       "    .dataframe thead th {\n",
       "        text-align: right;\n",
       "    }\n",
       "</style>\n",
       "<table border=\"1\" class=\"dataframe\">\n",
       "  <thead>\n",
       "    <tr style=\"text-align: right;\">\n",
       "      <th></th>\n",
       "      <th>Date</th>\n",
       "      <th>Open</th>\n",
       "      <th>High</th>\n",
       "      <th>Low</th>\n",
       "      <th>Close</th>\n",
       "      <th>Adj Close</th>\n",
       "      <th>Volume</th>\n",
       "      <th>Stock Name</th>\n",
       "    </tr>\n",
       "  </thead>\n",
       "  <tbody>\n",
       "    <tr>\n",
       "      <th>0</th>\n",
       "      <td>2021-09-30</td>\n",
       "      <td>260.333344</td>\n",
       "      <td>263.043335</td>\n",
       "      <td>258.333344</td>\n",
       "      <td>258.493347</td>\n",
       "      <td>258.493347</td>\n",
       "      <td>53868000</td>\n",
       "      <td>TSLA</td>\n",
       "    </tr>\n",
       "    <tr>\n",
       "      <th>1</th>\n",
       "      <td>2021-10-01</td>\n",
       "      <td>259.466675</td>\n",
       "      <td>260.260010</td>\n",
       "      <td>254.529999</td>\n",
       "      <td>258.406677</td>\n",
       "      <td>258.406677</td>\n",
       "      <td>51094200</td>\n",
       "      <td>TSLA</td>\n",
       "    </tr>\n",
       "    <tr>\n",
       "      <th>2</th>\n",
       "      <td>2021-10-04</td>\n",
       "      <td>265.500000</td>\n",
       "      <td>268.989990</td>\n",
       "      <td>258.706665</td>\n",
       "      <td>260.510010</td>\n",
       "      <td>260.510010</td>\n",
       "      <td>91449900</td>\n",
       "      <td>TSLA</td>\n",
       "    </tr>\n",
       "    <tr>\n",
       "      <th>3</th>\n",
       "      <td>2021-10-05</td>\n",
       "      <td>261.600006</td>\n",
       "      <td>265.769989</td>\n",
       "      <td>258.066681</td>\n",
       "      <td>260.196655</td>\n",
       "      <td>260.196655</td>\n",
       "      <td>55297800</td>\n",
       "      <td>TSLA</td>\n",
       "    </tr>\n",
       "    <tr>\n",
       "      <th>4</th>\n",
       "      <td>2021-10-06</td>\n",
       "      <td>258.733337</td>\n",
       "      <td>262.220001</td>\n",
       "      <td>257.739990</td>\n",
       "      <td>260.916656</td>\n",
       "      <td>260.916656</td>\n",
       "      <td>43898400</td>\n",
       "      <td>TSLA</td>\n",
       "    </tr>\n",
       "  </tbody>\n",
       "</table>\n",
       "</div>"
      ],
      "text/plain": [
       "         Date        Open        High         Low       Close   Adj Close  \\\n",
       "0  2021-09-30  260.333344  263.043335  258.333344  258.493347  258.493347   \n",
       "1  2021-10-01  259.466675  260.260010  254.529999  258.406677  258.406677   \n",
       "2  2021-10-04  265.500000  268.989990  258.706665  260.510010  260.510010   \n",
       "3  2021-10-05  261.600006  265.769989  258.066681  260.196655  260.196655   \n",
       "4  2021-10-06  258.733337  262.220001  257.739990  260.916656  260.916656   \n",
       "\n",
       "     Volume Stock Name  \n",
       "0  53868000       TSLA  \n",
       "1  51094200       TSLA  \n",
       "2  91449900       TSLA  \n",
       "3  55297800       TSLA  \n",
       "4  43898400       TSLA  "
      ]
     },
     "execution_count": 42,
     "metadata": {},
     "output_type": "execute_result"
    }
   ],
   "source": [
    "stocks.head()"
   ]
  },
  {
   "cell_type": "markdown",
   "id": "1831214a",
   "metadata": {},
   "source": [
    "### Cleaning up the Tweets"
   ]
  },
  {
   "cell_type": "code",
   "execution_count": 58,
   "id": "f180e532",
   "metadata": {},
   "outputs": [
    {
     "data": {
      "text/html": [
       "<div>\n",
       "<style scoped>\n",
       "    .dataframe tbody tr th:only-of-type {\n",
       "        vertical-align: middle;\n",
       "    }\n",
       "\n",
       "    .dataframe tbody tr th {\n",
       "        vertical-align: top;\n",
       "    }\n",
       "\n",
       "    .dataframe thead th {\n",
       "        text-align: right;\n",
       "    }\n",
       "</style>\n",
       "<table border=\"1\" class=\"dataframe\">\n",
       "  <thead>\n",
       "    <tr style=\"text-align: right;\">\n",
       "      <th></th>\n",
       "      <th>Date</th>\n",
       "      <th>Tweet</th>\n",
       "      <th>Stock Name</th>\n",
       "      <th>Company Name</th>\n",
       "    </tr>\n",
       "  </thead>\n",
       "  <tbody>\n",
       "    <tr>\n",
       "      <th>0</th>\n",
       "      <td>2022-09-29 23:41:16+00:00</td>\n",
       "      <td>mainstream media has done an amazing job at br...</td>\n",
       "      <td>TSLA</td>\n",
       "      <td>Tesla, Inc.</td>\n",
       "    </tr>\n",
       "    <tr>\n",
       "      <th>1</th>\n",
       "      <td>2022-09-29 23:24:43+00:00</td>\n",
       "      <td>tesla delivery estimates are at around 364k fr...</td>\n",
       "      <td>TSLA</td>\n",
       "      <td>Tesla, Inc.</td>\n",
       "    </tr>\n",
       "    <tr>\n",
       "      <th>2</th>\n",
       "      <td>2022-09-29 23:18:08+00:00</td>\n",
       "      <td>3 even if i include 630m unvested rsus as of 6...</td>\n",
       "      <td>TSLA</td>\n",
       "      <td>Tesla, Inc.</td>\n",
       "    </tr>\n",
       "    <tr>\n",
       "      <th>3</th>\n",
       "      <td>2022-09-29 22:40:07+00:00</td>\n",
       "      <td>realdanodowd wholemarsblog tesla hahaha why ar...</td>\n",
       "      <td>TSLA</td>\n",
       "      <td>Tesla, Inc.</td>\n",
       "    </tr>\n",
       "    <tr>\n",
       "      <th>4</th>\n",
       "      <td>2022-09-29 22:27:05+00:00</td>\n",
       "      <td>realdanodowd tesla stop trying to kill kids yo...</td>\n",
       "      <td>TSLA</td>\n",
       "      <td>Tesla, Inc.</td>\n",
       "    </tr>\n",
       "  </tbody>\n",
       "</table>\n",
       "</div>"
      ],
      "text/plain": [
       "                       Date  \\\n",
       "0 2022-09-29 23:41:16+00:00   \n",
       "1 2022-09-29 23:24:43+00:00   \n",
       "2 2022-09-29 23:18:08+00:00   \n",
       "3 2022-09-29 22:40:07+00:00   \n",
       "4 2022-09-29 22:27:05+00:00   \n",
       "\n",
       "                                               Tweet Stock Name Company Name  \n",
       "0  mainstream media has done an amazing job at br...       TSLA  Tesla, Inc.  \n",
       "1  tesla delivery estimates are at around 364k fr...       TSLA  Tesla, Inc.  \n",
       "2  3 even if i include 630m unvested rsus as of 6...       TSLA  Tesla, Inc.  \n",
       "3  realdanodowd wholemarsblog tesla hahaha why ar...       TSLA  Tesla, Inc.  \n",
       "4  realdanodowd tesla stop trying to kill kids yo...       TSLA  Tesla, Inc.  "
      ]
     },
     "execution_count": 58,
     "metadata": {},
     "output_type": "execute_result"
    }
   ],
   "source": [
    "# making everything lowercase\n",
    "tweets['Tweet'] = tweets['Tweet'].apply(lambda x: x.lower())\n",
    "\n",
    "# removing punctuation\n",
    "tweets['Tweet'] = tweets['Tweet'].apply(lambda x: ''.join([c for c in x if c not in punctuation]))\n",
    "\n",
    "tweets.head()"
   ]
  },
  {
   "cell_type": "markdown",
   "id": "a5d7139f",
   "metadata": {},
   "source": [
    "### Tokenization"
   ]
  },
  {
   "cell_type": "code",
   "execution_count": 80,
   "id": "bc92e1c9",
   "metadata": {},
   "outputs": [],
   "source": [
    "# create a list of all tweets in column\n",
    "all_tweets = tweets['Tweet'].tolist()\n",
    "\n",
    "# join the tweets together to make one big blob\n",
    "text = ' '.join(all_tweets)\n",
    "\n",
    "# finding the most frequent words\n",
    "words = text.split()\n",
    "word_counts = Counter(words)\n",
    "\n",
    "# sort the words so the most frequent are on top\n",
    "total_words = len(words)\n",
    "sorted_words = word_counts.most_common(total_words)"
   ]
  },
  {
   "cell_type": "code",
   "execution_count": null,
   "id": "61424448",
   "metadata": {},
   "outputs": [],
   "source": [
    "# create an int-mapping dictionary so most common words will have lower indexes\n",
    "vocab_to_int = {w:i+1 for i, (w, c) in enumerate(sorted_words)}\n",
    "\n"
   ]
  },
  {
   "cell_type": "code",
   "execution_count": 82,
   "id": "8b580acb",
   "metadata": {},
   "outputs": [
    {
     "data": {
      "text/plain": [
       "80793"
      ]
     },
     "execution_count": 82,
     "metadata": {},
     "output_type": "execute_result"
    }
   ],
   "source": [
    "len(all_tweets)"
   ]
  },
  {
   "cell_type": "code",
   "execution_count": 125,
   "id": "5261686e",
   "metadata": {
    "scrolled": true
   },
   "outputs": [
    {
     "name": "stdout",
     "output_type": "stream",
     "text": [
      "[[4636, 472, 40, 386, 67, 422, 955, 18, 31186, 129, 44, 18, 153, 32, 150, 1196, 58, 217, 32, 389, 6, 41, 12, 244, 10, 241, 55, 162, 1, 2635, 227, 41, 233, 23811, 20, 77, 241, 55, 41217, 1456, 13, 1218, 41, 1, 1491, 234, 2768, 2, 41218], [10, 424, 1227, 23, 18, 296, 19935, 27, 1, 772, 3], [70, 176, 26, 12, 1873, 31187, 23812, 13895, 28, 7, 7265, 1885, 995, 1190, 9, 1, 13895, 8, 31187, 384, 4987, 8030, 26, 1, 367, 436, 156, 18, 4987, 81, 98, 226, 4549, 9, 2769, 93, 1129, 8030, 9, 13895, 54, 11034, 69, 995, 141, 3]]\n"
     ]
    }
   ],
   "source": [
    "# tokenize the words so they are defined by integers rather than strings\n",
    "tweets_int = []\n",
    "for word in all_tweets:\n",
    "    r = [vocab_to_int[w] for w in word.split()]\n",
    "    tweets_int.append(r)\n",
    "print(tweets_int[0:3])"
   ]
  },
  {
   "cell_type": "code",
   "execution_count": 157,
   "id": "b93fcafe",
   "metadata": {},
   "outputs": [],
   "source": [
    "from matplotlib.lines import Line2D"
   ]
  },
  {
   "cell_type": "code",
   "execution_count": 174,
   "id": "f4fb4891",
   "metadata": {},
   "outputs": [
    {
     "data": {
      "image/png": "[encoded data removed]",
      "text/plain": [
       "<Figure size 1080x504 with 1 Axes>"
      ]
     },
     "metadata": {},
     "output_type": "display_data"
    },
    {
     "data": {
      "text/plain": [
       "count    80793.000000\n",
       "mean        27.027020\n",
       "std         15.538215\n",
       "min          1.000000\n",
       "25%         13.000000\n",
       "50%         25.000000\n",
       "75%         41.000000\n",
       "max         86.000000\n",
       "dtype: float64"
      ]
     },
     "execution_count": 174,
     "metadata": {},
     "output_type": "execute_result"
    }
   ],
   "source": [
    "tweets_len = [len(x) for x in tweets_int]\n",
    "\n",
    "fig = sns.histplot(pd.Series(tweets_len), bins=30, kde=True)\n",
    "fig.set(xlim=(0, 65), yticks=[0, 2.5e3, 5e3, 7.5e3], \n",
    "        yticklabels=[0, '2.5K', '5K', '7.5K'])\n",
    "\n",
    "\n",
    "\n",
    "plt.xlabel('Length', fontsize=title_fontsize)\n",
    "plt.ylabel('Count', fontsize=title_fontsize)\n",
    "plt.title('Length of Tweets', fontsize = title_fontsize)\n",
    "\n",
    "# coloring outliers red\n",
    "fig.patches[0].set_facecolor('salmon')\n",
    "fig.patches[19].set_facecolor('salmon')\n",
    "fig.patches[20].set_facecolor('salmon')\n",
    "fig.patches[21].set_facecolor('salmon')\n",
    "\n",
    "# creating legend for outliers\n",
    "outliers = [Line2D([0], [0], color='salmon', lw=2)]\n",
    "plt.legend(outliers, ['Outliers'], frameon=False)\n",
    "\n",
    "plt.tight_layout()\n",
    "plt.savefig('./visualization/Preprocessing: Tweet_Lengths.png', dpi = 600)\n",
    "plt.show()\n",
    "\n",
    "pd.Series(tweets_len).describe()"
   ]
  },
  {
   "cell_type": "code",
   "execution_count": 208,
   "id": "703f96d2",
   "metadata": {},
   "outputs": [
    {
     "data": {
      "text/html": [
       "<div>\n",
       "<style scoped>\n",
       "    .dataframe tbody tr th:only-of-type {\n",
       "        vertical-align: middle;\n",
       "    }\n",
       "\n",
       "    .dataframe tbody tr th {\n",
       "        vertical-align: top;\n",
       "    }\n",
       "\n",
       "    .dataframe thead th {\n",
       "        text-align: right;\n",
       "    }\n",
       "</style>\n",
       "<table border=\"1\" class=\"dataframe\">\n",
       "  <thead>\n",
       "    <tr style=\"text-align: right;\">\n",
       "      <th></th>\n",
       "      <th>Date</th>\n",
       "      <th>Tweet</th>\n",
       "      <th>Stock Name</th>\n",
       "      <th>Company Name</th>\n",
       "    </tr>\n",
       "  </thead>\n",
       "  <tbody>\n",
       "    <tr>\n",
       "      <th>0</th>\n",
       "      <td>2022-09-29 23:41:16+00:00</td>\n",
       "      <td>mainstream media has done an amazing job at br...</td>\n",
       "      <td>TSLA</td>\n",
       "      <td>Tesla, Inc.</td>\n",
       "    </tr>\n",
       "    <tr>\n",
       "      <th>1</th>\n",
       "      <td>2022-09-29 23:24:43+00:00</td>\n",
       "      <td>tesla delivery estimates are at around 364k fr...</td>\n",
       "      <td>TSLA</td>\n",
       "      <td>Tesla, Inc.</td>\n",
       "    </tr>\n",
       "    <tr>\n",
       "      <th>2</th>\n",
       "      <td>2022-09-29 23:18:08+00:00</td>\n",
       "      <td>3 even if i include 630m unvested rsus as of 6...</td>\n",
       "      <td>TSLA</td>\n",
       "      <td>Tesla, Inc.</td>\n",
       "    </tr>\n",
       "    <tr>\n",
       "      <th>3</th>\n",
       "      <td>2022-09-29 22:40:07+00:00</td>\n",
       "      <td>realdanodowd wholemarsblog tesla hahaha why ar...</td>\n",
       "      <td>TSLA</td>\n",
       "      <td>Tesla, Inc.</td>\n",
       "    </tr>\n",
       "    <tr>\n",
       "      <th>4</th>\n",
       "      <td>2022-09-29 22:27:05+00:00</td>\n",
       "      <td>realdanodowd tesla stop trying to kill kids yo...</td>\n",
       "      <td>TSLA</td>\n",
       "      <td>Tesla, Inc.</td>\n",
       "    </tr>\n",
       "  </tbody>\n",
       "</table>\n",
       "</div>"
      ],
      "text/plain": [
       "                       Date  \\\n",
       "0 2022-09-29 23:41:16+00:00   \n",
       "1 2022-09-29 23:24:43+00:00   \n",
       "2 2022-09-29 23:18:08+00:00   \n",
       "3 2022-09-29 22:40:07+00:00   \n",
       "4 2022-09-29 22:27:05+00:00   \n",
       "\n",
       "                                               Tweet Stock Name Company Name  \n",
       "0  mainstream media has done an amazing job at br...       TSLA  Tesla, Inc.  \n",
       "1  tesla delivery estimates are at around 364k fr...       TSLA  Tesla, Inc.  \n",
       "2  3 even if i include 630m unvested rsus as of 6...       TSLA  Tesla, Inc.  \n",
       "3  realdanodowd wholemarsblog tesla hahaha why ar...       TSLA  Tesla, Inc.  \n",
       "4  realdanodowd tesla stop trying to kill kids yo...       TSLA  Tesla, Inc.  "
      ]
     },
     "execution_count": 208,
     "metadata": {},
     "output_type": "execute_result"
    }
   ],
   "source": [
    "# removing outliers\n",
    "tweets_df = pd.DataFrame(tweets_len)\n",
    "df = tweets_df[(tweets_df[0] > 3) & (tweets_df[0] < 55)]\n",
    "tweets = tweets.loc[df.index]\n",
    "tweets.head()"
   ]
  },
  {
   "cell_type": "code",
   "execution_count": 212,
   "id": "ff002e7a",
   "metadata": {},
   "outputs": [],
   "source": [
    "tweets.to_csv('./data/stock_tweets_cleaned.csv')"
   ]
  },
  {
   "cell_type": "code",
   "execution_count": null,
   "id": "62817bb2",
   "metadata": {},
   "outputs": [],
   "source": []
  }
 ],
 "metadata": {
  "kernelspec": {
   "display_name": "Python 3 (ipykernel)",
   "language": "python",
   "name": "python3"
  },
  "language_info": {
   "codemirror_mode": {
    "name": "ipython",
    "version": 3
   },
   "file_extension": ".py",
   "mimetype": "text/x-python",
   "name": "python",
   "nbconvert_exporter": "python",
   "pygments_lexer": "ipython3",
   "version": "3.9.12"
  }
 },
 "nbformat": 4,
 "nbformat_minor": 5
}
