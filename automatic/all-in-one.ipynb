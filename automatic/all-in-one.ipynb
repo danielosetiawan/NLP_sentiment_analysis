{
 "cells": [
  {
   "cell_type": "code",
   "execution_count": 33,
   "metadata": {},
   "outputs": [
    {
     "name": "stdout",
     "output_type": "stream",
     "text": [
      "The autoreload extension is already loaded. To reload it, use:\n",
      "  %reload_ext autoreload\n"
     ]
    }
   ],
   "source": [
    "%load_ext autoreload\n",
    "%autoreload 2\n",
    "\n",
    "import numpy as np\n",
    "import pandas as pd\n",
    "import tweepy\n",
    "import snscrape.modules.twitter as sntwitter\n",
    "from functions import *\n",
    "\n",
    "from datetime import datetime, timedelta"
   ]
  },
  {
   "cell_type": "code",
   "execution_count": 55,
   "metadata": {},
   "outputs": [],
   "source": [
    "variables = load_yaml('config.yaml')\n",
    "# authentication = variables['authentication']\n",
    "today = datetime.now().strftime('%Y-%m-%d')"
   ]
  },
  {
   "cell_type": "code",
   "execution_count": 64,
   "metadata": {},
   "outputs": [
    {
     "data": {
      "text/plain": [
       "'2023-06-18'"
      ]
     },
     "execution_count": 64,
     "metadata": {},
     "output_type": "execute_result"
    }
   ],
   "source": [
    "aapl.start_date"
   ]
  },
  {
   "cell_type": "code",
   "execution_count": 81,
   "metadata": {},
   "outputs": [
    {
     "name": "stdout",
     "output_type": "stream",
     "text": [
      "Keyword: aapl, Date: [2023-06-11 02:28:40.960464, 2023-06-18 02:28:40.960474]\n"
     ]
    }
   ],
   "source": [
    "print(aapl)"
   ]
  },
  {
   "cell_type": "code",
   "execution_count": 95,
   "metadata": {},
   "outputs": [
    {
     "ename": "KeyError",
     "evalue": "'reddit authentication'",
     "output_type": "error",
     "traceback": [
      "\u001b[0;31m---------------------------------------------------------------------------\u001b[0m",
      "\u001b[0;31mKeyError\u001b[0m                                  Traceback (most recent call last)",
      "Cell \u001b[0;32mIn[95], line 1\u001b[0m\n\u001b[0;32m----> 1\u001b[0m aapl\u001b[39m.\u001b[39;49mscrape_reddit()\n",
      "File \u001b[0;32m~/Documents/Projects/Stock_NLP/automatic/functions.py:111\u001b[0m, in \u001b[0;36mStockScraper.scrape_reddit\u001b[0;34m(self, subreddit, post_id, max_num, type)\u001b[0m\n\u001b[1;32m    108\u001b[0m posts, comments \u001b[39m=\u001b[39m [], []\n\u001b[1;32m    110\u001b[0m \u001b[39m# check if authentication is set\u001b[39;00m\n\u001b[0;32m--> 111\u001b[0m authentication \u001b[39m=\u001b[39m \u001b[39mself\u001b[39;49m\u001b[39m.\u001b[39;49mload_authentication(\u001b[39m'\u001b[39;49m\u001b[39mconfig.yaml\u001b[39;49m\u001b[39m'\u001b[39;49m)[\u001b[39m'\u001b[39;49m\u001b[39mreddit authentication\u001b[39;49m\u001b[39m'\u001b[39;49m]\n\u001b[1;32m    112\u001b[0m \u001b[39mif\u001b[39;00m \u001b[39mNone\u001b[39;00m \u001b[39min\u001b[39;00m authentication\u001b[39m.\u001b[39mvalues():\n\u001b[1;32m    113\u001b[0m     \u001b[39mraise\u001b[39;00m \u001b[39mException\u001b[39;00m(\u001b[39m'\u001b[39m\u001b[39mAuthentication not set. Please set authentication first.\u001b[39m\u001b[39m'\u001b[39m)\n",
      "\u001b[0;31mKeyError\u001b[0m: 'reddit authentication'"
     ]
    }
   ],
   "source": [
    "aapl.scrape_reddit()"
   ]
  },
  {
   "cell_type": "code",
   "execution_count": 94,
   "metadata": {},
   "outputs": [
    {
     "name": "stdout",
     "output_type": "stream",
     "text": [
      " Keyword: AAPL\n",
      " Date: start: 2023-06-11, end: 2023-06-18\n",
      " Scraped_Yahoo: True\n",
      " Scraped_Twitter: False\n",
      " Scraped_Reddit: False\n",
      " Scraped_News: False\n",
      "\n"
     ]
    }
   ],
   "source": [
    "start_date = (datetime.today()-timedelta(days=7)).strftime('%Y-%m-%d')\n",
    "end_date = datetime.today().strftime('%Y-%m-%d')\n",
    "aapl = StockScraper('aapl', start_date, end_date)\n",
    "\n",
    "aapl.scrape_yahoo()\n",
    "print(aapl)\n"
   ]
  },
  {
   "cell_type": "code",
   "execution_count": null,
   "metadata": {},
   "outputs": [],
   "source": []
  }
 ],
 "metadata": {
  "kernelspec": {
   "display_name": ".venv",
   "language": "python",
   "name": "python3"
  },
  "language_info": {
   "codemirror_mode": {
    "name": "ipython",
    "version": 3
   },
   "file_extension": ".py",
   "mimetype": "text/x-python",
   "name": "python",
   "nbconvert_exporter": "python",
   "pygments_lexer": "ipython3",
   "version": "3.10.6"
  },
  "orig_nbformat": 4
 },
 "nbformat": 4,
 "nbformat_minor": 2
}
