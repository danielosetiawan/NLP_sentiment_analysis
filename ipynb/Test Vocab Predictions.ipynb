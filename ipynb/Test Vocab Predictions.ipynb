{
 "cells": [
  {
   "cell_type": "code",
   "execution_count": 4,
   "id": "f9ba3afe",
   "metadata": {},
   "outputs": [],
   "source": [
    "import pandas as pd\n",
    "import numpy as np\n",
    "from string import punctuation\n",
    "import re\n",
    "import nltk\n",
    "from nltk.corpus import stopwords"
   ]
  },
  {
   "cell_type": "code",
   "execution_count": 5,
   "id": "d628f2e4",
   "metadata": {},
   "outputs": [],
   "source": [
    "df = pd.read_csv('./data/vocab_words.csv')\n",
    "dct = {k:v for (k, v) in zip(df.iloc[:, 0], df['0'])}"
   ]
  },
  {
   "cell_type": "code",
   "execution_count": 6,
   "id": "71b38cde",
   "metadata": {},
   "outputs": [
    {
     "name": "stderr",
     "output_type": "stream",
     "text": [
      "[nltk_data] Downloading package stopwords to\n",
      "[nltk_data]     /Users/setone/nltk_data...\n",
      "[nltk_data]   Package stopwords is already up-to-date!\n",
      "[nltk_data] Downloading package wordnet to /Users/setone/nltk_data...\n",
      "[nltk_data]   Package wordnet is already up-to-date!\n",
      "[nltk_data] Downloading package punkt to /Users/setone/nltk_data...\n",
      "[nltk_data]   Package punkt is already up-to-date!\n",
      "[nltk_data] Downloading package omw-1.4 to /Users/setone/nltk_data...\n",
      "[nltk_data]   Package omw-1.4 is already up-to-date!\n"
     ]
    }
   ],
   "source": [
    "website_pattern = r'(https?:\\/\\/(?:www\\.)?[-a-zA-Z0-9@:%._+~#=]{1,256}\\.[a-zA-Z0-9()]{1,6}[-a-zA-Z0-9()@:%_+.~#?&/=]*)'\n",
    "username_pattern = '@(\\w{1,15})'\n",
    "\n",
    "nltk.download('stopwords')\n",
    "nltk.download('wordnet')\n",
    "nltk.download('punkt')\n",
    "nltk.download('omw-1.4')\n",
    "stopwords = stopwords.words('english')\n",
    "\n",
    "w_tokenizer = nltk.tokenize.WhitespaceTokenizer()\n",
    "lemmatizer = nltk.stem.WordNetLemmatizer()"
   ]
  },
  {
   "cell_type": "code",
   "execution_count": 63,
   "id": "158408a4",
   "metadata": {},
   "outputs": [],
   "source": [
    "def tokenize_tweet(text):\n",
    "    '''\n",
    "    preprocess the tweet to input into model\n",
    "    '''\n",
    "    \n",
    "    # make texts lowercase\n",
    "    text = text.lower()\n",
    "    \n",
    "    # remove websites and usernames, if exist\n",
    "    text = re.sub(website_pattern, '', text)\n",
    "    text = re.sub(username_pattern, '', text)\n",
    "    \n",
    "    # remove stop words\n",
    "    text = ' '.join(text.lower() for text in text.split() if text not in stopwords)\n",
    "    \n",
    "    # remove punctuation\n",
    "    text = ''.join([x for x in text if x not in punctuation])\n",
    "    \n",
    "    # lemmatize words to base\n",
    "    text = [lemmatizer.lemmatize(x) for x in w_tokenizer.tokenize(text)]\n",
    "    \n",
    "    # tokenize\n",
    "    text_int = []\n",
    "    text_int.append([dct[word] for word in text])\n",
    "    \n",
    "    return text_int"
   ]
  },
  {
   "cell_type": "code",
   "execution_count": 64,
   "id": "115517a6",
   "metadata": {},
   "outputs": [
    {
     "data": {
      "text/plain": [
       "[[2908, 1265, 1972]]"
      ]
     },
     "execution_count": 64,
     "metadata": {},
     "output_type": "execute_result"
    }
   ],
   "source": [
    "# test\n",
    "\n",
    "tokenize_tweet('hello how are you this is cool moon')"
   ]
  },
  {
   "cell_type": "code",
   "execution_count": 72,
   "id": "9fa22e0e",
   "metadata": {},
   "outputs": [],
   "source": [
    "def pad_features(tweets_int, seq_length=26):\n",
    "    ''' Return features of tweets_ints, where each tweet is \n",
    "    padded with 0's or truncated to the input seq_length.\n",
    "    '''\n",
    "    features = np.zeros((len(tweets_int), seq_length), dtype = int)\n",
    "    \n",
    "    for i, twt in enumerate(tweets_int):\n",
    "        tweets_len = len(twt)\n",
    "        \n",
    "        if tweets_len <= seq_length:\n",
    "            zeroes = list(np.zeros(seq_length-tweets_len))\n",
    "            new = zeroes+twt\n",
    "        elif tweets_len > seq_length:\n",
    "            new = twt[0:seq_length]\n",
    "        \n",
    "        features[i,:] = np.array(new)\n",
    "    \n",
    "    return features"
   ]
  },
  {
   "cell_type": "code",
   "execution_count": 74,
   "id": "2a7fc86b",
   "metadata": {},
   "outputs": [
    {
     "data": {
      "text/plain": [
       "array([[   0,    0,    0,    0,    0,    0,    0,    0,    0,    0,    0,\n",
       "           0,    0,    0,    0,    0,    0,    0,    0,    0,    0,    0,\n",
       "           0, 2908, 1265, 1972]])"
      ]
     },
     "execution_count": 74,
     "metadata": {},
     "output_type": "execute_result"
    }
   ],
   "source": [
    "# test\n",
    "pad_features(tokenize_tweet('hello how are you this is cool moon'))"
   ]
  },
  {
   "cell_type": "code",
   "execution_count": null,
   "id": "649f6829",
   "metadata": {},
   "outputs": [],
   "source": []
  }
 ],
 "metadata": {
  "kernelspec": {
   "display_name": "Python 3 (ipykernel)",
   "language": "python",
   "name": "python3"
  },
  "language_info": {
   "codemirror_mode": {
    "name": "ipython",
    "version": 3
   },
   "file_extension": ".py",
   "mimetype": "text/x-python",
   "name": "python",
   "nbconvert_exporter": "python",
   "pygments_lexer": "ipython3",
   "version": "3.8.16"
  }
 },
 "nbformat": 4,
 "nbformat_minor": 5
}
