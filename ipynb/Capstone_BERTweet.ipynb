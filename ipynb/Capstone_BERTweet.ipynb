{
  "cells": [
    {
      "cell_type": "code",
      "execution_count": null,
      "metadata": {
        "colab": {
          "base_uri": "https://localhost:8080/"
        },
        "id": "kbTDHaveJPTB",
        "outputId": "f81ce984-0c7f-421b-8c54-22c6f259f495"
      },
      "outputs": [
        {
          "name": "stdout",
          "output_type": "stream",
          "text": [
            "Mounted at /content/drive\n"
          ]
        }
      ],
      "source": [
        "from google.colab import drive\n",
        "drive.mount('/content/drive')\n",
        "import os\n",
        "os.chdir(\"/content/drive/MyDrive/Colab Notebooks\")"
      ]
    },
    {
      "cell_type": "code",
      "execution_count": null,
      "metadata": {
        "colab": {
          "base_uri": "https://localhost:8080/"
        },
        "id": "ln_rok7xG_To",
        "outputId": "e71a1ba8-1434-47c2-958c-b19f51b8b8ae"
      },
      "outputs": [
        {
          "name": "stdout",
          "output_type": "stream",
          "text": [
            "Looking in indexes: https://pypi.org/simple, https://us-python.pkg.dev/colab-wheels/public/simple/\n",
            "Collecting transformers\n",
            "  Downloading transformers-4.26.1-py3-none-any.whl (6.3 MB)\n",
            "\u001b[2K     \u001b[90m━━━━━━━━━━━━━━━━━━━━━━━━━━━━━━━━━━━━━━━━\u001b[0m \u001b[32m6.3/6.3 MB\u001b[0m \u001b[31m25.8 MB/s\u001b[0m eta \u001b[36m0:00:00\u001b[0m\n",
            "\u001b[?25hRequirement already satisfied: regex!=2019.12.17 in /usr/local/lib/python3.8/dist-packages (from transformers) (2022.6.2)\n",
            "Requirement already satisfied: filelock in /usr/local/lib/python3.8/dist-packages (from transformers) (3.9.0)\n",
            "Collecting huggingface-hub<1.0,>=0.11.0\n",
            "  Downloading huggingface_hub-0.12.1-py3-none-any.whl (190 kB)\n",
            "\u001b[2K     \u001b[90m━━━━━━━━━━━━━━━━━━━━━━━━━━━━━━━━━━━━━━\u001b[0m \u001b[32m190.3/190.3 KB\u001b[0m \u001b[31m22.3 MB/s\u001b[0m eta \u001b[36m0:00:00\u001b[0m\n",
            "\u001b[?25hCollecting tokenizers!=0.11.3,<0.14,>=0.11.1\n",
            "  Downloading tokenizers-0.13.2-cp38-cp38-manylinux_2_17_x86_64.manylinux2014_x86_64.whl (7.6 MB)\n",
            "\u001b[2K     \u001b[90m━━━━━━━━━━━━━━━━━━━━━━━━━━━━━━━━━━━━━━━━\u001b[0m \u001b[32m7.6/7.6 MB\u001b[0m \u001b[31m27.6 MB/s\u001b[0m eta \u001b[36m0:00:00\u001b[0m\n",
            "\u001b[?25hRequirement already satisfied: tqdm>=4.27 in /usr/local/lib/python3.8/dist-packages (from transformers) (4.64.1)\n",
            "Requirement already satisfied: pyyaml>=5.1 in /usr/local/lib/python3.8/dist-packages (from transformers) (6.0)\n",
            "Requirement already satisfied: requests in /usr/local/lib/python3.8/dist-packages (from transformers) (2.25.1)\n",
            "Requirement already satisfied: numpy>=1.17 in /usr/local/lib/python3.8/dist-packages (from transformers) (1.22.4)\n",
            "Requirement already satisfied: packaging>=20.0 in /usr/local/lib/python3.8/dist-packages (from transformers) (23.0)\n",
            "Requirement already satisfied: typing-extensions>=3.7.4.3 in /usr/local/lib/python3.8/dist-packages (from huggingface-hub<1.0,>=0.11.0->transformers) (4.5.0)\n",
            "Requirement already satisfied: chardet<5,>=3.0.2 in /usr/local/lib/python3.8/dist-packages (from requests->transformers) (4.0.0)\n",
            "Requirement already satisfied: urllib3<1.27,>=1.21.1 in /usr/local/lib/python3.8/dist-packages (from requests->transformers) (1.24.3)\n",
            "Requirement already satisfied: idna<3,>=2.5 in /usr/local/lib/python3.8/dist-packages (from requests->transformers) (2.10)\n",
            "Requirement already satisfied: certifi>=2017.4.17 in /usr/local/lib/python3.8/dist-packages (from requests->transformers) (2022.12.7)\n",
            "Installing collected packages: tokenizers, huggingface-hub, transformers\n",
            "Successfully installed huggingface-hub-0.12.1 tokenizers-0.13.2 transformers-4.26.1\n"
          ]
        }
      ],
      "source": [
        "!pip install transformers"
      ]
    },
    {
      "cell_type": "code",
      "execution_count": null,
      "metadata": {
        "colab": {
          "base_uri": "https://localhost:8080/"
        },
        "id": "FC4MF8yaRSlE",
        "outputId": "5d8437ee-d223-47e8-c889-68dbd7672f76"
      },
      "outputs": [
        {
          "name": "stdout",
          "output_type": "stream",
          "text": [
            "Looking in indexes: https://pypi.org/simple, https://us-python.pkg.dev/colab-wheels/public/simple/\n",
            "Collecting emoji==0.6.0\n",
            "  Downloading emoji-0.6.0.tar.gz (51 kB)\n",
            "\u001b[2K     \u001b[90m━━━━━━━━━━━━━━━━━━━━━━━━━━━━━━━━━━━━━━━━\u001b[0m \u001b[32m51.0/51.0 KB\u001b[0m \u001b[31m3.4 MB/s\u001b[0m eta \u001b[36m0:00:00\u001b[0m\n",
            "\u001b[?25h  Preparing metadata (setup.py) ... \u001b[?25l\u001b[?25hdone\n",
            "Building wheels for collected packages: emoji\n",
            "  Building wheel for emoji (setup.py) ... \u001b[?25l\u001b[?25hdone\n",
            "  Created wheel for emoji: filename=emoji-0.6.0-py3-none-any.whl size=49735 sha256=77c3b98631370e7fc7784afbd0aa0b5fd4de7bfd3d6fbca4b766ef96afbede8f\n",
            "  Stored in directory: /root/.cache/pip/wheels/43/3d/82/e7baffa5e86346c6178d7750dba6e8ef063282a37fc563f8f8\n",
            "Successfully built emoji\n",
            "Installing collected packages: emoji\n",
            "Successfully installed emoji-0.6.0\n"
          ]
        }
      ],
      "source": [
        "!pip3 install emoji==0.6.0"
      ]
    },
    {
      "cell_type": "code",
      "execution_count": null,
      "metadata": {
        "id": "v0t4CosZJaKM"
      },
      "outputs": [],
      "source": [
        "import numpy as np\n",
        "import matplotlib.pyplot as plt\n",
        "import seaborn as sns\n",
        "import pandas as pd\n",
        "import os\n",
        "\n",
        "from numpy.random import seed\n",
        "seed(1337)\n",
        "from tensorflow import random\n",
        "random.set_seed(42)\n",
        "\n",
        "import tensorflow as tf\n",
        "import tensorflow_hub as hub\n",
        "from sklearn.metrics import classification_report, accuracy_score\n",
        "\n",
        "import keras\n",
        "from keras import optimizers\n",
        "from keras.models import Sequential\n",
        "from keras.layers import Activation, Dense, Input, Conv1D, MaxPooling1D, Embedding, GlobalMaxPool1D, GlobalMaxPooling1D, SpatialDropout1D, LSTM, Flatten, BatchNormalization, Dropout\n",
        "import transformers"
      ]
    },
    {
      "cell_type": "code",
      "execution_count": null,
      "metadata": {
        "id": "Qki9cY1DJaGY"
      },
      "outputs": [],
      "source": [
        "data = pd.read_csv('/content/drive/MyDrive/capstone/balanced_lemmatized_cleaned_stocktwits.csv', index_col=None)"
      ]
    },
    {
      "cell_type": "code",
      "execution_count": null,
      "metadata": {
        "id": "zzbYTcq-E47L"
      },
      "outputs": [],
      "source": []
    },
    {
      "cell_type": "code",
      "execution_count": null,
      "metadata": {
        "id": "yLUve4hbE44G"
      },
      "outputs": [],
      "source": []
    },
    {
      "cell_type": "code",
      "execution_count": null,
      "metadata": {
        "id": "H1mELFx8E4sk"
      },
      "outputs": [],
      "source": []
    },
    {
      "cell_type": "code",
      "execution_count": null,
      "metadata": {
        "colab": {
          "base_uri": "https://localhost:8080/",
          "height": 363
        },
        "id": "5FNGQ6ecYdQU",
        "outputId": "cb502869-f368-4d10-e0f4-b84ab638ca29"
      },
      "outputs": [
        {
          "data": {
            "text/html": [
              "\n",
              "  <div id=\"df-60c92898-913c-4a28-87c9-bc01976d3932\">\n",
              "    <div class=\"colab-df-container\">\n",
              "      <div>\n",
              "<style scoped>\n",
              "    .dataframe tbody tr th:only-of-type {\n",
              "        vertical-align: middle;\n",
              "    }\n",
              "\n",
              "    .dataframe tbody tr th {\n",
              "        vertical-align: top;\n",
              "    }\n",
              "\n",
              "    .dataframe thead th {\n",
              "        text-align: right;\n",
              "    }\n",
              "</style>\n",
              "<table border=\"1\" class=\"dataframe\">\n",
              "  <thead>\n",
              "    <tr style=\"text-align: right;\">\n",
              "      <th></th>\n",
              "      <th>created_at</th>\n",
              "      <th>body</th>\n",
              "      <th>sentiment</th>\n",
              "      <th>raw_content</th>\n",
              "    </tr>\n",
              "  </thead>\n",
              "  <tbody>\n",
              "    <tr>\n",
              "      <th>14</th>\n",
              "      <td>2020-12-15T14:38:18Z</td>\n",
              "      <td>['going', 'right', 'support', 'even', 'superio...</td>\n",
              "      <td>0</td>\n",
              "      <td>$MSFT Going right through 214 support as if it...</td>\n",
              "    </tr>\n",
              "    <tr>\n",
              "      <th>49</th>\n",
              "      <td>2020-12-15T14:23:04Z</td>\n",
              "      <td>['nobody', 'gonna', 'buy', 'expensive', 'as', ...</td>\n",
              "      <td>0</td>\n",
              "      <td>$AAPL nobody gonna buy expensive ass iPhones w...</td>\n",
              "    </tr>\n",
              "    <tr>\n",
              "      <th>61</th>\n",
              "      <td>2020-12-15T14:12:10Z</td>\n",
              "      <td>['robinhood', 'peep', 'gonna', 'severely', 'di...</td>\n",
              "      <td>0</td>\n",
              "      <td>$AAPL Robinhood peeps gonna be severely disapp...</td>\n",
              "    </tr>\n",
              "    <tr>\n",
              "      <th>103</th>\n",
              "      <td>2020-12-15T13:33:52Z</td>\n",
              "      <td>['always', 'dump', 'dump', 'dump']</td>\n",
              "      <td>0</td>\n",
              "      <td>$AAPL always dump dump dump.</td>\n",
              "    </tr>\n",
              "    <tr>\n",
              "      <th>106</th>\n",
              "      <td>2020-12-15T13:30:10Z</td>\n",
              "      <td>['turd', 'going', 'anywhere', 'pathetic']</td>\n",
              "      <td>0</td>\n",
              "      <td>$AAPL why is this turd not going anywhere. Thi...</td>\n",
              "    </tr>\n",
              "    <tr>\n",
              "      <th>112</th>\n",
              "      <td>2020-12-15T13:25:53Z</td>\n",
              "      <td>['increase', 'iphone', 'sale', 'compared', 'pa...</td>\n",
              "      <td>0</td>\n",
              "      <td>$AAPL 30% increase of iPhone sales compared to...</td>\n",
              "    </tr>\n",
              "    <tr>\n",
              "      <th>113</th>\n",
              "      <td>2020-12-15T13:25:29Z</td>\n",
              "      <td>['end', 'up', 'cent', 'profit', 'dry', 'paint'...</td>\n",
              "      <td>0</td>\n",
              "      <td>$AAPL Will end up 5 cents profit in this dry p...</td>\n",
              "    </tr>\n",
              "    <tr>\n",
              "      <th>116</th>\n",
              "      <td>2020-12-15T13:20:23Z</td>\n",
              "      <td>['pump', 'dump']</td>\n",
              "      <td>0</td>\n",
              "      <td>$AAPL pump to dump!</td>\n",
              "    </tr>\n",
              "    <tr>\n",
              "      <th>210</th>\n",
              "      <td>2020-12-15T06:01:59Z</td>\n",
              "      <td>['uh', 'oh', 'down', 'go']</td>\n",
              "      <td>0</td>\n",
              "      <td>$AAPL uh oh.. down she goes</td>\n",
              "    </tr>\n",
              "    <tr>\n",
              "      <th>236</th>\n",
              "      <td>2020-12-15T00:59:15Z</td>\n",
              "      <td>['below', 'tmrw']</td>\n",
              "      <td>0</td>\n",
              "      <td>$AAPL below $120 tmrw</td>\n",
              "    </tr>\n",
              "  </tbody>\n",
              "</table>\n",
              "</div>\n",
              "      <button class=\"colab-df-convert\" onclick=\"convertToInteractive('df-60c92898-913c-4a28-87c9-bc01976d3932')\"\n",
              "              title=\"Convert this dataframe to an interactive table.\"\n",
              "              style=\"display:none;\">\n",
              "        \n",
              "  <svg xmlns=\"http://www.w3.org/2000/svg\" height=\"24px\"viewBox=\"0 0 24 24\"\n",
              "       width=\"24px\">\n",
              "    <path d=\"M0 0h24v24H0V0z\" fill=\"none\"/>\n",
              "    <path d=\"M18.56 5.44l.94 2.06.94-2.06 2.06-.94-2.06-.94-.94-2.06-.94 2.06-2.06.94zm-11 1L8.5 8.5l.94-2.06 2.06-.94-2.06-.94L8.5 2.5l-.94 2.06-2.06.94zm10 10l.94 2.06.94-2.06 2.06-.94-2.06-.94-.94-2.06-.94 2.06-2.06.94z\"/><path d=\"M17.41 7.96l-1.37-1.37c-.4-.4-.92-.59-1.43-.59-.52 0-1.04.2-1.43.59L10.3 9.45l-7.72 7.72c-.78.78-.78 2.05 0 2.83L4 21.41c.39.39.9.59 1.41.59.51 0 1.02-.2 1.41-.59l7.78-7.78 2.81-2.81c.8-.78.8-2.07 0-2.86zM5.41 20L4 18.59l7.72-7.72 1.47 1.35L5.41 20z\"/>\n",
              "  </svg>\n",
              "      </button>\n",
              "      \n",
              "  <style>\n",
              "    .colab-df-container {\n",
              "      display:flex;\n",
              "      flex-wrap:wrap;\n",
              "      gap: 12px;\n",
              "    }\n",
              "\n",
              "    .colab-df-convert {\n",
              "      background-color: #E8F0FE;\n",
              "      border: none;\n",
              "      border-radius: 50%;\n",
              "      cursor: pointer;\n",
              "      display: none;\n",
              "      fill: #1967D2;\n",
              "      height: 32px;\n",
              "      padding: 0 0 0 0;\n",
              "      width: 32px;\n",
              "    }\n",
              "\n",
              "    .colab-df-convert:hover {\n",
              "      background-color: #E2EBFA;\n",
              "      box-shadow: 0px 1px 2px rgba(60, 64, 67, 0.3), 0px 1px 3px 1px rgba(60, 64, 67, 0.15);\n",
              "      fill: #174EA6;\n",
              "    }\n",
              "\n",
              "    [theme=dark] .colab-df-convert {\n",
              "      background-color: #3B4455;\n",
              "      fill: #D2E3FC;\n",
              "    }\n",
              "\n",
              "    [theme=dark] .colab-df-convert:hover {\n",
              "      background-color: #434B5C;\n",
              "      box-shadow: 0px 1px 3px 1px rgba(0, 0, 0, 0.15);\n",
              "      filter: drop-shadow(0px 1px 2px rgba(0, 0, 0, 0.3));\n",
              "      fill: #FFFFFF;\n",
              "    }\n",
              "  </style>\n",
              "\n",
              "      <script>\n",
              "        const buttonEl =\n",
              "          document.querySelector('#df-60c92898-913c-4a28-87c9-bc01976d3932 button.colab-df-convert');\n",
              "        buttonEl.style.display =\n",
              "          google.colab.kernel.accessAllowed ? 'block' : 'none';\n",
              "\n",
              "        async function convertToInteractive(key) {\n",
              "          const element = document.querySelector('#df-60c92898-913c-4a28-87c9-bc01976d3932');\n",
              "          const dataTable =\n",
              "            await google.colab.kernel.invokeFunction('convertToInteractive',\n",
              "                                                     [key], {});\n",
              "          if (!dataTable) return;\n",
              "\n",
              "          const docLinkHtml = 'Like what you see? Visit the ' +\n",
              "            '<a target=\"_blank\" href=https://colab.research.google.com/notebooks/data_table.ipynb>data table notebook</a>'\n",
              "            + ' to learn more about interactive tables.';\n",
              "          element.innerHTML = '';\n",
              "          dataTable['output_type'] = 'display_data';\n",
              "          await google.colab.output.renderOutput(dataTable, element);\n",
              "          const docLink = document.createElement('div');\n",
              "          docLink.innerHTML = docLinkHtml;\n",
              "          element.appendChild(docLink);\n",
              "        }\n",
              "      </script>\n",
              "    </div>\n",
              "  </div>\n",
              "  "
            ],
            "text/plain": [
              "               created_at                                               body  \\\n",
              "14   2020-12-15T14:38:18Z  ['going', 'right', 'support', 'even', 'superio...   \n",
              "49   2020-12-15T14:23:04Z  ['nobody', 'gonna', 'buy', 'expensive', 'as', ...   \n",
              "61   2020-12-15T14:12:10Z  ['robinhood', 'peep', 'gonna', 'severely', 'di...   \n",
              "103  2020-12-15T13:33:52Z                 ['always', 'dump', 'dump', 'dump']   \n",
              "106  2020-12-15T13:30:10Z          ['turd', 'going', 'anywhere', 'pathetic']   \n",
              "112  2020-12-15T13:25:53Z  ['increase', 'iphone', 'sale', 'compared', 'pa...   \n",
              "113  2020-12-15T13:25:29Z  ['end', 'up', 'cent', 'profit', 'dry', 'paint'...   \n",
              "116  2020-12-15T13:20:23Z                                   ['pump', 'dump']   \n",
              "210  2020-12-15T06:01:59Z                         ['uh', 'oh', 'down', 'go']   \n",
              "236  2020-12-15T00:59:15Z                                  ['below', 'tmrw']   \n",
              "\n",
              "     sentiment                                        raw_content  \n",
              "14           0  $MSFT Going right through 214 support as if it...  \n",
              "49           0  $AAPL nobody gonna buy expensive ass iPhones w...  \n",
              "61           0  $AAPL Robinhood peeps gonna be severely disapp...  \n",
              "103          0                       $AAPL always dump dump dump.  \n",
              "106          0  $AAPL why is this turd not going anywhere. Thi...  \n",
              "112          0  $AAPL 30% increase of iPhone sales compared to...  \n",
              "113          0  $AAPL Will end up 5 cents profit in this dry p...  \n",
              "116          0                                $AAPL pump to dump!  \n",
              "210          0                       $AAPL uh oh.. down she goes   \n",
              "236          0                              $AAPL below $120 tmrw  "
            ]
          },
          "execution_count": 5,
          "metadata": {},
          "output_type": "execute_result"
        }
      ],
      "source": [
        "data.head(10)"
      ]
    },
    {
      "cell_type": "code",
      "execution_count": null,
      "metadata": {
        "colab": {
          "base_uri": "https://localhost:8080/"
        },
        "id": "10dSVin4neZC",
        "outputId": "49a17a37-0af0-4007-bf96-ce4b4162d267"
      },
      "outputs": [
        {
          "data": {
            "text/plain": [
              "(431285, 4)"
            ]
          },
          "execution_count": 12,
          "metadata": {},
          "output_type": "execute_result"
        }
      ],
      "source": [
        "data[data['sentiment']  == 1].shape"
      ]
    },
    {
      "cell_type": "code",
      "execution_count": null,
      "metadata": {
        "colab": {
          "base_uri": "https://localhost:8080/",
          "height": 424
        },
        "id": "UEJ3DBu7F5C_",
        "outputId": "2d1fd2c8-6e91-4660-9a2c-998cdd84026c"
      },
      "outputs": [
        {
          "data": {
            "text/html": [
              "\n",
              "  <div id=\"df-14ce95d9-de6e-4882-9b5a-010b619f9611\">\n",
              "    <div class=\"colab-df-container\">\n",
              "      <div>\n",
              "<style scoped>\n",
              "    .dataframe tbody tr th:only-of-type {\n",
              "        vertical-align: middle;\n",
              "    }\n",
              "\n",
              "    .dataframe tbody tr th {\n",
              "        vertical-align: top;\n",
              "    }\n",
              "\n",
              "    .dataframe thead th {\n",
              "        text-align: right;\n",
              "    }\n",
              "</style>\n",
              "<table border=\"1\" class=\"dataframe\">\n",
              "  <thead>\n",
              "    <tr style=\"text-align: right;\">\n",
              "      <th></th>\n",
              "      <th>created_at</th>\n",
              "      <th>body</th>\n",
              "      <th>sentiment</th>\n",
              "      <th>raw_content</th>\n",
              "    </tr>\n",
              "  </thead>\n",
              "  <tbody>\n",
              "    <tr>\n",
              "      <th>0</th>\n",
              "      <td>2021-05-21T13:53:26Z</td>\n",
              "      <td>['lucid', 'motor', 'new', 'king', 'ev', 'waiti...</td>\n",
              "      <td>1</td>\n",
              "      <td>$CCIV $TSLA Lucid Motors is the NEW King of EV...</td>\n",
              "    </tr>\n",
              "    <tr>\n",
              "      <th>1</th>\n",
              "      <td>2020-01-30T15:01:15Z</td>\n",
              "      <td>['facebook', 'bargain', 'opinion']</td>\n",
              "      <td>1</td>\n",
              "      <td>$TSLA Facebook is a bargain. Opinions?</td>\n",
              "    </tr>\n",
              "    <tr>\n",
              "      <th>2</th>\n",
              "      <td>2020-08-18T08:17:57Z</td>\n",
              "      <td>['love', 'tesla', 'get', 'model', 'y', 'tesla'...</td>\n",
              "      <td>1</td>\n",
              "      <td>$TSLA I love you Tesla!  about to get a Model ...</td>\n",
              "    </tr>\n",
              "    <tr>\n",
              "      <th>3</th>\n",
              "      <td>2020-03-25T05:58:18Z</td>\n",
              "      <td>['coronavirus', 'bill', 'passed', 'trillion', ...</td>\n",
              "      <td>1</td>\n",
              "      <td>Coronavirus bill passed.. 2 trillion into it!!...</td>\n",
              "    </tr>\n",
              "    <tr>\n",
              "      <th>4</th>\n",
              "      <td>2021-01-14T16:04:38Z</td>\n",
              "      <td>['close', 'hour', 'above', 'game', 'immediate'...</td>\n",
              "      <td>1</td>\n",
              "      <td>$NVDA If this closes hour above $537.25 it&amp;#39...</td>\n",
              "    </tr>\n",
              "    <tr>\n",
              "      <th>...</th>\n",
              "      <td>...</td>\n",
              "      <td>...</td>\n",
              "      <td>...</td>\n",
              "      <td>...</td>\n",
              "    </tr>\n",
              "    <tr>\n",
              "      <th>599995</th>\n",
              "      <td>2021-05-24T18:33:11Z</td>\n",
              "      <td>['bull', 'trap', 'next']</td>\n",
              "      <td>0</td>\n",
              "      <td>$TSLA bull trap 🪤 595 next ⛔️⛔️⛔️❌❌</td>\n",
              "    </tr>\n",
              "    <tr>\n",
              "      <th>599996</th>\n",
              "      <td>2020-06-02T19:14:13Z</td>\n",
              "      <td>['another', 'boring', 'day', 'like', 'agree']</td>\n",
              "      <td>0</td>\n",
              "      <td>$AAPL another boring day.  Like if you agree</td>\n",
              "    </tr>\n",
              "    <tr>\n",
              "      <th>599997</th>\n",
              "      <td>2022-02-03T23:04:33Z</td>\n",
              "      <td>['told', 'metaverse', 'scam']</td>\n",
              "      <td>0</td>\n",
              "      <td>$FB I told you Metaverse is a scam</td>\n",
              "    </tr>\n",
              "    <tr>\n",
              "      <th>599998</th>\n",
              "      <td>2020-06-12T18:23:32Z</td>\n",
              "      <td>['mentioning', 'scam', 'breath', 'crime']</td>\n",
              "      <td>0</td>\n",
              "      <td>$NKLA Mentioning this Scam in a same breath wi...</td>\n",
              "    </tr>\n",
              "    <tr>\n",
              "      <th>599999</th>\n",
              "      <td>2021-06-08T04:33:52Z</td>\n",
              "      <td>['btc', 'facked']</td>\n",
              "      <td>0</td>\n",
              "      <td>$TSLA \\nBTC is facked</td>\n",
              "    </tr>\n",
              "  </tbody>\n",
              "</table>\n",
              "<p>600000 rows × 4 columns</p>\n",
              "</div>\n",
              "      <button class=\"colab-df-convert\" onclick=\"convertToInteractive('df-14ce95d9-de6e-4882-9b5a-010b619f9611')\"\n",
              "              title=\"Convert this dataframe to an interactive table.\"\n",
              "              style=\"display:none;\">\n",
              "        \n",
              "  <svg xmlns=\"http://www.w3.org/2000/svg\" height=\"24px\"viewBox=\"0 0 24 24\"\n",
              "       width=\"24px\">\n",
              "    <path d=\"M0 0h24v24H0V0z\" fill=\"none\"/>\n",
              "    <path d=\"M18.56 5.44l.94 2.06.94-2.06 2.06-.94-2.06-.94-.94-2.06-.94 2.06-2.06.94zm-11 1L8.5 8.5l.94-2.06 2.06-.94-2.06-.94L8.5 2.5l-.94 2.06-2.06.94zm10 10l.94 2.06.94-2.06 2.06-.94-2.06-.94-.94-2.06-.94 2.06-2.06.94z\"/><path d=\"M17.41 7.96l-1.37-1.37c-.4-.4-.92-.59-1.43-.59-.52 0-1.04.2-1.43.59L10.3 9.45l-7.72 7.72c-.78.78-.78 2.05 0 2.83L4 21.41c.39.39.9.59 1.41.59.51 0 1.02-.2 1.41-.59l7.78-7.78 2.81-2.81c.8-.78.8-2.07 0-2.86zM5.41 20L4 18.59l7.72-7.72 1.47 1.35L5.41 20z\"/>\n",
              "  </svg>\n",
              "      </button>\n",
              "      \n",
              "  <style>\n",
              "    .colab-df-container {\n",
              "      display:flex;\n",
              "      flex-wrap:wrap;\n",
              "      gap: 12px;\n",
              "    }\n",
              "\n",
              "    .colab-df-convert {\n",
              "      background-color: #E8F0FE;\n",
              "      border: none;\n",
              "      border-radius: 50%;\n",
              "      cursor: pointer;\n",
              "      display: none;\n",
              "      fill: #1967D2;\n",
              "      height: 32px;\n",
              "      padding: 0 0 0 0;\n",
              "      width: 32px;\n",
              "    }\n",
              "\n",
              "    .colab-df-convert:hover {\n",
              "      background-color: #E2EBFA;\n",
              "      box-shadow: 0px 1px 2px rgba(60, 64, 67, 0.3), 0px 1px 3px 1px rgba(60, 64, 67, 0.15);\n",
              "      fill: #174EA6;\n",
              "    }\n",
              "\n",
              "    [theme=dark] .colab-df-convert {\n",
              "      background-color: #3B4455;\n",
              "      fill: #D2E3FC;\n",
              "    }\n",
              "\n",
              "    [theme=dark] .colab-df-convert:hover {\n",
              "      background-color: #434B5C;\n",
              "      box-shadow: 0px 1px 3px 1px rgba(0, 0, 0, 0.15);\n",
              "      filter: drop-shadow(0px 1px 2px rgba(0, 0, 0, 0.3));\n",
              "      fill: #FFFFFF;\n",
              "    }\n",
              "  </style>\n",
              "\n",
              "      <script>\n",
              "        const buttonEl =\n",
              "          document.querySelector('#df-14ce95d9-de6e-4882-9b5a-010b619f9611 button.colab-df-convert');\n",
              "        buttonEl.style.display =\n",
              "          google.colab.kernel.accessAllowed ? 'block' : 'none';\n",
              "\n",
              "        async function convertToInteractive(key) {\n",
              "          const element = document.querySelector('#df-14ce95d9-de6e-4882-9b5a-010b619f9611');\n",
              "          const dataTable =\n",
              "            await google.colab.kernel.invokeFunction('convertToInteractive',\n",
              "                                                     [key], {});\n",
              "          if (!dataTable) return;\n",
              "\n",
              "          const docLinkHtml = 'Like what you see? Visit the ' +\n",
              "            '<a target=\"_blank\" href=https://colab.research.google.com/notebooks/data_table.ipynb>data table notebook</a>'\n",
              "            + ' to learn more about interactive tables.';\n",
              "          element.innerHTML = '';\n",
              "          dataTable['output_type'] = 'display_data';\n",
              "          await google.colab.output.renderOutput(dataTable, element);\n",
              "          const docLink = document.createElement('div');\n",
              "          docLink.innerHTML = docLinkHtml;\n",
              "          element.appendChild(docLink);\n",
              "        }\n",
              "      </script>\n",
              "    </div>\n",
              "  </div>\n",
              "  "
            ],
            "text/plain": [
              "                  created_at  \\\n",
              "0       2021-05-21T13:53:26Z   \n",
              "1       2020-01-30T15:01:15Z   \n",
              "2       2020-08-18T08:17:57Z   \n",
              "3       2020-03-25T05:58:18Z   \n",
              "4       2021-01-14T16:04:38Z   \n",
              "...                      ...   \n",
              "599995  2021-05-24T18:33:11Z   \n",
              "599996  2020-06-02T19:14:13Z   \n",
              "599997  2022-02-03T23:04:33Z   \n",
              "599998  2020-06-12T18:23:32Z   \n",
              "599999  2021-06-08T04:33:52Z   \n",
              "\n",
              "                                                     body  sentiment  \\\n",
              "0       ['lucid', 'motor', 'new', 'king', 'ev', 'waiti...          1   \n",
              "1                      ['facebook', 'bargain', 'opinion']          1   \n",
              "2       ['love', 'tesla', 'get', 'model', 'y', 'tesla'...          1   \n",
              "3       ['coronavirus', 'bill', 'passed', 'trillion', ...          1   \n",
              "4       ['close', 'hour', 'above', 'game', 'immediate'...          1   \n",
              "...                                                   ...        ...   \n",
              "599995                           ['bull', 'trap', 'next']          0   \n",
              "599996      ['another', 'boring', 'day', 'like', 'agree']          0   \n",
              "599997                      ['told', 'metaverse', 'scam']          0   \n",
              "599998          ['mentioning', 'scam', 'breath', 'crime']          0   \n",
              "599999                                  ['btc', 'facked']          0   \n",
              "\n",
              "                                              raw_content  \n",
              "0       $CCIV $TSLA Lucid Motors is the NEW King of EV...  \n",
              "1                  $TSLA Facebook is a bargain. Opinions?  \n",
              "2       $TSLA I love you Tesla!  about to get a Model ...  \n",
              "3       Coronavirus bill passed.. 2 trillion into it!!...  \n",
              "4       $NVDA If this closes hour above $537.25 it&#39...  \n",
              "...                                                   ...  \n",
              "599995                $TSLA bull trap 🪤 595 next ⛔️⛔️⛔️❌❌  \n",
              "599996       $AAPL another boring day.  Like if you agree  \n",
              "599997                 $FB I told you Metaverse is a scam  \n",
              "599998  $NKLA Mentioning this Scam in a same breath wi...  \n",
              "599999                              $TSLA \\nBTC is facked  \n",
              "\n",
              "[600000 rows x 4 columns]"
            ]
          },
          "execution_count": 77,
          "metadata": {},
          "output_type": "execute_result"
        }
      ],
      "source": [
        "new_bull = data[data['sentiment']  == 1].sample(300000)\n",
        "new_bear = data[data['sentiment']  == 0].sample(300000)\n",
        "new_df = pd.concat([new_bull, new_bear], ignore_index=True)\n",
        "new_df"
      ]
    },
    {
      "cell_type": "code",
      "execution_count": null,
      "metadata": {
        "colab": {
          "base_uri": "https://localhost:8080/"
        },
        "id": "VSPQGqqNneGH",
        "outputId": "7875bee9-2aec-42b1-9d37-3fcf99c7a74d"
      },
      "outputs": [
        {
          "data": {
            "text/plain": [
              "(431285, 4)"
            ]
          },
          "execution_count": 13,
          "metadata": {},
          "output_type": "execute_result"
        }
      ],
      "source": [
        "data[data['sentiment']  == 0].shape"
      ]
    },
    {
      "cell_type": "code",
      "execution_count": null,
      "metadata": {
        "id": "L7fINyXa3iGU"
      },
      "outputs": [],
      "source": [
        "from sklearn.model_selection import train_test_split\n",
        "X_train, X_val, y_train, y_val = train_test_split(data['raw_content'], data['sentiment'], test_size=0.2, random_state=42)"
      ]
    },
    {
      "cell_type": "code",
      "execution_count": null,
      "metadata": {
        "colab": {
          "base_uri": "https://localhost:8080/"
        },
        "id": "80F5vvETaABt",
        "outputId": "781a49a4-d8a5-42b7-f25c-eab9ee032a70"
      },
      "outputs": [
        {
          "name": "stdout",
          "output_type": "stream",
          "text": [
            "X_train: (690056,)\n",
            "X_test: (172514,)\n",
            "y_train: (690056,)\n",
            "y_test: (172514,)\n"
          ]
        }
      ],
      "source": [
        "print(\"X_train:\", X_train.shape)\n",
        "print(\"X_test:\", X_val.shape)\n",
        "print(\"y_train:\", y_train.shape)\n",
        "print(\"y_test:\", y_val.shape)"
      ]
    },
    {
      "cell_type": "code",
      "execution_count": null,
      "metadata": {
        "colab": {
          "base_uri": "https://localhost:8080/"
        },
        "id": "UL-6pO6OzOjm",
        "outputId": "6ef1176f-3853-4b5d-cd79-d46247982537"
      },
      "outputs": [
        {
          "name": "stderr",
          "output_type": "stream",
          "text": [
            "Special tokens have been added in the vocabulary, make sure the associated word embeddings are fine-tuned or trained.\n"
          ]
        }
      ],
      "source": [
        "MAX_LEN = 31\n",
        "tokenizer = transformers.AutoTokenizer.from_pretrained('vinai/bertweet-base', \n",
        "                                          normalization=True, \n",
        "                                          use_fast = False,\n",
        "                                          add_special_tokens=True,\n",
        "                                          pad_to_max_length=True,\n",
        "                                          return_attention_mask=True)\n",
        "\n",
        "train_token = tokenizer(X_train.tolist(), \n",
        "                    padding=\"max_length\", \n",
        "                    max_length=MAX_LEN,\n",
        "                    truncation=True,\n",
        "                    return_tensors = 'tf').data\n",
        "val_token = tokenizer(X_val.tolist(), \n",
        "                    padding=\"max_length\", \n",
        "                    max_length=MAX_LEN,\n",
        "                    truncation=True,\n",
        "                    return_tensors = 'tf').data\n",
        "\n",
        "train_features = {x: train_token[x] for x in tokenizer.model_input_names}\n",
        "train_tf_dataset = tf.data.Dataset.from_tensor_slices((train_features, y_train))\n",
        "train_tf_dataset = train_tf_dataset.shuffle(len(X_train)).batch(32).prefetch(tf.data.AUTOTUNE)\n",
        "\n",
        "val_features = {x: val_token[x] for x in tokenizer.model_input_names}\n",
        "val_tf_dataset = tf.data.Dataset.from_tensor_slices((val_features, y_val))\n",
        "val_tf_dataset = val_tf_dataset.shuffle(len(X_val)).batch(32).prefetch(tf.data.AUTOTUNE)"
      ]
    },
    {
      "cell_type": "code",
      "execution_count": null,
      "metadata": {
        "colab": {
          "base_uri": "https://localhost:8080/"
        },
        "id": "rc_A9-5JtPL4",
        "outputId": "3ad23c84-ef5d-44bb-9439-88d067329d99"
      },
      "outputs": [
        {
          "name": "stderr",
          "output_type": "stream",
          "text": [
            "Some layers from the model checkpoint at vinai/bertweet-base were not used when initializing TFRobertaModel: ['lm_head']\n",
            "- This IS expected if you are initializing TFRobertaModel from the checkpoint of a model trained on another task or with another architecture (e.g. initializing a BertForSequenceClassification model from a BertForPreTraining model).\n",
            "- This IS NOT expected if you are initializing TFRobertaModel from the checkpoint of a model that you expect to be exactly identical (initializing a BertForSequenceClassification model from a BertForSequenceClassification model).\n",
            "All the layers of TFRobertaModel were initialized from the model checkpoint at vinai/bertweet-base.\n",
            "If your task is similar to the task the model of the checkpoint was trained on, you can already use TFRobertaModel for predictions without further training.\n"
          ]
        }
      ],
      "source": [
        "bert_model = transformers.TFRobertaModel.from_pretrained(\"vinai/bertweet-base\")\n",
        "\n",
        "input_ids = tf.keras.Input(shape=(MAX_LEN,),dtype='int32', name = 'input_ids')\n",
        "attention_masks = tf.keras.Input(shape=(MAX_LEN,),dtype='int32', name = 'attention_mask')\n",
        "\n",
        "output = bert_model([input_ids,attention_masks])[1]\n",
        "output = tf.keras.layers.Dense(250,activation='relu')(output)\n",
        "output = tf.keras.layers.Dropout(0.3)(output)\n",
        "output = tf.keras.layers.Dense(1,activation='sigmoid')(output)\n",
        "\n",
        "model = tf.keras.models.Model(inputs = [input_ids,attention_masks], outputs = output)\n",
        "\n",
        "\n",
        "model.compile(tf.keras.optimizers.Adam(learning_rate = 5e-6), \n",
        "              loss='binary_crossentropy', \n",
        "              metrics=['accuracy'])\n",
        "\n",
        "# Prevent training the transformer from training again\n",
        "model.layers[2].trainable = False"
      ]
    },
    {
      "cell_type": "code",
      "execution_count": null,
      "metadata": {
        "colab": {
          "background_save": true,
          "base_uri": "https://localhost:8080/"
        },
        "id": "BeC46kxIsbPI",
        "outputId": "aa176ab4-ed77-4355-db4a-04df680fa97f"
      },
      "outputs": [
        {
          "name": "stdout",
          "output_type": "stream",
          "text": [
            "Epoch 1/3\n",
            "21565/21565 [==============================] - 5290s 243ms/step - loss: 0.3922 - accuracy: 0.8185 - val_loss: 0.3441 - val_accuracy: 0.8465\n",
            "Epoch 2/3\n",
            "21565/21565 [==============================] - 5228s 242ms/step - loss: 0.3206 - accuracy: 0.8586 - val_loss: 0.3324 - val_accuracy: 0.8588\n",
            "Epoch 3/3\n",
            "21565/21565 [==============================] - 5204s 241ms/step - loss: 0.2864 - accuracy: 0.8761 - val_loss: 0.3276 - val_accuracy: 0.8607\n"
          ]
        }
      ],
      "source": [
        "history = model.fit(train_tf_dataset, validation_data = val_tf_dataset, epochs = 3)"
      ]
    },
    {
      "cell_type": "code",
      "execution_count": null,
      "metadata": {
        "id": "fsyaGZuesbLw"
      },
      "outputs": [],
      "source": []
    },
    {
      "cell_type": "code",
      "execution_count": null,
      "metadata": {
        "id": "ukuFVeF3sbIe"
      },
      "outputs": [],
      "source": []
    },
    {
      "cell_type": "code",
      "execution_count": null,
      "metadata": {
        "id": "9zIy06pPsbFO"
      },
      "outputs": [],
      "source": []
    },
    {
      "cell_type": "code",
      "execution_count": null,
      "metadata": {
        "id": "VlgK9DAVcSWN"
      },
      "outputs": [],
      "source": []
    },
    {
      "cell_type": "code",
      "execution_count": null,
      "metadata": {
        "id": "Y3ZOmo4fZTAi"
      },
      "outputs": [],
      "source": [
        "model_json = model.to_json()\n",
        "with open(\"capstone_ROBERTA_model.json\", \"w\") as json_file:\n",
        "    json_file.write(model_json)"
      ]
    },
    {
      "cell_type": "code",
      "execution_count": null,
      "metadata": {
        "id": "FZwjh802-6Rs"
      },
      "outputs": [],
      "source": [
        "model.save('capstone_ROBERTA.h5')"
      ]
    },
    {
      "cell_type": "code",
      "execution_count": null,
      "metadata": {
        "id": "7GwpQ1WHu7En"
      },
      "outputs": [],
      "source": [
        "model.save_weights(\"capstone_ROBERTA_weights.h5\")"
      ]
    }
  ],
  "metadata": {
    "accelerator": "GPU",
    "colab": {
      "provenance": []
    },
    "gpuClass": "standard",
    "kernelspec": {
      "display_name": "Python 3",
      "name": "python3"
    },
    "language_info": {
      "name": "python"
    }
  },
  "nbformat": 4,
  "nbformat_minor": 0
}