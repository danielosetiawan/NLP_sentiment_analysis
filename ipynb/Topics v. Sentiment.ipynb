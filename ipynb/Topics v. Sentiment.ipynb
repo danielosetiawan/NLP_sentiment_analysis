{
 "cells": [
  {
   "cell_type": "code",
   "execution_count": 1,
   "id": "3e4cef23",
   "metadata": {},
   "outputs": [],
   "source": [
    "import pandas as pd"
   ]
  },
  {
   "cell_type": "code",
   "execution_count": 13,
   "id": "5550157c",
   "metadata": {},
   "outputs": [],
   "source": [
    "def sentiment_labeler(x):\n",
    "    if x < 0.4:\n",
    "        return 'negative'\n",
    "    elif x < 0.6:\n",
    "        return 'neutral'\n",
    "    else:\n",
    "        return 'positive'"
   ]
  },
  {
   "cell_type": "code",
   "execution_count": 14,
   "id": "26ca5f43",
   "metadata": {},
   "outputs": [],
   "source": [
    "topics = ['bonds', 'cryptocurrency', 'economy', 'interest_rates', 'recession', 'unemployment']#, 'inflation']\n",
    "\n",
    "for topic in topics:\n",
    "    df = pd.read_csv(f'./data/cleaned_up_data/cleaned_{topic}.csv').iloc[:, 1:]\n",
    "    df.Datetime = pd.to_datetime(df.Datetime).dt.strftime('%Y-%m-%d %H:00:00')\n",
    "    df['labels'] = df['sentiment'].apply(sentiment_labeler)\n",
    "    data = df.groupby('Datetime').agg({'sentiment': 'mean'}).reset_index()\n",
    "    data['labels'] = data['sentiment'].apply(sentiment_labeler)\n",
    "    \n",
    "    \n",
    "    globals()[topic] = data\n",
    "    globals()[f'{topic}_raw'] = df.copy()"
   ]
  },
  {
   "cell_type": "code",
   "execution_count": null,
   "id": "48b91fe7",
   "metadata": {},
   "outputs": [],
   "source": [
    "for topic in topics:\n",
    "    df = pd.read_csv(f'../data/cleaned_up_data/{topic}.csv').iloc[:, 1:]\n",
    "    df.Datetime = pd.to_datetime(df.Datetime).dt.strftime('%Y-%m-%d %H:00:00')\n",
    "    df['labels'] = df['sentiment'].apply(sentiment_labeler)\n",
    "    data = df.groupby('Datetime').agg({'sentiment': 'mean'}).reset_index()\n",
    "    data['labels'] = data['sentiment'].apply(sentiment_labeler)"
   ]
  },
  {
   "cell_type": "code",
   "execution_count": 50,
   "id": "c3c3d45b",
   "metadata": {},
   "outputs": [
    {
     "data": {
      "text/plain": [
       "0.3118503370276715"
      ]
     },
     "execution_count": 50,
     "metadata": {},
     "output_type": "execute_result"
    }
   ],
   "source": [
    "df[df.Datetime.between(start_date, end_date)]['sentiment'].mean()"
   ]
  },
  {
   "cell_type": "code",
   "execution_count": 67,
   "id": "54962f53",
   "metadata": {},
   "outputs": [],
   "source": [
    "df.Datetime = pd.to_datetime(df.Datetime)\n",
    "end_date = df.Datetime.max()\n",
    "start_date = end_date - pd.Timedelta(days=1)\n",
    "\n",
    "sent_val = df[df.Datetime.between(start_date, end_date)]"
   ]
  },
  {
   "cell_type": "code",
   "execution_count": 81,
   "id": "d1047979",
   "metadata": {},
   "outputs": [
    {
     "data": {
      "text/plain": [
       "array([0.33767412])"
      ]
     },
     "execution_count": 81,
     "metadata": {},
     "output_type": "execute_result"
    }
   ],
   "source": [
    "sent_today = df[df.Datetime == df.Datetime.max()].sentiment.values\n",
    "sent_yday = df[df.Datetime == df.Datetime.max()-1].sentiment.values\n",
    "\n",
    "if sent_today > sent_yday:\n",
    "    traj = 'Rising'\n",
    "    icon = 'fa-caret-up'\n",
    "else:\n",
    "    traj = 'Falling'\n",
    "    icon = 'fa-fa-down'"
   ]
  },
  {
   "cell_type": "code",
   "execution_count": 88,
   "id": "78bc360e",
   "metadata": {},
   "outputs": [
    {
     "data": {
      "text/html": [
       "<div>\n",
       "<style scoped>\n",
       "    .dataframe tbody tr th:only-of-type {\n",
       "        vertical-align: middle;\n",
       "    }\n",
       "\n",
       "    .dataframe tbody tr th {\n",
       "        vertical-align: top;\n",
       "    }\n",
       "\n",
       "    .dataframe thead th {\n",
       "        text-align: right;\n",
       "    }\n",
       "</style>\n",
       "<table border=\"1\" class=\"dataframe\">\n",
       "  <thead>\n",
       "    <tr style=\"text-align: right;\">\n",
       "      <th></th>\n",
       "      <th>Datetime</th>\n",
       "      <th>sentiment</th>\n",
       "      <th>labels</th>\n",
       "    </tr>\n",
       "  </thead>\n",
       "  <tbody>\n",
       "    <tr>\n",
       "      <th>0</th>\n",
       "      <td>2022-12-26 00:00:00</td>\n",
       "      <td>0.840232</td>\n",
       "      <td>positive</td>\n",
       "    </tr>\n",
       "    <tr>\n",
       "      <th>1</th>\n",
       "      <td>2022-12-27 00:00:00</td>\n",
       "      <td>0.858283</td>\n",
       "      <td>positive</td>\n",
       "    </tr>\n",
       "    <tr>\n",
       "      <th>2</th>\n",
       "      <td>2022-12-28 00:00:00</td>\n",
       "      <td>0.830326</td>\n",
       "      <td>positive</td>\n",
       "    </tr>\n",
       "    <tr>\n",
       "      <th>3</th>\n",
       "      <td>2022-12-29 00:00:00</td>\n",
       "      <td>0.838733</td>\n",
       "      <td>positive</td>\n",
       "    </tr>\n",
       "    <tr>\n",
       "      <th>4</th>\n",
       "      <td>2022-12-30 00:00:00</td>\n",
       "      <td>0.834539</td>\n",
       "      <td>positive</td>\n",
       "    </tr>\n",
       "    <tr>\n",
       "      <th>...</th>\n",
       "      <td>...</td>\n",
       "      <td>...</td>\n",
       "      <td>...</td>\n",
       "    </tr>\n",
       "    <tr>\n",
       "      <th>58</th>\n",
       "      <td>2023-02-22 00:00:00</td>\n",
       "      <td>0.809376</td>\n",
       "      <td>positive</td>\n",
       "    </tr>\n",
       "    <tr>\n",
       "      <th>59</th>\n",
       "      <td>2023-02-23 00:00:00</td>\n",
       "      <td>0.833196</td>\n",
       "      <td>positive</td>\n",
       "    </tr>\n",
       "    <tr>\n",
       "      <th>60</th>\n",
       "      <td>2023-02-24 00:00:00</td>\n",
       "      <td>0.794792</td>\n",
       "      <td>positive</td>\n",
       "    </tr>\n",
       "    <tr>\n",
       "      <th>61</th>\n",
       "      <td>2023-02-25 00:00:00</td>\n",
       "      <td>0.825818</td>\n",
       "      <td>positive</td>\n",
       "    </tr>\n",
       "    <tr>\n",
       "      <th>62</th>\n",
       "      <td>2023-02-26 00:00:00</td>\n",
       "      <td>0.865661</td>\n",
       "      <td>positive</td>\n",
       "    </tr>\n",
       "  </tbody>\n",
       "</table>\n",
       "<p>63 rows × 3 columns</p>\n",
       "</div>"
      ],
      "text/plain": [
       "               Datetime  sentiment    labels\n",
       "0   2022-12-26 00:00:00   0.840232  positive\n",
       "1   2022-12-27 00:00:00   0.858283  positive\n",
       "2   2022-12-28 00:00:00   0.830326  positive\n",
       "3   2022-12-29 00:00:00   0.838733  positive\n",
       "4   2022-12-30 00:00:00   0.834539  positive\n",
       "..                  ...        ...       ...\n",
       "58  2023-02-22 00:00:00   0.809376  positive\n",
       "59  2023-02-23 00:00:00   0.833196  positive\n",
       "60  2023-02-24 00:00:00   0.794792  positive\n",
       "61  2023-02-25 00:00:00   0.825818  positive\n",
       "62  2023-02-26 00:00:00   0.865661  positive\n",
       "\n",
       "[63 rows x 3 columns]"
      ]
     },
     "execution_count": 88,
     "metadata": {},
     "output_type": "execute_result"
    }
   ],
   "source": [
    "cryptocurrency"
   ]
  },
  {
   "cell_type": "code",
   "execution_count": 47,
   "id": "db911131",
   "metadata": {},
   "outputs": [
    {
     "data": {
      "text/html": [
       "<div>\n",
       "<style scoped>\n",
       "    .dataframe tbody tr th:only-of-type {\n",
       "        vertical-align: middle;\n",
       "    }\n",
       "\n",
       "    .dataframe tbody tr th {\n",
       "        vertical-align: top;\n",
       "    }\n",
       "\n",
       "    .dataframe thead th {\n",
       "        text-align: right;\n",
       "    }\n",
       "</style>\n",
       "<table border=\"1\" class=\"dataframe\">\n",
       "  <thead>\n",
       "    <tr style=\"text-align: right;\">\n",
       "      <th></th>\n",
       "      <th>Datetime</th>\n",
       "      <th>sentiment</th>\n",
       "      <th>labels</th>\n",
       "    </tr>\n",
       "  </thead>\n",
       "  <tbody>\n",
       "    <tr>\n",
       "      <th>361</th>\n",
       "      <td>2023-02-19</td>\n",
       "      <td>0.331904</td>\n",
       "      <td>negative</td>\n",
       "    </tr>\n",
       "    <tr>\n",
       "      <th>362</th>\n",
       "      <td>2023-02-20</td>\n",
       "      <td>0.298197</td>\n",
       "      <td>negative</td>\n",
       "    </tr>\n",
       "    <tr>\n",
       "      <th>363</th>\n",
       "      <td>2023-02-21</td>\n",
       "      <td>0.367313</td>\n",
       "      <td>negative</td>\n",
       "    </tr>\n",
       "    <tr>\n",
       "      <th>364</th>\n",
       "      <td>2023-02-22</td>\n",
       "      <td>0.303769</td>\n",
       "      <td>negative</td>\n",
       "    </tr>\n",
       "    <tr>\n",
       "      <th>365</th>\n",
       "      <td>2023-02-23</td>\n",
       "      <td>0.300090</td>\n",
       "      <td>negative</td>\n",
       "    </tr>\n",
       "    <tr>\n",
       "      <th>366</th>\n",
       "      <td>2023-02-24</td>\n",
       "      <td>0.290560</td>\n",
       "      <td>negative</td>\n",
       "    </tr>\n",
       "    <tr>\n",
       "      <th>367</th>\n",
       "      <td>2023-02-25</td>\n",
       "      <td>0.265295</td>\n",
       "      <td>negative</td>\n",
       "    </tr>\n",
       "    <tr>\n",
       "      <th>368</th>\n",
       "      <td>2023-02-26</td>\n",
       "      <td>0.337674</td>\n",
       "      <td>negative</td>\n",
       "    </tr>\n",
       "  </tbody>\n",
       "</table>\n",
       "</div>"
      ],
      "text/plain": [
       "      Datetime  sentiment    labels\n",
       "361 2023-02-19   0.331904  negative\n",
       "362 2023-02-20   0.298197  negative\n",
       "363 2023-02-21   0.367313  negative\n",
       "364 2023-02-22   0.303769  negative\n",
       "365 2023-02-23   0.300090  negative\n",
       "366 2023-02-24   0.290560  negative\n",
       "367 2023-02-25   0.265295  negative\n",
       "368 2023-02-26   0.337674  negative"
      ]
     },
     "execution_count": 47,
     "metadata": {},
     "output_type": "execute_result"
    }
   ],
   "source": [
    "df.Datetime = pd.to_datetime(df.Datetime)\n",
    "end_date = pd.to_datetime(df.Datetime.max())\n",
    "start_date = end_date - pd.Timedelta(days=7)\n",
    "\n",
    "sent_val = df[df.Datetime.between(start_date, end_date)]['sentiment'].mean()\n",
    "\n",
    "if sent_val <= 0.2:\n",
    "    sent = 'very negative'\n",
    "elif sent_val <= 0.4:\n",
    "    sent = 'negative'\n",
    "elif sent_val <= 0.6:\n",
    "    sent = 'neutral'\n",
    "elif sent_val <= 0.8:\n",
    "    sent_val = 'positive'\n",
    "else:\n",
    "    sent_val = 'very positive'"
   ]
  },
  {
   "cell_type": "code",
   "execution_count": 49,
   "id": "d900e3a7",
   "metadata": {},
   "outputs": [
    {
     "data": {
      "text/plain": [
       "negative    367\n",
       "neutral       2\n",
       "Name: labels, dtype: int64"
      ]
     },
     "execution_count": 49,
     "metadata": {},
     "output_type": "execute_result"
    }
   ],
   "source": [
    "df['labels']"
   ]
  },
  {
   "cell_type": "code",
   "execution_count": null,
   "id": "1f13a7ee",
   "metadata": {},
   "outputs": [],
   "source": []
  }
 ],
 "metadata": {
  "kernelspec": {
   "display_name": "Python 3 (ipykernel)",
   "language": "python",
   "name": "python3"
  },
  "language_info": {
   "codemirror_mode": {
    "name": "ipython",
    "version": 3
   },
   "file_extension": ".py",
   "mimetype": "text/x-python",
   "name": "python",
   "nbconvert_exporter": "python",
   "pygments_lexer": "ipython3",
   "version": "3.8.16"
  }
 },
 "nbformat": 4,
 "nbformat_minor": 5
}
