{
  "cells": [
    {
      "cell_type": "code",
      "execution_count": 1,
      "metadata": {
        "colab": {
          "base_uri": "https://localhost:8080/"
        },
        "id": "kbTDHaveJPTB",
        "outputId": "113b047d-d1a3-463a-a879-684a0877d73d"
      },
      "outputs": [
        {
          "output_type": "stream",
          "name": "stdout",
          "text": [
            "Mounted at /content/drive\n"
          ]
        }
      ],
      "source": [
        "from google.colab import drive\n",
        "drive.mount('/content/drive')\n",
        "import os\n",
        "os.chdir(\"/content/drive/MyDrive/Colab Notebooks\")"
      ]
    },
    {
      "cell_type": "code",
      "execution_count": 2,
      "metadata": {
        "id": "v0t4CosZJaKM"
      },
      "outputs": [],
      "source": [
        "import numpy as np\n",
        "import os\n",
        "import matplotlib.pyplot as plt\n",
        "import seaborn as sns\n",
        "import pandas as pd\n",
        "\n",
        "from numpy.random import seed\n",
        "seed(1337)\n",
        "from tensorflow import random\n",
        "random.set_seed(42)\n",
        "import tensorflow as tf\n",
        "\n",
        "from sklearn.metrics import classification_report, accuracy_score\n",
        "import keras\n",
        "from keras import optimizers\n",
        "from keras.models import Sequential\n",
        "from keras.layers import Activation, Dense, Input, Conv1D, MaxPooling1D, Embedding, GlobalMaxPool1D, GlobalMaxPooling1D, SpatialDropout1D, LSTM, Flatten, BatchNormalization, Dropout"
      ]
    },
    {
      "cell_type": "code",
      "execution_count": 3,
      "metadata": {
        "id": "Qki9cY1DJaGY"
      },
      "outputs": [],
      "source": [
        "data = pd.read_csv('/content/drive/MyDrive/capstone_data/StockTwits_balanced.csv', index_col=0)"
      ]
    },
    {
      "cell_type": "code",
      "execution_count": null,
      "metadata": {
        "colab": {
          "base_uri": "https://localhost:8080/",
          "height": 206
        },
        "id": "5FNGQ6ecYdQU",
        "outputId": "66d49ab5-799c-41d0-ba26-0caa0a5974f2"
      },
      "outputs": [
        {
          "data": {
            "text/html": [
              "\n",
              "  <div id=\"df-c6d16747-ff2e-440c-a011-3d9e31ca5979\">\n",
              "    <div class=\"colab-df-container\">\n",
              "      <div>\n",
              "<style scoped>\n",
              "    .dataframe tbody tr th:only-of-type {\n",
              "        vertical-align: middle;\n",
              "    }\n",
              "\n",
              "    .dataframe tbody tr th {\n",
              "        vertical-align: top;\n",
              "    }\n",
              "\n",
              "    .dataframe thead th {\n",
              "        text-align: right;\n",
              "    }\n",
              "</style>\n",
              "<table border=\"1\" class=\"dataframe\">\n",
              "  <thead>\n",
              "    <tr style=\"text-align: right;\">\n",
              "      <th></th>\n",
              "      <th>created_at</th>\n",
              "      <th>body</th>\n",
              "      <th>sentiment</th>\n",
              "      <th>Lemmatized_tokens</th>\n",
              "    </tr>\n",
              "  </thead>\n",
              "  <tbody>\n",
              "    <tr>\n",
              "      <th>0</th>\n",
              "      <td>2021-12-21T18:08:24Z</td>\n",
              "      <td>$AMD $NVDA $MU $MRVL $ON Bull Market for the r...</td>\n",
              "      <td>1</td>\n",
              "      <td>['amd', 'nvda', 'mu', 'mrvl', 'bull', 'market'...</td>\n",
              "    </tr>\n",
              "    <tr>\n",
              "      <th>1</th>\n",
              "      <td>2021-08-23T01:42:37Z</td>\n",
              "      <td>$TSLA I dont care what the price does in short...</td>\n",
              "      <td>1</td>\n",
              "      <td>['tsla', 'dont', 'care', 'price', 'short', 'te...</td>\n",
              "    </tr>\n",
              "    <tr>\n",
              "      <th>2</th>\n",
              "      <td>2021-04-16T13:32:34Z</td>\n",
              "      <td>$AMZN hmhm lets see where we end.</td>\n",
              "      <td>1</td>\n",
              "      <td>['amzn', 'hmhm', 'let', 'see', 'end']</td>\n",
              "    </tr>\n",
              "    <tr>\n",
              "      <th>3</th>\n",
              "      <td>2022-01-12T16:11:00Z</td>\n",
              "      <td>$TSLA gap closed ndx its on</td>\n",
              "      <td>1</td>\n",
              "      <td>['tsla', 'gap', 'closed', 'ndx']</td>\n",
              "    </tr>\n",
              "    <tr>\n",
              "      <th>4</th>\n",
              "      <td>2021-04-05T15:24:51Z</td>\n",
              "      <td>$TSLA okay....who’s the asshole that keeps sel...</td>\n",
              "      <td>1</td>\n",
              "      <td>['tsla', 'okay', 'asshole', 'keep', 'selling',...</td>\n",
              "    </tr>\n",
              "  </tbody>\n",
              "</table>\n",
              "</div>\n",
              "      <button class=\"colab-df-convert\" onclick=\"convertToInteractive('df-c6d16747-ff2e-440c-a011-3d9e31ca5979')\"\n",
              "              title=\"Convert this dataframe to an interactive table.\"\n",
              "              style=\"display:none;\">\n",
              "        \n",
              "  <svg xmlns=\"http://www.w3.org/2000/svg\" height=\"24px\"viewBox=\"0 0 24 24\"\n",
              "       width=\"24px\">\n",
              "    <path d=\"M0 0h24v24H0V0z\" fill=\"none\"/>\n",
              "    <path d=\"M18.56 5.44l.94 2.06.94-2.06 2.06-.94-2.06-.94-.94-2.06-.94 2.06-2.06.94zm-11 1L8.5 8.5l.94-2.06 2.06-.94-2.06-.94L8.5 2.5l-.94 2.06-2.06.94zm10 10l.94 2.06.94-2.06 2.06-.94-2.06-.94-.94-2.06-.94 2.06-2.06.94z\"/><path d=\"M17.41 7.96l-1.37-1.37c-.4-.4-.92-.59-1.43-.59-.52 0-1.04.2-1.43.59L10.3 9.45l-7.72 7.72c-.78.78-.78 2.05 0 2.83L4 21.41c.39.39.9.59 1.41.59.51 0 1.02-.2 1.41-.59l7.78-7.78 2.81-2.81c.8-.78.8-2.07 0-2.86zM5.41 20L4 18.59l7.72-7.72 1.47 1.35L5.41 20z\"/>\n",
              "  </svg>\n",
              "      </button>\n",
              "      \n",
              "  <style>\n",
              "    .colab-df-container {\n",
              "      display:flex;\n",
              "      flex-wrap:wrap;\n",
              "      gap: 12px;\n",
              "    }\n",
              "\n",
              "    .colab-df-convert {\n",
              "      background-color: #E8F0FE;\n",
              "      border: none;\n",
              "      border-radius: 50%;\n",
              "      cursor: pointer;\n",
              "      display: none;\n",
              "      fill: #1967D2;\n",
              "      height: 32px;\n",
              "      padding: 0 0 0 0;\n",
              "      width: 32px;\n",
              "    }\n",
              "\n",
              "    .colab-df-convert:hover {\n",
              "      background-color: #E2EBFA;\n",
              "      box-shadow: 0px 1px 2px rgba(60, 64, 67, 0.3), 0px 1px 3px 1px rgba(60, 64, 67, 0.15);\n",
              "      fill: #174EA6;\n",
              "    }\n",
              "\n",
              "    [theme=dark] .colab-df-convert {\n",
              "      background-color: #3B4455;\n",
              "      fill: #D2E3FC;\n",
              "    }\n",
              "\n",
              "    [theme=dark] .colab-df-convert:hover {\n",
              "      background-color: #434B5C;\n",
              "      box-shadow: 0px 1px 3px 1px rgba(0, 0, 0, 0.15);\n",
              "      filter: drop-shadow(0px 1px 2px rgba(0, 0, 0, 0.3));\n",
              "      fill: #FFFFFF;\n",
              "    }\n",
              "  </style>\n",
              "\n",
              "      <script>\n",
              "        const buttonEl =\n",
              "          document.querySelector('#df-c6d16747-ff2e-440c-a011-3d9e31ca5979 button.colab-df-convert');\n",
              "        buttonEl.style.display =\n",
              "          google.colab.kernel.accessAllowed ? 'block' : 'none';\n",
              "\n",
              "        async function convertToInteractive(key) {\n",
              "          const element = document.querySelector('#df-c6d16747-ff2e-440c-a011-3d9e31ca5979');\n",
              "          const dataTable =\n",
              "            await google.colab.kernel.invokeFunction('convertToInteractive',\n",
              "                                                     [key], {});\n",
              "          if (!dataTable) return;\n",
              "\n",
              "          const docLinkHtml = 'Like what you see? Visit the ' +\n",
              "            '<a target=\"_blank\" href=https://colab.research.google.com/notebooks/data_table.ipynb>data table notebook</a>'\n",
              "            + ' to learn more about interactive tables.';\n",
              "          element.innerHTML = '';\n",
              "          dataTable['output_type'] = 'display_data';\n",
              "          await google.colab.output.renderOutput(dataTable, element);\n",
              "          const docLink = document.createElement('div');\n",
              "          docLink.innerHTML = docLinkHtml;\n",
              "          element.appendChild(docLink);\n",
              "        }\n",
              "      </script>\n",
              "    </div>\n",
              "  </div>\n",
              "  "
            ],
            "text/plain": [
              "             created_at                                               body  \\\n",
              "0  2021-12-21T18:08:24Z  $AMD $NVDA $MU $MRVL $ON Bull Market for the r...   \n",
              "1  2021-08-23T01:42:37Z  $TSLA I dont care what the price does in short...   \n",
              "2  2021-04-16T13:32:34Z                  $AMZN hmhm lets see where we end.   \n",
              "3  2022-01-12T16:11:00Z                        $TSLA gap closed ndx its on   \n",
              "4  2021-04-05T15:24:51Z  $TSLA okay....who’s the asshole that keeps sel...   \n",
              "\n",
              "   sentiment                                  Lemmatized_tokens  \n",
              "0          1  ['amd', 'nvda', 'mu', 'mrvl', 'bull', 'market'...  \n",
              "1          1  ['tsla', 'dont', 'care', 'price', 'short', 'te...  \n",
              "2          1              ['amzn', 'hmhm', 'let', 'see', 'end']  \n",
              "3          1                   ['tsla', 'gap', 'closed', 'ndx']  \n",
              "4          1  ['tsla', 'okay', 'asshole', 'keep', 'selling',...  "
            ]
          },
          "execution_count": 4,
          "metadata": {},
          "output_type": "execute_result"
        }
      ],
      "source": [
        "data.head()"
      ]
    },
    {
      "cell_type": "code",
      "execution_count": 4,
      "metadata": {
        "id": "L7fINyXa3iGU"
      },
      "outputs": [],
      "source": [
        "from sklearn.model_selection import train_test_split\n",
        "X_train, X_test, y_train, y_test = train_test_split(data['Lemmatized_tokens'], data['sentiment'], test_size=0.2, random_state=42)"
      ]
    },
    {
      "cell_type": "code",
      "execution_count": null,
      "metadata": {
        "colab": {
          "base_uri": "https://localhost:8080/"
        },
        "id": "80F5vvETaABt",
        "outputId": "56b756f9-b04f-465a-ba6b-455f01f2908b"
      },
      "outputs": [
        {
          "name": "stdout",
          "output_type": "stream",
          "text": [
            "X_train: (913092,)\n",
            "X_test: (228274,)\n",
            "y_train: (913092,)\n",
            "y_test: (228274,)\n"
          ]
        }
      ],
      "source": [
        "print(\"X_train:\", X_train.shape)\n",
        "print(\"X_test:\", X_test.shape)\n",
        "print(\"y_train:\", y_train.shape)\n",
        "print(\"y_test:\", y_test.shape)"
      ]
    },
    {
      "cell_type": "code",
      "execution_count": 5,
      "metadata": {
        "id": "BbBRX2P5Y0kd"
      },
      "outputs": [],
      "source": [
        "from tensorflow.keras.preprocessing.text import Tokenizer\n",
        "from tensorflow.keras.preprocessing.sequence import pad_sequences\n",
        "tokenizer = Tokenizer(num_words=5000)\n",
        "tokenizer.fit_on_texts(X_train)\n",
        "X_train_token = tokenizer.texts_to_sequences(X_train)\n",
        "X_test_token = tokenizer.texts_to_sequences(X_test)"
      ]
    },
    {
      "cell_type": "code",
      "execution_count": 6,
      "metadata": {
        "colab": {
          "base_uri": "https://localhost:8080/"
        },
        "id": "KI__2LhJY0MZ",
        "outputId": "be0b4dbc-e579-442c-89db-5cd4d2e5849b"
      },
      "outputs": [
        {
          "output_type": "stream",
          "name": "stdout",
          "text": [
            "Vocab Size: 120321\n"
          ]
        }
      ],
      "source": [
        "vocab_size = len(tokenizer.index_word) + 1\n",
        "print('Vocab Size:', vocab_size)"
      ]
    },
    {
      "cell_type": "code",
      "execution_count": 7,
      "metadata": {
        "colab": {
          "base_uri": "https://localhost:8080/"
        },
        "id": "XAGo3K0Hhbgx",
        "outputId": "0e112c6b-e87f-4f5b-80a9-d1a2ab40068b"
      },
      "outputs": [
        {
          "output_type": "execute_result",
          "data": {
            "text/plain": [
              "(913092, 225)"
            ]
          },
          "metadata": {},
          "execution_count": 7
        }
      ],
      "source": [
        "data_train=pad_sequences(X_train_token)\n",
        "data_train.shape"
      ]
    },
    {
      "cell_type": "code",
      "execution_count": 8,
      "metadata": {
        "colab": {
          "base_uri": "https://localhost:8080/"
        },
        "id": "Mn9XYFjpq4HX",
        "outputId": "13a11f7d-dedb-4b9c-f597-91296722f401"
      },
      "outputs": [
        {
          "output_type": "execute_result",
          "data": {
            "text/plain": [
              "(228274, 225)"
            ]
          },
          "metadata": {},
          "execution_count": 8
        }
      ],
      "source": [
        "T=data_train.shape[1]\n",
        "data_test=pad_sequences(X_test_token, maxlen=T)\n",
        "data_test.shape"
      ]
    },
    {
      "cell_type": "code",
      "source": [
        "# Building the CNN Model\n",
        "model = Sequential()\n",
        "model.add(Embedding(vocab_size, 32, input_length=T))\n",
        "model.add(Conv1D(filters=32, kernel_size=3, activation='relu'))\n",
        "model.add(MaxPooling1D(pool_size=3))\n",
        "model.add(Conv1D(64,3,activation='relu'))\n",
        "model.add(MaxPooling1D(3))\n",
        "model.add(Conv1D(128,3,activation='relu'))\n",
        "model.add(GlobalMaxPooling1D())\n",
        "model.add(Dense(1, activation='sigmoid'))\n",
        "model.summary()"
      ],
      "metadata": {
        "colab": {
          "base_uri": "https://localhost:8080/"
        },
        "id": "eqoLPNWEXRiu",
        "outputId": "2496bc6f-aa0f-46f2-8c7e-913d0a274e4b"
      },
      "execution_count": 9,
      "outputs": [
        {
          "output_type": "stream",
          "name": "stdout",
          "text": [
            "Model: \"sequential\"\n",
            "_________________________________________________________________\n",
            " Layer (type)                Output Shape              Param #   \n",
            "=================================================================\n",
            " embedding (Embedding)       (None, 225, 32)           3850272   \n",
            "                                                                 \n",
            " conv1d (Conv1D)             (None, 223, 32)           3104      \n",
            "                                                                 \n",
            " max_pooling1d (MaxPooling1D  (None, 74, 32)           0         \n",
            " )                                                               \n",
            "                                                                 \n",
            " conv1d_1 (Conv1D)           (None, 72, 64)            6208      \n",
            "                                                                 \n",
            " max_pooling1d_1 (MaxPooling  (None, 24, 64)           0         \n",
            " 1D)                                                             \n",
            "                                                                 \n",
            " conv1d_2 (Conv1D)           (None, 22, 128)           24704     \n",
            "                                                                 \n",
            " global_max_pooling1d (Globa  (None, 128)              0         \n",
            " lMaxPooling1D)                                                  \n",
            "                                                                 \n",
            " dense (Dense)               (None, 1)                 129       \n",
            "                                                                 \n",
            "=================================================================\n",
            "Total params: 3,884,417\n",
            "Trainable params: 3,884,417\n",
            "Non-trainable params: 0\n",
            "_________________________________________________________________\n"
          ]
        }
      ]
    },
    {
      "cell_type": "code",
      "source": [
        "model.compile(loss='binary_crossentropy', optimizer='adam', metrics=['accuracy']) # default 0.001 learning rate\n",
        "history2 = model.fit(data_train, y_train, validation_data=(data_test, y_test), epochs=5, batch_size=100)"
      ],
      "metadata": {
        "colab": {
          "base_uri": "https://localhost:8080/"
        },
        "id": "nkHF-WwIZF8d",
        "outputId": "39cb47fd-77ab-4c08-fa61-c697cf105c29"
      },
      "execution_count": 11,
      "outputs": [
        {
          "output_type": "stream",
          "name": "stdout",
          "text": [
            "Epoch 1/5\n",
            "9131/9131 [==============================] - 133s 14ms/step - loss: 0.5555 - accuracy: 0.6932 - val_loss: 0.5400 - val_accuracy: 0.7057\n",
            "Epoch 2/5\n",
            "9131/9131 [==============================] - 77s 8ms/step - loss: 0.5231 - accuracy: 0.7174 - val_loss: 0.5309 - val_accuracy: 0.7111\n",
            "Epoch 3/5\n",
            "9131/9131 [==============================] - 76s 8ms/step - loss: 0.5063 - accuracy: 0.7278 - val_loss: 0.5290 - val_accuracy: 0.7148\n",
            "Epoch 4/5\n",
            "9131/9131 [==============================] - 74s 8ms/step - loss: 0.4926 - accuracy: 0.7367 - val_loss: 0.5312 - val_accuracy: 0.7145\n",
            "Epoch 5/5\n",
            "9131/9131 [==============================] - 81s 9ms/step - loss: 0.4808 - accuracy: 0.7437 - val_loss: 0.5362 - val_accuracy: 0.7122\n"
          ]
        }
      ]
    },
    {
      "cell_type": "code",
      "execution_count": 9,
      "metadata": {
        "colab": {
          "base_uri": "https://localhost:8080/"
        },
        "id": "gdb_HRfldoSg",
        "outputId": "835024bb-a6d3-4a2b-b16c-75d2fe81219a"
      },
      "outputs": [
        {
          "output_type": "stream",
          "name": "stdout",
          "text": [
            "Model: \"sequential\"\n",
            "_________________________________________________________________\n",
            " Layer (type)                Output Shape              Param #   \n",
            "=================================================================\n",
            " embedding (Embedding)       (None, 225, 32)           3850272   \n",
            "                                                                 \n",
            " conv1d (Conv1D)             (None, 225, 32)           3104      \n",
            "                                                                 \n",
            " max_pooling1d (MaxPooling1D  (None, 112, 32)          0         \n",
            " )                                                               \n",
            "                                                                 \n",
            " dropout (Dropout)           (None, 112, 32)           0         \n",
            "                                                                 \n",
            " lstm (LSTM)                 (None, 100)               53200     \n",
            "                                                                 \n",
            " dense (Dense)               (None, 1)                 101       \n",
            "                                                                 \n",
            "=================================================================\n",
            "Total params: 3,906,677\n",
            "Trainable params: 3,906,677\n",
            "Non-trainable params: 0\n",
            "_________________________________________________________________\n"
          ]
        }
      ],
      "source": [
        "# CNN + LSTM\n",
        "model = Sequential()\n",
        "model.add(Embedding(vocab_size, 32, input_length=T))\n",
        "model.add(Conv1D(filters=32, kernel_size=3, padding='same', activation='relu'))\n",
        "model.add(MaxPooling1D(pool_size=2))\n",
        "model.add(Dropout(0.5))\n",
        "model.add(LSTM(100))\n",
        "model.add(Dense(1, activation='sigmoid'))\n",
        "model.summary()"
      ]
    },
    {
      "cell_type": "code",
      "execution_count": 10,
      "metadata": {
        "colab": {
          "base_uri": "https://localhost:8080/"
        },
        "id": "dGrdrNv7d7Qk",
        "outputId": "692498f5-ed98-463a-92f2-edbac3f5d091"
      },
      "outputs": [
        {
          "output_type": "stream",
          "name": "stdout",
          "text": [
            "Epoch 1/5\n",
            "9131/9131 [==============================] - 192s 19ms/step - loss: 0.5327 - accuracy: 0.7232 - val_loss: 0.5079 - val_accuracy: 0.7393\n",
            "Epoch 2/5\n",
            "9131/9131 [==============================] - 120s 13ms/step - loss: 0.5057 - accuracy: 0.7406 - val_loss: 0.5059 - val_accuracy: 0.7435\n",
            "Epoch 3/5\n",
            "9131/9131 [==============================] - 125s 14ms/step - loss: 0.4930 - accuracy: 0.7486 - val_loss: 0.4970 - val_accuracy: 0.7506\n",
            "Epoch 4/5\n",
            "9131/9131 [==============================] - 126s 14ms/step - loss: 0.4842 - accuracy: 0.7541 - val_loss: 0.5033 - val_accuracy: 0.7478\n",
            "Epoch 5/5\n",
            "9131/9131 [==============================] - 115s 13ms/step - loss: 0.4778 - accuracy: 0.7585 - val_loss: 0.5012 - val_accuracy: 0.7477\n"
          ]
        }
      ],
      "source": [
        "model.compile(loss='binary_crossentropy', optimizer='adam', metrics=['accuracy']) # default 0.001 learning rate\n",
        "history = model.fit(data_train, y_train, validation_data=(data_test, y_test), epochs=5, batch_size=100)"
      ]
    },
    {
      "cell_type": "code",
      "source": [],
      "metadata": {
        "id": "4Y1K5hBnZZgv"
      },
      "execution_count": null,
      "outputs": []
    },
    {
      "cell_type": "code",
      "source": [],
      "metadata": {
        "id": "3KOzZGvZZnEl"
      },
      "execution_count": null,
      "outputs": []
    },
    {
      "cell_type": "code",
      "source": [],
      "metadata": {
        "id": "DJk_zE5oZmvN"
      },
      "execution_count": null,
      "outputs": []
    },
    {
      "cell_type": "code",
      "execution_count": 13,
      "metadata": {
        "id": "65iznHhOFBZA"
      },
      "outputs": [],
      "source": [
        "def plot_accuracy_loss_chart(history):\n",
        "    epochs = [i for i in range(5)]\n",
        "    fig , ax = plt.subplots(1,2)\n",
        "    train_acc = history.history['accuracy']\n",
        "    train_loss = history.history['loss']\n",
        "    val_acc = history.history['val_accuracy']\n",
        "    val_loss = history.history['val_loss']\n",
        "    fig.set_size_inches(20,10)\n",
        "    ax[0].plot(epochs , train_acc , 'bo-' , label = 'Training Accuracy')\n",
        "    ax[0].plot(epochs , val_acc , 'ro-' , label = 'Validation Accuracy')\n",
        "    ax[0].set_title('Training & Validation Accuracy')\n",
        "    ax[0].legend()\n",
        "    ax[0].set_xlabel(\"Epochs\")\n",
        "    ax[0].set_ylabel(\"Accuracy\")\n",
        "\n",
        "    ax[1].plot(epochs , train_loss , 'b-o' , label = 'Training Loss')\n",
        "    ax[1].plot(epochs , val_loss , 'r-o' , label = 'Validation Loss')\n",
        "    ax[1].set_title('Training & Validation Loss')\n",
        "    ax[1].legend()\n",
        "    ax[1].set_xlabel(\"Epochs\")\n",
        "    ax[1].set_ylabel(\"Training & Validation Loss\")\n",
        "    plt.show()"
      ]
    },
    {
      "cell_type": "code",
      "execution_count": 14,
      "metadata": {
        "colab": {
          "base_uri": "https://localhost:8080/",
          "height": 621
        },
        "id": "YT97vP_lFEqd",
        "outputId": "3fff8436-e8cb-44a3-ff6a-586d14d76a41"
      },
      "outputs": [
        {
          "output_type": "display_data",
          "data": {
            "text/plain": [
              "<Figure size 1440x720 with 2 Axes>"
            ],
            "image/png": "[encoded data removed]"
          },
          "metadata": {
            "needs_background": "light"
          }
        }
      ],
      "source": [
        "plot_accuracy_loss_chart(history2)"
      ]
    },
    {
      "cell_type": "code",
      "execution_count": 15,
      "metadata": {
        "id": "FZwjh802-6Rs"
      },
      "outputs": [],
      "source": [
        "model.save('capstone_CNN.h5')"
      ]
    },
    {
      "cell_type": "code",
      "execution_count": null,
      "metadata": {
        "id": "7GwpQ1WHu7En"
      },
      "outputs": [],
      "source": []
    }
  ],
  "metadata": {
    "accelerator": "GPU",
    "colab": {
      "provenance": []
    },
    "gpuClass": "standard",
    "kernelspec": {
      "display_name": "Python 3",
      "name": "python3"
    },
    "language_info": {
      "name": "python"
    }
  },
  "nbformat": 4,
  "nbformat_minor": 0
}