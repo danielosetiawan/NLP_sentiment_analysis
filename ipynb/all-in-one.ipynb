{
 "cells": [
  {
   "cell_type": "code",
   "execution_count": 10,
   "metadata": {},
   "outputs": [],
   "source": [
    "import numpy as np\n",
    "import pandas as pd\n",
    "import snscrape.modules.twitter as sntwitter"
   ]
  },
  {
   "cell_type": "code",
   "execution_count": 11,
   "metadata": {},
   "outputs": [],
   "source": [
    "def scrape_twitter(query, since, until):\n",
    "    tweets_list = []\n",
    "    for i,tweet in enumerate(sntwitter.TwitterSearchScraper(f'{query} since:{since} until:{until}').get_items()):\n",
    "        if i>1000:\n",
    "            break\n",
    "        tweets_list.append([tweet.date, tweet.id, tweet.content, tweet.user.username])\n",
    "    tweets_df = pd.DataFrame(tweets_list, columns=['Datetime', 'Tweet Id', 'Text', 'Username'])\n",
    "    return tweets_df"
   ]
  },
  {
   "cell_type": "code",
   "execution_count": 16,
   "metadata": {},
   "outputs": [
    {
     "data": {
      "text/plain": [
       "<attribute 'year' of 'datetime.date' objects>"
      ]
     },
     "execution_count": 16,
     "metadata": {},
     "output_type": "execute_result"
    }
   ],
   "source": [
    "from datetime import datetime\n",
    "\n",
    "datetime.year"
   ]
  },
  {
   "cell_type": "code",
   "execution_count": null,
   "metadata": {},
   "outputs": [],
   "source": [
    "pd.to_datetime(arg)"
   ]
  },
  {
   "cell_type": "code",
   "execution_count": null,
   "metadata": {},
   "outputs": [],
   "source": [
    "scrape_twitter('aapl', '2021-01-01', '2021-01-02')"
   ]
  },
  {
   "cell_type": "code",
   "execution_count": null,
   "metadata": {},
   "outputs": [],
   "source": [
    "def scrape_topics(topic, num=50000, date_start='2022-01-23'):\n",
    "\n",
    "    # Creating list to append tweet data to\n",
    "    tweets_list = []\n",
    "\n",
    "    # Using TwitterSearchScraper to scrape data and append tweets to list\n",
    "    for idx, tweet in enumerate(sntwitter.TwitterSearchScraper(\n",
    "        f'{topic} since:2022-02-01 until:2022-09-01').get_items()):\n",
    "        \n",
    "\n",
    "        if idx%10000 == 0:\n",
    "            print(f'{idx} reached')\n",
    "        if idx>num:\n",
    "            break\n",
    "        tweets_list.append([tweet.date, tweet.rawContent])\n",
    "\n",
    "    globals()[topic.replace(' ', '_')] = pd.DataFrame(tweets_list, columns=['Datetime', 'Text'])"
   ]
  }
 ],
 "metadata": {
  "kernelspec": {
   "display_name": ".venv",
   "language": "python",
   "name": "python3"
  },
  "language_info": {
   "codemirror_mode": {
    "name": "ipython",
    "version": 3
   },
   "file_extension": ".py",
   "mimetype": "text/x-python",
   "name": "python",
   "nbconvert_exporter": "python",
   "pygments_lexer": "ipython3",
   "version": "3.10.6"
  },
  "orig_nbformat": 4
 },
 "nbformat": 4,
 "nbformat_minor": 2
}
