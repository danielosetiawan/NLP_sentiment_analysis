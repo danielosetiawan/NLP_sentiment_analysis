{
 "cells": [
  {
   "cell_type": "code",
   "execution_count": 2,
   "id": "9a2022fb",
   "metadata": {},
   "outputs": [],
   "source": [
    "import transformers\n",
    "import torch\n",
    "import math\n",
    "import pandas as pd\n",
    "import numpy as np\n",
    "import emoji\n",
    "import re\n",
    "from transformers import (\n",
    "    RobertaForSequenceClassification, RobertaTokenizer, BertForSequenceClassification, \n",
    "    BertTokenizer, AutoModelForSequenceClassification, AutoTokenizer, AdamW\n",
    ")\n",
    "import random\n",
    "import time\n",
    "\n",
    "\n",
    "seed_val = 42\n",
    "random.seed(seed_val)\n",
    "np.random.seed(seed_val)\n",
    "torch.manual_seed(seed_val)\n",
    "torch.cuda.manual_seed_all(seed_val)"
   ]
  },
  {
   "cell_type": "code",
   "execution_count": 14,
   "id": "ae6656b9",
   "metadata": {},
   "outputs": [],
   "source": [
    "# tokenizer = RobertaTokenizer.from_pretrained('zhayunduo/roberta-base-stocktwits-finetuned')\n",
    "# # model = RobertaForSequenceClassification.from_pretrained('zhayunduo/roberta-base-stocktwits-finetuned')\n",
    "# model = RobertaForSequenceClassification.from_pretrained('./data/sentiment-prediction-model.h5')"
   ]
  },
  {
   "cell_type": "code",
   "execution_count": 97,
   "id": "fafe7874",
   "metadata": {
    "scrolled": false
   },
   "outputs": [
    {
     "data": {
      "text/plain": [
       "['A',\n",
       " 'Abbr',\n",
       " 'Acronym',\n",
       " 'Address',\n",
       " 'Area',\n",
       " 'Article',\n",
       " 'Aside',\n",
       " 'Audio',\n",
       " 'B',\n",
       " 'Base',\n",
       " 'Basefont',\n",
       " 'Bdi',\n",
       " 'Bdo',\n",
       " 'Big',\n",
       " 'Blink',\n",
       " 'Blockquote',\n",
       " 'Br',\n",
       " 'Button',\n",
       " 'Canvas',\n",
       " 'Caption',\n",
       " 'Center',\n",
       " 'Cite',\n",
       " 'Code',\n",
       " 'Col',\n",
       " 'Colgroup',\n",
       " 'Content',\n",
       " 'Data',\n",
       " 'Datalist',\n",
       " 'Dd',\n",
       " 'Del',\n",
       " 'Details',\n",
       " 'Dfn',\n",
       " 'Dialog',\n",
       " 'Div',\n",
       " 'Dl',\n",
       " 'Dt',\n",
       " 'Em',\n",
       " 'Embed',\n",
       " 'Fieldset',\n",
       " 'Figcaption',\n",
       " 'Figure',\n",
       " 'Font',\n",
       " 'Footer',\n",
       " 'Form',\n",
       " 'Frame',\n",
       " 'Frameset',\n",
       " 'H1',\n",
       " 'H2',\n",
       " 'H3',\n",
       " 'H4',\n",
       " 'H5',\n",
       " 'H6',\n",
       " 'Header',\n",
       " 'Hgroup',\n",
       " 'Hr',\n",
       " 'I',\n",
       " 'Iframe',\n",
       " 'Img',\n",
       " 'Ins',\n",
       " 'Kbd',\n",
       " 'Keygen',\n",
       " 'Label',\n",
       " 'Legend',\n",
       " 'Li',\n",
       " 'Link',\n",
       " 'Main',\n",
       " 'MapEl',\n",
       " 'Mark',\n",
       " 'Marquee',\n",
       " 'Meta',\n",
       " 'Meter',\n",
       " 'Nav',\n",
       " 'Nobr',\n",
       " 'Noscript',\n",
       " 'ObjectEl',\n",
       " 'Ol',\n",
       " 'Optgroup',\n",
       " 'Option',\n",
       " 'Output',\n",
       " 'P',\n",
       " 'Param',\n",
       " 'Picture',\n",
       " 'Plaintext',\n",
       " 'Pre',\n",
       " 'Progress',\n",
       " 'Q',\n",
       " 'Rb',\n",
       " 'Rp',\n",
       " 'Rt',\n",
       " 'Rtc',\n",
       " 'Ruby',\n",
       " 'S',\n",
       " 'Samp',\n",
       " 'Script',\n",
       " 'Section',\n",
       " 'Select',\n",
       " 'Shadow',\n",
       " 'Slot',\n",
       " 'Small',\n",
       " 'Source',\n",
       " 'Spacer',\n",
       " 'Span',\n",
       " 'Strike',\n",
       " 'Strong',\n",
       " 'Sub',\n",
       " 'Summary',\n",
       " 'Sup',\n",
       " 'Table',\n",
       " 'Tbody',\n",
       " 'Td',\n",
       " 'Template',\n",
       " 'Textarea',\n",
       " 'Tfoot',\n",
       " 'Th',\n",
       " 'Thead',\n",
       " 'Time',\n",
       " 'Title',\n",
       " 'Tr',\n",
       " 'Track',\n",
       " 'U',\n",
       " 'Ul',\n",
       " 'Var',\n",
       " 'Video',\n",
       " 'Wbr',\n",
       " 'Xmp',\n",
       " '__all__',\n",
       " '__builtins__',\n",
       " '__cached__',\n",
       " '__doc__',\n",
       " '__file__',\n",
       " '__loader__',\n",
       " '__name__',\n",
       " '__package__',\n",
       " '__path__',\n",
       " '__spec__',\n",
       " '__version__',\n",
       " '_basepath',\n",
       " '_component',\n",
       " '_css_dist',\n",
       " '_current_path',\n",
       " '_dash',\n",
       " '_filepath',\n",
       " '_imports_',\n",
       " '_js_dist',\n",
       " '_os',\n",
       " '_sys',\n",
       " '_this_module',\n",
       " 'f',\n",
       " 'json',\n",
       " 'package',\n",
       " 'package_name']"
      ]
     },
     "execution_count": 97,
     "metadata": {},
     "output_type": "execute_result"
    }
   ],
   "source": [
    "from dash import html\n",
    "dir(html)"
   ]
  },
  {
   "cell_type": "code",
   "execution_count": 87,
   "id": "d493de2d",
   "metadata": {},
   "outputs": [],
   "source": [
    "device = torch.device(\"cuda\" if torch.cuda.is_available() else \"cpu\")\n",
    "\n",
    "def Sentiment(sent,model=model,tokenizer=tokenizer):\n",
    "    encoded_dict = tokenizer.encode_plus(\n",
    "                      sent, \n",
    "                      add_special_tokens = True,\n",
    "                      truncation=True,\n",
    "                      max_length = 64,\n",
    "                      padding='max_length',\n",
    "                      return_attention_mask = True,\n",
    "                      return_tensors = 'pt')\n",
    "\n",
    "    input_id = torch.LongTensor(encoded_dict['input_ids']).to(device)\n",
    "    attention_mask = torch.LongTensor(encoded_dict['attention_mask']).to(device)\n",
    "    model = model.to(device)\n",
    "\n",
    "    with torch.no_grad():\n",
    "        outputs = model(input_id, token_type_ids=None, attention_mask=attention_mask)\n",
    "\n",
    "    logits = outputs[0]\n",
    "    index = logits.argmax()\n",
    "    return index,logits\n",
    "\n",
    "\n",
    "def process_text(texts):\n",
    "    # lowercase\n",
    "    # message = message.lower() # RoBERTa tokenizer is uncased\n",
    "    # remove URLs\n",
    "    texts = re.sub(r'https?://\\S+', \"\", texts)\n",
    "    texts = re.sub(r'www.\\S+', \"\", texts)\n",
    "    # remove extra spaces'\n",
    "    texts = texts.replace('&#39;', \"'\")\n",
    "    # remove symbol names\n",
    "    texts = re.sub(r'(\\#)(\\S+)', r'hashtag_\\2', texts)\n",
    "    texts = re.sub(r'(\\$)([A-Za-z]+)', r'cashtag_\\2', texts)\n",
    "    # remove usernames\n",
    "    texts = re.sub(r'(\\@)(\\S+)', r'mention_\\2', texts)\n",
    "    # demojize\n",
    "    texts = emoji.demojize(texts, delimiters=(\"\", \" \"))\n",
    "\n",
    "    return texts.strip()\n",
    "\n",
    "def checkSenti(sent,return_logits=True):\n",
    "    labels = ['Bearish','Bullish']\n",
    "    sent_processed = process_text(sent)\n",
    "    index,logits = Sentiment(sent_processed)\n",
    "    if return_logits:\n",
    "        logit0 = math.exp(logits[0][0])\n",
    "        logit1 = math.exp(logits[0][1])\n",
    "        logits = [logit0/(logit0+logit1),logit1/(logit0+logit1)]\n",
    "        return [labels[index], max(logits)]\n",
    "#         return f'Sentiment is predicted to be {(round(max(logits) * 100, 2))}% {labels[index]}'\n",
    "#     print(logits)\n",
    "    return labels[index]\n"
   ]
  },
  {
   "cell_type": "code",
   "execution_count": 96,
   "id": "82d9d283",
   "metadata": {},
   "outputs": [
    {
     "data": {
      "text/plain": [
       "95.94"
      ]
     },
     "execution_count": 96,
     "metadata": {},
     "output_type": "execute_result"
    }
   ],
   "source": [
    "prediction = ['Bearish', 0.959383]\n",
    "\n",
    "round(prediction[1]*100, 2)"
   ]
  },
  {
   "cell_type": "code",
   "execution_count": 91,
   "id": "991d4fd4",
   "metadata": {},
   "outputs": [
    {
     "name": "stdout",
     "output_type": "stream",
     "text": [
      "danger\n"
     ]
    }
   ],
   "source": [
    "prediction = ['Bearish']\n",
    "color = 'success' if prediction[0] == 'Bullish' else 'danger'\n",
    "print(color)"
   ]
  },
  {
   "cell_type": "code",
   "execution_count": 84,
   "id": "e1ef48e2",
   "metadata": {},
   "outputs": [],
   "source": [
    "if 'Bullish' in checkSenti('im feelin good todays'):\n",
    "    color = 'success'\n",
    "else:\n",
    "    color = 'danger'"
   ]
  },
  {
   "cell_type": "code",
   "execution_count": 86,
   "id": "2d7cdb9c",
   "metadata": {},
   "outputs": [
    {
     "data": {
      "text/plain": [
       "'success'"
      ]
     },
     "execution_count": 86,
     "metadata": {},
     "output_type": "execute_result"
    }
   ],
   "source": [
    "[dbc.Button(f\"{color}\", color=f\"{color}\", size=\"sm\") for color in theme_colors]"
   ]
  },
  {
   "cell_type": "code",
   "execution_count": null,
   "id": "a8aa331b",
   "metadata": {},
   "outputs": [],
   "source": [
    "[dbc.Button(f\"{color}\", color=f\"{color}\", size=\"sm\") for color in theme_colors]"
   ]
  },
  {
   "cell_type": "code",
   "execution_count": 60,
   "id": "5a707c72",
   "metadata": {},
   "outputs": [
    {
     "data": {
      "text/plain": [
       "'Sentiment is predicted to be Bearish, 0.9762407648711596'"
      ]
     },
     "execution_count": 60,
     "metadata": {},
     "output_type": "execute_result"
    }
   ],
   "source": [
    "checkSenti('im feeling bearish')"
   ]
  },
  {
   "cell_type": "code",
   "execution_count": 32,
   "id": "b20306ce",
   "metadata": {},
   "outputs": [
    {
     "data": {
      "text/plain": [
       "'craaaaaaap im feeling bullish'"
      ]
     },
     "execution_count": 32,
     "metadata": {},
     "output_type": "execute_result"
    }
   ],
   "source": [
    "process_text('craaaaaaap im feeling bullish')"
   ]
  },
  {
   "cell_type": "code",
   "execution_count": 38,
   "id": "18077b21",
   "metadata": {},
   "outputs": [
    {
     "name": "stdout",
     "output_type": "stream",
     "text": [
      "tensor([[ 1.9979, -1.7745]])\n"
     ]
    },
    {
     "data": {
      "text/plain": [
       "'Bearish'"
      ]
     },
     "execution_count": 38,
     "metadata": {},
     "output_type": "execute_result"
    }
   ],
   "source": [
    "checkSenti('im not bullish')"
   ]
  },
  {
   "cell_type": "code",
   "execution_count": 37,
   "id": "ef7cc11f",
   "metadata": {},
   "outputs": [
    {
     "name": "stdout",
     "output_type": "stream",
     "text": [
      "tensor([[ 1.9979, -1.7745]])\n",
      "tensor([[-1.9449,  1.8161]])\n"
     ]
    },
    {
     "data": {
      "text/plain": [
       "'Bullish'"
      ]
     },
     "execution_count": 37,
     "metadata": {},
     "output_type": "execute_result"
    }
   ],
   "source": [
    "checkSenti('im not bullish')\n",
    "checkSenti('im feeling bullish')"
   ]
  },
  {
   "cell_type": "code",
   "execution_count": 81,
   "id": "26ae5055",
   "metadata": {},
   "outputs": [
    {
     "name": "stdout",
     "output_type": "stream",
     "text": [
      "Sentiment is predicted to be 99.79% Bullish\n",
      "Sentiment is predicted to be 98.72% Bearish\n",
      "Sentiment is predicted to be 75.84% Bullish\n",
      "Sentiment is predicted to be 95.46% Bullish\n",
      "Sentiment is predicted to be 99.43% Bearish\n"
     ]
    }
   ],
   "source": [
    "samples = ['im feeling bullish about this stock',\n",
    "           'im feeling bearish about this stock',\n",
    "           'welp diamond hands it is',\n",
    "           'shoot to the moon',\n",
    "           'short this stock']\n",
    "for sample in samples:\n",
    "    print(checkSenti(sample))"
   ]
  },
  {
   "cell_type": "code",
   "execution_count": null,
   "id": "86a23be8",
   "metadata": {},
   "outputs": [],
   "source": []
  }
 ],
 "metadata": {
  "kernelspec": {
   "display_name": "Python 3 (ipykernel)",
   "language": "python",
   "name": "python3"
  },
  "language_info": {
   "codemirror_mode": {
    "name": "ipython",
    "version": 3
   },
   "file_extension": ".py",
   "mimetype": "text/x-python",
   "name": "python",
   "nbconvert_exporter": "python",
   "pygments_lexer": "ipython3",
   "version": "3.8.16"
  }
 },
 "nbformat": 4,
 "nbformat_minor": 5
}
