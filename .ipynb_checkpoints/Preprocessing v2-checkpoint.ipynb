{
 "cells": [
  {
   "cell_type": "code",
   "execution_count": 11,
   "id": "16f77217",
   "metadata": {},
   "outputs": [],
   "source": [
    "import numpy as np\n",
    "import pandas as pd\n",
    "import nltk\n",
    "from textblob import TextBlob"
   ]
  },
  {
   "cell_type": "code",
   "execution_count": 4,
   "id": "89628aac",
   "metadata": {},
   "outputs": [],
   "source": [
    "df = pd.read_csv('./data/tweets4_partially_cleaned.csv', index_col=['Unnamed: 0'])\n",
    "df = df.dropna()"
   ]
  },
  {
   "cell_type": "code",
   "execution_count": 76,
   "id": "a67b4bdb",
   "metadata": {},
   "outputs": [],
   "source": []
  },
  {
   "cell_type": "code",
   "execution_count": 71,
   "id": "7f633191",
   "metadata": {},
   "outputs": [
    {
     "name": "stderr",
     "output_type": "stream",
     "text": [
      "[nltk_data] Downloading package wordnet to /Users/setone/nltk_data...\n",
      "[nltk_data]   Package wordnet is already up-to-date!\n",
      "[nltk_data] Downloading package punkt to /Users/setone/nltk_data...\n",
      "[nltk_data]   Package punkt is already up-to-date!\n",
      "[nltk_data] Downloading package omw-1.4 to /Users/setone/nltk_data...\n",
      "[nltk_data]   Package omw-1.4 is already up-to-date!\n"
     ]
    }
   ],
   "source": [
    "nltk.download('wordnet')\n",
    "nltk.download('punkt')\n",
    "nltk.download('omw-1.4')\n",
    "\n",
    "w_tokenizer = nltk.tokenize.WhitespaceTokenizer()\n",
    "lemmatizer = nltk.stem.WordNetLemmatizer()\n",
    "\n",
    "idx = 0\n",
    "\n",
    "def lemmatize_text(text):\n",
    "    global idx\n",
    "    \n",
    "    idx += 1\n",
    "    \n",
    "    if idx % 1e4 == 0: print(idx)\n",
    "        \n",
    "    try: \n",
    "        result = [lemmatizer.lemmatize(w) for w in w_tokenizer.tokenize(text)]\n",
    "    except:\n",
    "        print(f'failed at {idx}')\n",
    "        \n",
    "    return result\n",
    "    \n",
    "    \n",
    "def spelling_check(text):\n",
    "    global idx\n",
    "    \n",
    "    idx += 1\n",
    "    \n",
    "    if idx % 1e3 == 0: print(idx)\n",
    "        \n",
    "    try:\n",
    "        result = str(TextBlob(text).correct())\n",
    "    except:\n",
    "        print(f'failed at {idx}')\n",
    "        \n",
    "    return result"
   ]
  },
  {
   "cell_type": "code",
   "execution_count": 73,
   "id": "70da8bd7",
   "metadata": {
    "scrolled": false
   },
   "outputs": [],
   "source": [
    "#lemmatization\n",
    "\n",
    "idx = 0\n",
    "df['Lemmatized Tokens'] = df['Content'].apply(lambda x: lemmatize_text(x))"
   ]
  },
  {
   "cell_type": "code",
   "execution_count": 75,
   "id": "b3205f7f",
   "metadata": {
    "scrolled": false
   },
   "outputs": [],
   "source": [
    "# # spelling check\n",
    "\n",
    "# idx = 0\n",
    "# df['Spelling'] = df['Content'].apply(lambda x: spelling_check(x))"
   ]
  },
  {
   "cell_type": "code",
   "execution_count": null,
   "id": "8c62ed24",
   "metadata": {},
   "outputs": [],
   "source": []
  }
 ],
 "metadata": {
  "kernelspec": {
   "display_name": "Python 3 (ipykernel)",
   "language": "python",
   "name": "python3"
  },
  "language_info": {
   "codemirror_mode": {
    "name": "ipython",
    "version": 3
   },
   "file_extension": ".py",
   "mimetype": "text/x-python",
   "name": "python",
   "nbconvert_exporter": "python",
   "pygments_lexer": "ipython3",
   "version": "3.9.12"
  }
 },
 "nbformat": 4,
 "nbformat_minor": 5
}
