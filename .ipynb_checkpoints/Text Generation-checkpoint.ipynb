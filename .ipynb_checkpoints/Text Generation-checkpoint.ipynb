{
 "cells": [
  {
   "cell_type": "code",
   "execution_count": 1,
   "id": "5be3dd60",
   "metadata": {},
   "outputs": [
    {
     "name": "stderr",
     "output_type": "stream",
     "text": [
      "2023-02-06 22:32:26.733055: I tensorflow/core/platform/cpu_feature_guard.cc:193] This TensorFlow binary is optimized with oneAPI Deep Neural Network Library (oneDNN) to use the following CPU instructions in performance-critical operations:  SSE4.1 SSE4.2\n",
      "To enable them in other operations, rebuild TensorFlow with the appropriate compiler flags.\n"
     ]
    }
   ],
   "source": [
    "import seaborn as sns\n",
    "import numpy as np\n",
    "import pandas as pd\n",
    "import matplotlib.pyplot as plt\n",
    "from matplotlib.lines import Line2D\n",
    "\n",
    "\n",
    "# numericalization\n",
    "from collections import Counter\n",
    "\n",
    "# preprocessing\n",
    "from string import punctuation\n",
    "import re\n",
    "\n",
    "# modeling\n",
    "from sklearn.model_selection import train_test_split\n",
    "\n",
    "# neural nets\n",
    "import tensorflow as tf\n",
    "from keras.layers import Embedding, LSTM, Dense, Dropout, Bidirectional\n",
    "from keras.preprocessing.text import Tokenizer\n",
    "from keras.utils import pad_sequences\n",
    "from keras import Sequential, Input, optimizers\n",
    "from keras.optimizers import Adam\n",
    "\n",
    "pd.set_option('display.max_columns', 500)\n",
    "title_fontsize = 15"
   ]
  },
  {
   "cell_type": "code",
   "execution_count": 12,
   "id": "f254448a",
   "metadata": {},
   "outputs": [
    {
     "data": {
      "text/html": [
       "<div>\n",
       "<style scoped>\n",
       "    .dataframe tbody tr th:only-of-type {\n",
       "        vertical-align: middle;\n",
       "    }\n",
       "\n",
       "    .dataframe tbody tr th {\n",
       "        vertical-align: top;\n",
       "    }\n",
       "\n",
       "    .dataframe thead th {\n",
       "        text-align: right;\n",
       "    }\n",
       "</style>\n",
       "<table border=\"1\" class=\"dataframe\">\n",
       "  <thead>\n",
       "    <tr style=\"text-align: right;\">\n",
       "      <th></th>\n",
       "      <th>created_at</th>\n",
       "      <th>body</th>\n",
       "      <th>sentiment</th>\n",
       "      <th>raw_content</th>\n",
       "    </tr>\n",
       "  </thead>\n",
       "  <tbody>\n",
       "    <tr>\n",
       "      <th>0</th>\n",
       "      <td>2020-12-15T14:40:00Z</td>\n",
       "      <td>['aapl', 'moving', 'fast', 'early']</td>\n",
       "      <td>1</td>\n",
       "      <td>$AAPL Moving fast early!</td>\n",
       "    </tr>\n",
       "    <tr>\n",
       "      <th>1</th>\n",
       "      <td>2020-12-15T14:39:57Z</td>\n",
       "      <td>['aapl', 'confirms', 'daily', 'rip']</td>\n",
       "      <td>1</td>\n",
       "      <td>$AAPL if confirms daily can rip</td>\n",
       "    </tr>\n",
       "    <tr>\n",
       "      <th>2</th>\n",
       "      <td>2020-12-15T14:39:42Z</td>\n",
       "      <td>['aapl', 'word', 'got', 'don’t', 'miss', 'chan...</td>\n",
       "      <td>1</td>\n",
       "      <td>$AAPL word got out .... don’t miss your chance</td>\n",
       "    </tr>\n",
       "    <tr>\n",
       "      <th>3</th>\n",
       "      <td>2020-12-15T14:39:40Z</td>\n",
       "      <td>['aapl', 'sold', 'weekly', 'early', 'lol']</td>\n",
       "      <td>1</td>\n",
       "      <td>$AAPL who sold there weeklies to early lol</td>\n",
       "    </tr>\n",
       "    <tr>\n",
       "      <th>4</th>\n",
       "      <td>2020-12-15T14:39:36Z</td>\n",
       "      <td>['aapl', 'another', 'walk', 'let’s', 'see', 'g...</td>\n",
       "      <td>1</td>\n",
       "      <td>$AAPL another walk at 126 let’s see if it gets...</td>\n",
       "    </tr>\n",
       "  </tbody>\n",
       "</table>\n",
       "</div>"
      ],
      "text/plain": [
       "             created_at                                               body  \\\n",
       "0  2020-12-15T14:40:00Z                ['aapl', 'moving', 'fast', 'early']   \n",
       "1  2020-12-15T14:39:57Z               ['aapl', 'confirms', 'daily', 'rip']   \n",
       "2  2020-12-15T14:39:42Z  ['aapl', 'word', 'got', 'don’t', 'miss', 'chan...   \n",
       "3  2020-12-15T14:39:40Z         ['aapl', 'sold', 'weekly', 'early', 'lol']   \n",
       "4  2020-12-15T14:39:36Z  ['aapl', 'another', 'walk', 'let’s', 'see', 'g...   \n",
       "\n",
       "   sentiment                                        raw_content  \n",
       "0          1                           $AAPL Moving fast early!  \n",
       "1          1                    $AAPL if confirms daily can rip  \n",
       "2          1     $AAPL word got out .... don’t miss your chance  \n",
       "3          1         $AAPL who sold there weeklies to early lol  \n",
       "4          1  $AAPL another walk at 126 let’s see if it gets...  "
      ]
     },
     "execution_count": 12,
     "metadata": {},
     "output_type": "execute_result"
    }
   ],
   "source": [
    "df = pd.read_csv('./data/StockTwits_cleaned.csv')\n",
    "df.head()"
   ]
  },
  {
   "cell_type": "code",
   "execution_count": 13,
   "id": "be825335",
   "metadata": {},
   "outputs": [
    {
     "data": {
      "text/html": [
       "<div>\n",
       "<style scoped>\n",
       "    .dataframe tbody tr th:only-of-type {\n",
       "        vertical-align: middle;\n",
       "    }\n",
       "\n",
       "    .dataframe tbody tr th {\n",
       "        vertical-align: top;\n",
       "    }\n",
       "\n",
       "    .dataframe thead th {\n",
       "        text-align: right;\n",
       "    }\n",
       "</style>\n",
       "<table border=\"1\" class=\"dataframe\">\n",
       "  <thead>\n",
       "    <tr style=\"text-align: right;\">\n",
       "      <th></th>\n",
       "      <th>created_at</th>\n",
       "      <th>body</th>\n",
       "      <th>sentiment</th>\n",
       "      <th>raw_content</th>\n",
       "    </tr>\n",
       "  </thead>\n",
       "  <tbody>\n",
       "    <tr>\n",
       "      <th>0</th>\n",
       "      <td>2020-12-15T14:40:00Z</td>\n",
       "      <td>['aapl', 'moving', 'fast', 'early']</td>\n",
       "      <td>1</td>\n",
       "      <td>$AAPL Moving fast early!</td>\n",
       "    </tr>\n",
       "    <tr>\n",
       "      <th>1</th>\n",
       "      <td>2020-12-15T14:39:57Z</td>\n",
       "      <td>['aapl', 'confirms', 'daily', 'rip']</td>\n",
       "      <td>1</td>\n",
       "      <td>$AAPL if confirms daily can rip</td>\n",
       "    </tr>\n",
       "    <tr>\n",
       "      <th>2</th>\n",
       "      <td>2020-12-15T14:39:42Z</td>\n",
       "      <td>['aapl', 'word', 'got', 'don’t', 'miss', 'chan...</td>\n",
       "      <td>1</td>\n",
       "      <td>$AAPL word got out .... don’t miss your chance</td>\n",
       "    </tr>\n",
       "    <tr>\n",
       "      <th>3</th>\n",
       "      <td>2020-12-15T14:39:40Z</td>\n",
       "      <td>['aapl', 'sold', 'weekly', 'early', 'lol']</td>\n",
       "      <td>1</td>\n",
       "      <td>$AAPL who sold there weeklies to early lol</td>\n",
       "    </tr>\n",
       "    <tr>\n",
       "      <th>4</th>\n",
       "      <td>2020-12-15T14:39:36Z</td>\n",
       "      <td>['aapl', 'another', 'walk', 'let’s', 'see', 'g...</td>\n",
       "      <td>1</td>\n",
       "      <td>$AAPL another walk at 126 let’s see if it gets...</td>\n",
       "    </tr>\n",
       "    <tr>\n",
       "      <th>...</th>\n",
       "      <td>...</td>\n",
       "      <td>...</td>\n",
       "      <td>...</td>\n",
       "      <td>...</td>\n",
       "    </tr>\n",
       "    <tr>\n",
       "      <th>2000829</th>\n",
       "      <td>2021-05-17T23:28:30Z</td>\n",
       "      <td>['dogex', 'tsla', 'btcx', 'ethx', 'ltcx', 'i',...</td>\n",
       "      <td>1</td>\n",
       "      <td>$DOGE.X  $TSLA $BTC.X $ETH.X $LTC.X  I own all...</td>\n",
       "    </tr>\n",
       "    <tr>\n",
       "      <th>2000830</th>\n",
       "      <td>2021-05-17T23:27:42Z</td>\n",
       "      <td>['tsla', 'drop', 'like', 'it', 'hot', 'boy']</td>\n",
       "      <td>0</td>\n",
       "      <td>$TSLA drop it like it&amp;#39;s hot boys</td>\n",
       "    </tr>\n",
       "    <tr>\n",
       "      <th>2000831</th>\n",
       "      <td>2021-05-17T23:27:31Z</td>\n",
       "      <td>['tsla', 'fund', 'bury', 'give', 'dead', 'cat'...</td>\n",
       "      <td>0</td>\n",
       "      <td>$TSLA funds and Bury will give it dead cat jum...</td>\n",
       "    </tr>\n",
       "    <tr>\n",
       "      <th>2000832</th>\n",
       "      <td>2021-05-17T23:27:14Z</td>\n",
       "      <td>['tsla', 'pt']</td>\n",
       "      <td>0</td>\n",
       "      <td>$TSLA $420 pt</td>\n",
       "    </tr>\n",
       "    <tr>\n",
       "      <th>2000833</th>\n",
       "      <td>2021-05-17T23:26:57Z</td>\n",
       "      <td>['tsla', 'elon', 'really', 'good', 'creating',...</td>\n",
       "      <td>0</td>\n",
       "      <td>$TSLA elon is really good at creating customer...</td>\n",
       "    </tr>\n",
       "  </tbody>\n",
       "</table>\n",
       "<p>2000834 rows × 4 columns</p>\n",
       "</div>"
      ],
      "text/plain": [
       "                   created_at  \\\n",
       "0        2020-12-15T14:40:00Z   \n",
       "1        2020-12-15T14:39:57Z   \n",
       "2        2020-12-15T14:39:42Z   \n",
       "3        2020-12-15T14:39:40Z   \n",
       "4        2020-12-15T14:39:36Z   \n",
       "...                       ...   \n",
       "2000829  2021-05-17T23:28:30Z   \n",
       "2000830  2021-05-17T23:27:42Z   \n",
       "2000831  2021-05-17T23:27:31Z   \n",
       "2000832  2021-05-17T23:27:14Z   \n",
       "2000833  2021-05-17T23:26:57Z   \n",
       "\n",
       "                                                      body  sentiment  \\\n",
       "0                      ['aapl', 'moving', 'fast', 'early']          1   \n",
       "1                     ['aapl', 'confirms', 'daily', 'rip']          1   \n",
       "2        ['aapl', 'word', 'got', 'don’t', 'miss', 'chan...          1   \n",
       "3               ['aapl', 'sold', 'weekly', 'early', 'lol']          1   \n",
       "4        ['aapl', 'another', 'walk', 'let’s', 'see', 'g...          1   \n",
       "...                                                    ...        ...   \n",
       "2000829  ['dogex', 'tsla', 'btcx', 'ethx', 'ltcx', 'i',...          1   \n",
       "2000830       ['tsla', 'drop', 'like', 'it', 'hot', 'boy']          0   \n",
       "2000831  ['tsla', 'fund', 'bury', 'give', 'dead', 'cat'...          0   \n",
       "2000832                                     ['tsla', 'pt']          0   \n",
       "2000833  ['tsla', 'elon', 'really', 'good', 'creating',...          0   \n",
       "\n",
       "                                               raw_content  \n",
       "0                                 $AAPL Moving fast early!  \n",
       "1                          $AAPL if confirms daily can rip  \n",
       "2           $AAPL word got out .... don’t miss your chance  \n",
       "3               $AAPL who sold there weeklies to early lol  \n",
       "4        $AAPL another walk at 126 let’s see if it gets...  \n",
       "...                                                    ...  \n",
       "2000829  $DOGE.X  $TSLA $BTC.X $ETH.X $LTC.X  I own all...  \n",
       "2000830               $TSLA drop it like it&#39;s hot boys  \n",
       "2000831  $TSLA funds and Bury will give it dead cat jum...  \n",
       "2000832                                      $TSLA $420 pt  \n",
       "2000833  $TSLA elon is really good at creating customer...  \n",
       "\n",
       "[2000834 rows x 4 columns]"
      ]
     },
     "execution_count": 13,
     "metadata": {},
     "output_type": "execute_result"
    }
   ],
   "source": [
    "df"
   ]
  },
  {
   "cell_type": "code",
   "execution_count": 15,
   "id": "3dd58dbf",
   "metadata": {},
   "outputs": [],
   "source": [
    "# trying with just a subset of df\n",
    "\n",
    "df = df[:50000]"
   ]
  },
  {
   "cell_type": "code",
   "execution_count": 17,
   "id": "75fad5f7",
   "metadata": {},
   "outputs": [],
   "source": [
    "tokenizer = Tokenizer()\n",
    "corpus = df['raw_content']\n",
    "tokenizer.fit_on_texts(corpus)\n",
    "total_words = len(tokenizer.word_index)+1"
   ]
  },
  {
   "cell_type": "code",
   "execution_count": 18,
   "id": "dc6412d7",
   "metadata": {},
   "outputs": [],
   "source": [
    "input_sequences = []\n",
    "for line in corpus:\n",
    "    token_list = tokenizer.texts_to_sequences([line])[0]\n",
    "    \n",
    "    for i in range(1, len(token_list)):\n",
    "        n_gram_sequence = token_list[:i+1]\n",
    "        input_sequences.append(n_gram_sequence)"
   ]
  },
  {
   "cell_type": "code",
   "execution_count": 19,
   "id": "c7267e9a",
   "metadata": {},
   "outputs": [
    {
     "name": "stdout",
     "output_type": "stream",
     "text": [
      "37\n"
     ]
    }
   ],
   "source": [
    "max_sequence_len = max([len(x) for x in input_sequences])\n",
    "print(max_sequence_len)"
   ]
  },
  {
   "cell_type": "code",
   "execution_count": 20,
   "id": "ddd54ef7",
   "metadata": {},
   "outputs": [],
   "source": [
    "input_sequences = pad_sequences(input_sequences)"
   ]
  },
  {
   "cell_type": "code",
   "execution_count": 21,
   "id": "a0796502",
   "metadata": {},
   "outputs": [],
   "source": [
    "X = input_sequences[:,:-1]\n",
    "labels = input_sequences[:,-1]"
   ]
  },
  {
   "cell_type": "code",
   "execution_count": 22,
   "id": "d15b2ff6",
   "metadata": {},
   "outputs": [],
   "source": [
    "y = tf.keras.utils.to_categorical(labels, num_classes=total_words)"
   ]
  },
  {
   "cell_type": "code",
   "execution_count": null,
   "id": "1335372a",
   "metadata": {},
   "outputs": [],
   "source": [
    "X_train, X_test, y_train, y_test = train_test_split(X, y, test_size=0.2, shuffle=True, random_state=18)"
   ]
  },
  {
   "cell_type": "code",
   "execution_count": null,
   "id": "203a7a63",
   "metadata": {},
   "outputs": [
    {
     "name": "stdout",
     "output_type": "stream",
     "text": [
      "Epoch 1/500\n",
      " 4427/15865 [=======>......................] - ETA: 8:36 - loss: 6.8303 - accuracy: 0.0835"
     ]
    }
   ],
   "source": [
    "model = Sequential()\n",
    "model.add(Embedding(total_words, 100, input_length=max_sequence_len-1))\n",
    "model.add(Bidirectional(LSTM(150)))\n",
    "model.add(Dense(total_words, activation='softmax'))\n",
    "adam = Adam(learning_rate=0.01)\n",
    "model.compile(loss='categorical_crossentropy', optimizer=adam, metrics=['accuracy'])\n",
    "#earlystop = EarlyStopping(monitor='val_loss', min_delta=0, patience=5, verbose=0, mode='auto')\n",
    "history = model.fit(X, y, epochs=500, verbose=1)\n",
    "#print model.summary()\n",
    "print(model)"
   ]
  },
  {
   "cell_type": "code",
   "execution_count": 61,
   "id": "8c42d5d1",
   "metadata": {},
   "outputs": [
    {
     "ename": "ValueError",
     "evalue": "in user code:\n\n    File \"/Users/setone/opt/anaconda3/envs/tf/lib/python3.10/site-packages/keras/engine/training.py\", line 1160, in train_function  *\n        return step_function(self, iterator)\n    File \"/Users/setone/opt/anaconda3/envs/tf/lib/python3.10/site-packages/keras/engine/training.py\", line 1146, in step_function  **\n        outputs = model.distribute_strategy.run(run_step, args=(data,))\n    File \"/Users/setone/opt/anaconda3/envs/tf/lib/python3.10/site-packages/keras/engine/training.py\", line 1135, in run_step  **\n        outputs = model.train_step(data)\n    File \"/Users/setone/opt/anaconda3/envs/tf/lib/python3.10/site-packages/keras/engine/training.py\", line 993, in train_step\n        y_pred = self(x, training=True)\n    File \"/Users/setone/opt/anaconda3/envs/tf/lib/python3.10/site-packages/keras/utils/traceback_utils.py\", line 70, in error_handler\n        raise e.with_traceback(filtered_tb) from None\n    File \"/Users/setone/opt/anaconda3/envs/tf/lib/python3.10/site-packages/keras/engine/input_spec.py\", line 295, in assert_input_compatibility\n        raise ValueError(\n\n    ValueError: Input 0 of layer \"sequential\" is incompatible with the layer: expected shape=(None, 40, 2982603), found shape=(None, 26)\n",
     "output_type": "error",
     "traceback": [
      "\u001b[0;31m---------------------------------------------------------------------------\u001b[0m",
      "\u001b[0;31mValueError\u001b[0m                                Traceback (most recent call last)",
      "Cell \u001b[0;32mIn[61], line 5\u001b[0m\n\u001b[1;32m      2\u001b[0m batch_size \u001b[38;5;241m=\u001b[39m \u001b[38;5;241m128\u001b[39m\n\u001b[1;32m      4\u001b[0m \u001b[38;5;28;01mfor\u001b[39;00m epoch \u001b[38;5;129;01min\u001b[39;00m \u001b[38;5;28mrange\u001b[39m(epochs):\n\u001b[0;32m----> 5\u001b[0m     \u001b[43mmodel\u001b[49m\u001b[38;5;241;43m.\u001b[39;49m\u001b[43mfit\u001b[49m\u001b[43m(\u001b[49m\u001b[43mX\u001b[49m\u001b[43m,\u001b[49m\u001b[43m \u001b[49m\u001b[43my\u001b[49m\u001b[43m,\u001b[49m\u001b[43m \u001b[49m\u001b[43mbatch_size\u001b[49m\u001b[38;5;241;43m=\u001b[39;49m\u001b[43mbatch_size\u001b[49m\u001b[43m,\u001b[49m\u001b[43m \u001b[49m\u001b[43mepochs\u001b[49m\u001b[38;5;241;43m=\u001b[39;49m\u001b[38;5;241;43m1\u001b[39;49m\u001b[43m)\u001b[49m\n\u001b[1;32m      6\u001b[0m     \u001b[38;5;28mprint\u001b[39m()\n\u001b[1;32m      7\u001b[0m     \u001b[38;5;28mprint\u001b[39m(\u001b[38;5;124m\"\u001b[39m\u001b[38;5;124mGenerating text after epoch: \u001b[39m\u001b[38;5;132;01m%d\u001b[39;00m\u001b[38;5;124m\"\u001b[39m \u001b[38;5;241m%\u001b[39m epoch)\n",
      "File \u001b[0;32m~/opt/anaconda3/envs/tf/lib/python3.10/site-packages/keras/utils/traceback_utils.py:70\u001b[0m, in \u001b[0;36mfilter_traceback.<locals>.error_handler\u001b[0;34m(*args, **kwargs)\u001b[0m\n\u001b[1;32m     67\u001b[0m     filtered_tb \u001b[38;5;241m=\u001b[39m _process_traceback_frames(e\u001b[38;5;241m.\u001b[39m__traceback__)\n\u001b[1;32m     68\u001b[0m     \u001b[38;5;66;03m# To get the full stack trace, call:\u001b[39;00m\n\u001b[1;32m     69\u001b[0m     \u001b[38;5;66;03m# `tf.debugging.disable_traceback_filtering()`\u001b[39;00m\n\u001b[0;32m---> 70\u001b[0m     \u001b[38;5;28;01mraise\u001b[39;00m e\u001b[38;5;241m.\u001b[39mwith_traceback(filtered_tb) \u001b[38;5;28;01mfrom\u001b[39;00m \u001b[38;5;28mNone\u001b[39m\n\u001b[1;32m     71\u001b[0m \u001b[38;5;28;01mfinally\u001b[39;00m:\n\u001b[1;32m     72\u001b[0m     \u001b[38;5;28;01mdel\u001b[39;00m filtered_tb\n",
      "File \u001b[0;32m/var/folders/qp/1k1ym6rd1z34yt05vjspksl40000gn/T/__autograph_generated_filef1jy3_vk.py:15\u001b[0m, in \u001b[0;36mouter_factory.<locals>.inner_factory.<locals>.tf__train_function\u001b[0;34m(iterator)\u001b[0m\n\u001b[1;32m     13\u001b[0m \u001b[38;5;28;01mtry\u001b[39;00m:\n\u001b[1;32m     14\u001b[0m     do_return \u001b[38;5;241m=\u001b[39m \u001b[38;5;28;01mTrue\u001b[39;00m\n\u001b[0;32m---> 15\u001b[0m     retval_ \u001b[38;5;241m=\u001b[39m ag__\u001b[38;5;241m.\u001b[39mconverted_call(ag__\u001b[38;5;241m.\u001b[39mld(step_function), (ag__\u001b[38;5;241m.\u001b[39mld(\u001b[38;5;28mself\u001b[39m), ag__\u001b[38;5;241m.\u001b[39mld(iterator)), \u001b[38;5;28;01mNone\u001b[39;00m, fscope)\n\u001b[1;32m     16\u001b[0m \u001b[38;5;28;01mexcept\u001b[39;00m:\n\u001b[1;32m     17\u001b[0m     do_return \u001b[38;5;241m=\u001b[39m \u001b[38;5;28;01mFalse\u001b[39;00m\n",
      "\u001b[0;31mValueError\u001b[0m: in user code:\n\n    File \"/Users/setone/opt/anaconda3/envs/tf/lib/python3.10/site-packages/keras/engine/training.py\", line 1160, in train_function  *\n        return step_function(self, iterator)\n    File \"/Users/setone/opt/anaconda3/envs/tf/lib/python3.10/site-packages/keras/engine/training.py\", line 1146, in step_function  **\n        outputs = model.distribute_strategy.run(run_step, args=(data,))\n    File \"/Users/setone/opt/anaconda3/envs/tf/lib/python3.10/site-packages/keras/engine/training.py\", line 1135, in run_step  **\n        outputs = model.train_step(data)\n    File \"/Users/setone/opt/anaconda3/envs/tf/lib/python3.10/site-packages/keras/engine/training.py\", line 993, in train_step\n        y_pred = self(x, training=True)\n    File \"/Users/setone/opt/anaconda3/envs/tf/lib/python3.10/site-packages/keras/utils/traceback_utils.py\", line 70, in error_handler\n        raise e.with_traceback(filtered_tb) from None\n    File \"/Users/setone/opt/anaconda3/envs/tf/lib/python3.10/site-packages/keras/engine/input_spec.py\", line 295, in assert_input_compatibility\n        raise ValueError(\n\n    ValueError: Input 0 of layer \"sequential\" is incompatible with the layer: expected shape=(None, 40, 2982603), found shape=(None, 26)\n"
     ]
    }
   ],
   "source": [
    "epochs = 40\n",
    "batch_size = 128\n",
    "\n",
    "for epoch in range(epochs):\n",
    "    model.fit(X, y, batch_size=batch_size, epochs=1)\n",
    "    print()\n",
    "    print(\"Generating text after epoch: %d\" % epoch)\n",
    "\n",
    "    start_index = random.randint(0, len(text) - maxlen - 1)\n",
    "    for diversity in [0.2, 0.5, 1.0, 1.2]:\n",
    "        print(\"...Diversity:\", diversity)\n",
    "\n",
    "        generated = \"\"\n",
    "        sentence = text[start_index : start_index + maxlen]\n",
    "        print('...Generating with seed: \"' + sentence + '\"')\n",
    "\n",
    "        for i in range(400):\n",
    "            x_pred = np.zeros((1, maxlen, len(chars)))\n",
    "            for t, char in enumerate(sentence):\n",
    "                x_pred[0, t, char_indices[char]] = 1.0\n",
    "            preds = model.predict(x_pred, verbose=0)[0]\n",
    "            next_index = sample(preds, diversity)\n",
    "            next_char = indices_char[next_index]\n",
    "            sentence = sentence[1:] + next_char\n",
    "            generated += next_char\n",
    "\n",
    "        print(\"...Generated: \", generated)\n",
    "        print()"
   ]
  },
  {
   "cell_type": "code",
   "execution_count": null,
   "id": "181206af",
   "metadata": {},
   "outputs": [],
   "source": []
  }
 ],
 "metadata": {
  "kernelspec": {
   "display_name": "Python 3 (ipykernel)",
   "language": "python",
   "name": "python3"
  },
  "language_info": {
   "codemirror_mode": {
    "name": "ipython",
    "version": 3
   },
   "file_extension": ".py",
   "mimetype": "text/x-python",
   "name": "python",
   "nbconvert_exporter": "python",
   "pygments_lexer": "ipython3",
   "version": "3.10.9"
  }
 },
 "nbformat": 4,
 "nbformat_minor": 5
}
