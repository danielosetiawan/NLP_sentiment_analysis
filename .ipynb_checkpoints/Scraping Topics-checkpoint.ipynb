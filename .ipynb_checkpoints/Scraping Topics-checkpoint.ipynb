{
 "cells": [
  {
   "cell_type": "code",
   "execution_count": 74,
   "id": "d3226cfc",
   "metadata": {},
   "outputs": [],
   "source": [
    "import seaborn as sns\n",
    "import numpy as np\n",
    "import pandas as pd\n",
    "import snscrape.modules.twitter as sntwitter\n",
    "\n",
    "sns.set(rc = {'figure.figsize':(15, 7)})\n",
    "sns.set_style('white')\n",
    "pd.set_option('display.max_columns', 500)"
   ]
  },
  {
   "cell_type": "markdown",
   "id": "0ce7f1bf",
   "metadata": {},
   "source": [
    "### Scraping Twitter"
   ]
  },
  {
   "cell_type": "code",
   "execution_count": 75,
   "id": "f50c423d",
   "metadata": {},
   "outputs": [],
   "source": [
    "def scrape_topics(topic, date_start='2022-07-31', date_end='2022-07-31'):\n",
    "\n",
    "    # Creating list to append tweet data to\n",
    "    tweets_list = []\n",
    "\n",
    "    # Using TwitterSearchScraper to scrape data and append tweets to list\n",
    "    for i,tweet in enumerate(\n",
    "        sntwitter.TwitterHashtagScraper(f'{topic} since:{date_start}').get_items()\n",
    "    ):\n",
    "        if i>50000:\n",
    "            break\n",
    "        tweets_list.append([tweet.date, tweet.content])\n",
    "\n",
    "    globals()[topic.replace(' ', '_')] = pd.DataFrame(tweets_list, columns=['Datetime', 'Text'])"
   ]
  },
  {
   "cell_type": "code",
   "execution_count": 41,
   "id": "135e5c4d",
   "metadata": {},
   "outputs": [
    {
     "name": "stderr",
     "output_type": "stream",
     "text": [
      "/var/folders/qp/1k1ym6rd1z34yt05vjspksl40000gn/T/ipykernel_71691/927944712.py:12: FutureWarning: content is deprecated, use rawContent instead\n",
      "  tweets_list.append([tweet.date, tweet.content])\n"
     ]
    },
    {
     "data": {
      "text/html": [
       "<div>\n",
       "<style scoped>\n",
       "    .dataframe tbody tr th:only-of-type {\n",
       "        vertical-align: middle;\n",
       "    }\n",
       "\n",
       "    .dataframe tbody tr th {\n",
       "        vertical-align: top;\n",
       "    }\n",
       "\n",
       "    .dataframe thead th {\n",
       "        text-align: right;\n",
       "    }\n",
       "</style>\n",
       "<table border=\"1\" class=\"dataframe\">\n",
       "  <thead>\n",
       "    <tr style=\"text-align: right;\">\n",
       "      <th></th>\n",
       "      <th>Datetime</th>\n",
       "      <th>Text</th>\n",
       "    </tr>\n",
       "  </thead>\n",
       "  <tbody>\n",
       "    <tr>\n",
       "      <th>0</th>\n",
       "      <td>2023-02-24 04:52:49+00:00</td>\n",
       "      <td>(1+TCAinfla)/(1+TCAtc) es el cociente del crec...</td>\n",
       "    </tr>\n",
       "    <tr>\n",
       "      <th>1</th>\n",
       "      <td>2023-02-24 04:20:17+00:00</td>\n",
       "      <td>#recession #recession2k22 #currentnews #NewsTo...</td>\n",
       "    </tr>\n",
       "    <tr>\n",
       "      <th>2</th>\n",
       "      <td>2023-02-24 04:20:16+00:00</td>\n",
       "      <td>#recession #recession2k22 #currentnews #NewsTo...</td>\n",
       "    </tr>\n",
       "    <tr>\n",
       "      <th>3</th>\n",
       "      <td>2023-02-24 04:14:20+00:00</td>\n",
       "      <td>$ETH $BTC #Ethereum #Bitcoin #BigShort #recess...</td>\n",
       "    </tr>\n",
       "    <tr>\n",
       "      <th>4</th>\n",
       "      <td>2023-02-24 03:52:35+00:00</td>\n",
       "      <td>#Recession 101. If your talking about it, it’s...</td>\n",
       "    </tr>\n",
       "  </tbody>\n",
       "</table>\n",
       "</div>"
      ],
      "text/plain": [
       "                   Datetime                                               Text\n",
       "0 2023-02-24 04:52:49+00:00  (1+TCAinfla)/(1+TCAtc) es el cociente del crec...\n",
       "1 2023-02-24 04:20:17+00:00  #recession #recession2k22 #currentnews #NewsTo...\n",
       "2 2023-02-24 04:20:16+00:00  #recession #recession2k22 #currentnews #NewsTo...\n",
       "3 2023-02-24 04:14:20+00:00  $ETH $BTC #Ethereum #Bitcoin #BigShort #recess...\n",
       "4 2023-02-24 03:52:35+00:00  #Recession 101. If your talking about it, it’s..."
      ]
     },
     "execution_count": 41,
     "metadata": {},
     "output_type": "execute_result"
    }
   ],
   "source": [
    "topic = 'recession'\n",
    "\n",
    "scrape_topics(topic, '2022-02-23', '2023-02-23')\n",
    "globals()[topic].to_csv(f'./data/scraped_topics/{topic}.csv')\n",
    "globals()[topic].head()"
   ]
  },
  {
   "cell_type": "code",
   "execution_count": 45,
   "id": "a8e5cd1f",
   "metadata": {},
   "outputs": [
    {
     "name": "stderr",
     "output_type": "stream",
     "text": [
      "/var/folders/qp/1k1ym6rd1z34yt05vjspksl40000gn/T/ipykernel_71691/927944712.py:12: FutureWarning: content is deprecated, use rawContent instead\n",
      "  tweets_list.append([tweet.date, tweet.content])\n"
     ]
    },
    {
     "data": {
      "text/html": [
       "<div>\n",
       "<style scoped>\n",
       "    .dataframe tbody tr th:only-of-type {\n",
       "        vertical-align: middle;\n",
       "    }\n",
       "\n",
       "    .dataframe tbody tr th {\n",
       "        vertical-align: top;\n",
       "    }\n",
       "\n",
       "    .dataframe thead th {\n",
       "        text-align: right;\n",
       "    }\n",
       "</style>\n",
       "<table border=\"1\" class=\"dataframe\">\n",
       "  <thead>\n",
       "    <tr style=\"text-align: right;\">\n",
       "      <th></th>\n",
       "      <th>Datetime</th>\n",
       "      <th>Text</th>\n",
       "    </tr>\n",
       "  </thead>\n",
       "  <tbody>\n",
       "    <tr>\n",
       "      <th>0</th>\n",
       "      <td>2023-02-24 07:00:25+00:00</td>\n",
       "      <td>\"The Commodities Feed: Brent rebounds\" - ING B...</td>\n",
       "    </tr>\n",
       "    <tr>\n",
       "      <th>1</th>\n",
       "      <td>2023-02-24 07:00:23+00:00</td>\n",
       "      <td>The effects of Indonesia’s technical barriers ...</td>\n",
       "    </tr>\n",
       "    <tr>\n",
       "      <th>2</th>\n",
       "      <td>2023-02-24 07:00:17+00:00</td>\n",
       "      <td>$GBX - White Brook Capital - Greenbrier: In An...</td>\n",
       "    </tr>\n",
       "    <tr>\n",
       "      <th>3</th>\n",
       "      <td>2023-02-24 07:00:07+00:00</td>\n",
       "      <td>US Industrial Production: Computers, video and...</td>\n",
       "    </tr>\n",
       "    <tr>\n",
       "      <th>4</th>\n",
       "      <td>2023-02-24 06:59:47+00:00</td>\n",
       "      <td>COMING UP @ 5 PM | 'Govt should acquire land &amp;...</td>\n",
       "    </tr>\n",
       "  </tbody>\n",
       "</table>\n",
       "</div>"
      ],
      "text/plain": [
       "                   Datetime                                               Text\n",
       "0 2023-02-24 07:00:25+00:00  \"The Commodities Feed: Brent rebounds\" - ING B...\n",
       "1 2023-02-24 07:00:23+00:00  The effects of Indonesia’s technical barriers ...\n",
       "2 2023-02-24 07:00:17+00:00  $GBX - White Brook Capital - Greenbrier: In An...\n",
       "3 2023-02-24 07:00:07+00:00  US Industrial Production: Computers, video and...\n",
       "4 2023-02-24 06:59:47+00:00  COMING UP @ 5 PM | 'Govt should acquire land &..."
      ]
     },
     "execution_count": 45,
     "metadata": {},
     "output_type": "execute_result"
    }
   ],
   "source": [
    "topic = 'economy'\n",
    "\n",
    "scrape_topics(topic, '2022-02-23', '2023-02-23')\n",
    "globals()[topic].to_csv(f'./data/scraped_topics/{topic}.csv')\n",
    "globals()[topic].head()"
   ]
  },
  {
   "cell_type": "code",
   "execution_count": 46,
   "id": "eb891795",
   "metadata": {},
   "outputs": [
    {
     "name": "stderr",
     "output_type": "stream",
     "text": [
      "/var/folders/qp/1k1ym6rd1z34yt05vjspksl40000gn/T/ipykernel_71691/927944712.py:12: FutureWarning: content is deprecated, use rawContent instead\n",
      "  tweets_list.append([tweet.date, tweet.content])\n"
     ]
    },
    {
     "data": {
      "text/html": [
       "<div>\n",
       "<style scoped>\n",
       "    .dataframe tbody tr th:only-of-type {\n",
       "        vertical-align: middle;\n",
       "    }\n",
       "\n",
       "    .dataframe tbody tr th {\n",
       "        vertical-align: top;\n",
       "    }\n",
       "\n",
       "    .dataframe thead th {\n",
       "        text-align: right;\n",
       "    }\n",
       "</style>\n",
       "<table border=\"1\" class=\"dataframe\">\n",
       "  <thead>\n",
       "    <tr style=\"text-align: right;\">\n",
       "      <th></th>\n",
       "      <th>Datetime</th>\n",
       "      <th>Text</th>\n",
       "    </tr>\n",
       "  </thead>\n",
       "  <tbody>\n",
       "    <tr>\n",
       "      <th>0</th>\n",
       "      <td>2023-02-24 07:36:03+00:00</td>\n",
       "      <td>बेरोज़गार बानी साहेब रोजगार मांगीला... \\n#neha...</td>\n",
       "    </tr>\n",
       "    <tr>\n",
       "      <th>1</th>\n",
       "      <td>2023-02-24 07:32:29+00:00</td>\n",
       "      <td>@_PTLB @IMPraveenDalal Indian economy has coll...</td>\n",
       "    </tr>\n",
       "    <tr>\n",
       "      <th>2</th>\n",
       "      <td>2023-02-24 07:14:17+00:00</td>\n",
       "      <td>https://t.co/prMYo88PgU\\n\\n#hunger #afganistan...</td>\n",
       "    </tr>\n",
       "    <tr>\n",
       "      <th>3</th>\n",
       "      <td>2023-02-24 06:57:40+00:00</td>\n",
       "      <td>बेरोज़गार बानी साहेब रोजगार मांगीला... \\n#neha...</td>\n",
       "    </tr>\n",
       "    <tr>\n",
       "      <th>4</th>\n",
       "      <td>2023-02-24 06:51:43+00:00</td>\n",
       "      <td>बेरोज़गार बानी साहेब रोजगार मांगीला... \\n#neha...</td>\n",
       "    </tr>\n",
       "  </tbody>\n",
       "</table>\n",
       "</div>"
      ],
      "text/plain": [
       "                   Datetime                                               Text\n",
       "0 2023-02-24 07:36:03+00:00  बेरोज़गार बानी साहेब रोजगार मांगीला... \\n#neha...\n",
       "1 2023-02-24 07:32:29+00:00  @_PTLB @IMPraveenDalal Indian economy has coll...\n",
       "2 2023-02-24 07:14:17+00:00  https://t.co/prMYo88PgU\\n\\n#hunger #afganistan...\n",
       "3 2023-02-24 06:57:40+00:00  बेरोज़गार बानी साहेब रोजगार मांगीला... \\n#neha...\n",
       "4 2023-02-24 06:51:43+00:00  बेरोज़गार बानी साहेब रोजगार मांगीला... \\n#neha..."
      ]
     },
     "execution_count": 46,
     "metadata": {},
     "output_type": "execute_result"
    }
   ],
   "source": [
    "topic = 'unemployment'\n",
    "\n",
    "scrape_topics(topic, '2022-02-23', '2023-02-23')\n",
    "globals()[topic].to_csv(f'./data/scraped_topics/{topic}.csv')\n",
    "globals()[topic].head()"
   ]
  },
  {
   "cell_type": "code",
   "execution_count": null,
   "id": "0ef61e14",
   "metadata": {},
   "outputs": [],
   "source": [
    "topic = 'inflation'\n",
    "\n",
    "scrape_topics(topic, '2022-02-23', '2023-02-23')\n",
    "globals()[topic].to_csv(f'./data/scraped_topics/{topic}.csv')\n",
    "globals()[topic].head()"
   ]
  },
  {
   "cell_type": "code",
   "execution_count": null,
   "id": "11300346",
   "metadata": {},
   "outputs": [],
   "source": [
    "topic = 'us treasury'\n",
    "\n",
    "scrape_topics(topic, '2022-02-23', '2023-02-23')\n",
    "globals()[topic].to_csv(f'./data/scraped_topics/{topic}.csv')\n",
    "globals()[topic].head()"
   ]
  },
  {
   "cell_type": "code",
   "execution_count": null,
   "id": "64eb0823",
   "metadata": {},
   "outputs": [],
   "source": [
    "topic = 'interest rates'\n",
    "\n",
    "scrape_topics(topic, '2022-02-23', '2023-02-23')\n",
    "globals()[topic.replace(' ', '_')].to_csv(f'./data/scraped_topics/{topic}.csv')\n",
    "globals()[topic.replace(' ', '_')].head()"
   ]
  },
  {
   "cell_type": "code",
   "execution_count": 76,
   "id": "00bca203",
   "metadata": {},
   "outputs": [
    {
     "name": "stderr",
     "output_type": "stream",
     "text": [
      "/var/folders/qp/1k1ym6rd1z34yt05vjspksl40000gn/T/ipykernel_71691/3462443423.py:12: FutureWarning: content is deprecated, use rawContent instead\n",
      "  tweets_list.append([tweet.date, tweet.content])\n"
     ]
    },
    {
     "data": {
      "text/html": [
       "<div>\n",
       "<style scoped>\n",
       "    .dataframe tbody tr th:only-of-type {\n",
       "        vertical-align: middle;\n",
       "    }\n",
       "\n",
       "    .dataframe tbody tr th {\n",
       "        vertical-align: top;\n",
       "    }\n",
       "\n",
       "    .dataframe thead th {\n",
       "        text-align: right;\n",
       "    }\n",
       "</style>\n",
       "<table border=\"1\" class=\"dataframe\">\n",
       "  <thead>\n",
       "    <tr style=\"text-align: right;\">\n",
       "      <th></th>\n",
       "      <th>Datetime</th>\n",
       "      <th>Text</th>\n",
       "    </tr>\n",
       "  </thead>\n",
       "  <tbody>\n",
       "    <tr>\n",
       "      <th>0</th>\n",
       "      <td>2023-02-24 23:20:43+00:00</td>\n",
       "      <td>⚠️🇺🇸#recession #us #economy\\nbond market lays ...</td>\n",
       "    </tr>\n",
       "    <tr>\n",
       "      <th>1</th>\n",
       "      <td>2023-02-24 21:01:20+00:00</td>\n",
       "      <td>We know that wealth distribution in the #US is...</td>\n",
       "    </tr>\n",
       "    <tr>\n",
       "      <th>2</th>\n",
       "      <td>2023-02-24 18:08:16+00:00</td>\n",
       "      <td>Made a bond and from there it turned into ever...</td>\n",
       "    </tr>\n",
       "    <tr>\n",
       "      <th>3</th>\n",
       "      <td>2023-02-24 03:22:26+00:00</td>\n",
       "      <td>Good Morning\\nMarket Crux\\n#USDINR #Rupee #Ind...</td>\n",
       "    </tr>\n",
       "    <tr>\n",
       "      <th>4</th>\n",
       "      <td>2023-02-23 16:29:43+00:00</td>\n",
       "      <td>Wall Street's bond expert Jeffrey gundlach rec...</td>\n",
       "    </tr>\n",
       "  </tbody>\n",
       "</table>\n",
       "</div>"
      ],
      "text/plain": [
       "                   Datetime                                               Text\n",
       "0 2023-02-24 23:20:43+00:00  ⚠️🇺🇸#recession #us #economy\\nbond market lays ...\n",
       "1 2023-02-24 21:01:20+00:00  We know that wealth distribution in the #US is...\n",
       "2 2023-02-24 18:08:16+00:00  Made a bond and from there it turned into ever...\n",
       "3 2023-02-24 03:22:26+00:00  Good Morning\\nMarket Crux\\n#USDINR #Rupee #Ind...\n",
       "4 2023-02-23 16:29:43+00:00  Wall Street's bond expert Jeffrey gundlach rec..."
      ]
     },
     "execution_count": 76,
     "metadata": {},
     "output_type": "execute_result"
    }
   ],
   "source": [
    "topic = 'us bonds'\n",
    "\n",
    "scrape_topics(topic, '2022-02-23', '2023-02-23')\n",
    "globals()[topic.replace(' ', '_')].to_csv(f'./data/scraped_topics/{topic}.csv')\n",
    "globals()[topic.replace(' ', '_')].head()"
   ]
  },
  {
   "cell_type": "code",
   "execution_count": null,
   "id": "9070a7c4",
   "metadata": {},
   "outputs": [],
   "source": []
  }
 ],
 "metadata": {
  "kernelspec": {
   "display_name": "Python 3 (ipykernel)",
   "language": "python",
   "name": "python3"
  },
  "language_info": {
   "codemirror_mode": {
    "name": "ipython",
    "version": 3
   },
   "file_extension": ".py",
   "mimetype": "text/x-python",
   "name": "python",
   "nbconvert_exporter": "python",
   "pygments_lexer": "ipython3",
   "version": "3.8.16"
  }
 },
 "nbformat": 4,
 "nbformat_minor": 5
}
