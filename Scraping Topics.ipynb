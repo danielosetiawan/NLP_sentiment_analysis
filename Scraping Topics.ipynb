{
 "cells": [
  {
   "cell_type": "code",
   "execution_count": 1,
   "id": "d3226cfc",
   "metadata": {},
   "outputs": [],
   "source": [
    "import seaborn as sns\n",
    "import numpy as np\n",
    "import pandas as pd\n",
    "import snscrape.modules.twitter as sntwitter\n",
    "\n",
    "sns.set(rc = {'figure.figsize':(15, 7)})\n",
    "sns.set_style('white')\n",
    "pd.set_option('display.max_columns', 500)"
   ]
  },
  {
   "cell_type": "markdown",
   "id": "0ce7f1bf",
   "metadata": {},
   "source": [
    "### Scraping Twitter"
   ]
  },
  {
   "cell_type": "code",
   "execution_count": 21,
   "id": "f50c423d",
   "metadata": {},
   "outputs": [],
   "source": [
    "def scrape_topics(topic, num=50000, date_start='2022-01-23'):\n",
    "\n",
    "    # Creating list to append tweet data to\n",
    "    tweets_list = []\n",
    "\n",
    "    # Using TwitterSearchScraper to scrape data and append tweets to list\n",
    "    for idx, tweet in enumerate(sntwitter.TwitterSearchScraper(\n",
    "        f'{topic} since:2022-02-01 until:2022-09-01').get_items()):\n",
    "        \n",
    "\n",
    "        if idx%10000 == 0:\n",
    "            print(f'{idx} reached')\n",
    "        if idx>num:\n",
    "            break\n",
    "        tweets_list.append([tweet.date, tweet.rawContent])\n",
    "\n",
    "    globals()[topic.replace(' ', '_')] = pd.DataFrame(tweets_list, columns=['Datetime', 'Text'])"
   ]
  },
  {
   "cell_type": "code",
   "execution_count": 6,
   "id": "2173ec51",
   "metadata": {},
   "outputs": [],
   "source": [
    "topics = ['inflation']"
   ]
  },
  {
   "cell_type": "code",
   "execution_count": 83,
   "id": "1b07fd2d",
   "metadata": {},
   "outputs": [],
   "source": [
    "topics = ['recession', 'unemployment', 'interest rates', 'economy', \n",
    "          'cryptocurrency', 'inflation', 'us treasury', 'us bonds']\n",
    "topics = ['cryptocurrency', 'inflation', 'bonds']"
   ]
  },
  {
   "cell_type": "code",
   "execution_count": 86,
   "id": "a1aba19b",
   "metadata": {},
   "outputs": [
    {
     "data": {
      "text/html": [
       "<div>\n",
       "<style scoped>\n",
       "    .dataframe tbody tr th:only-of-type {\n",
       "        vertical-align: middle;\n",
       "    }\n",
       "\n",
       "    .dataframe tbody tr th {\n",
       "        vertical-align: top;\n",
       "    }\n",
       "\n",
       "    .dataframe thead th {\n",
       "        text-align: right;\n",
       "    }\n",
       "</style>\n",
       "<table border=\"1\" class=\"dataframe\">\n",
       "  <thead>\n",
       "    <tr style=\"text-align: right;\">\n",
       "      <th></th>\n",
       "      <th>Unnamed: 0</th>\n",
       "      <th>Datetime</th>\n",
       "      <th>Text</th>\n",
       "    </tr>\n",
       "  </thead>\n",
       "  <tbody>\n",
       "    <tr>\n",
       "      <th>0</th>\n",
       "      <td>0</td>\n",
       "      <td>2023-02-26 22:54:02+00:00</td>\n",
       "      <td>#Crypto #Cryptocurrency #BTC #ETH #BNB #Solana...</td>\n",
       "    </tr>\n",
       "    <tr>\n",
       "      <th>1</th>\n",
       "      <td>1</td>\n",
       "      <td>2023-02-26 22:53:02+00:00</td>\n",
       "      <td>c03x found #bitcoin in a User vault at this lo...</td>\n",
       "    </tr>\n",
       "    <tr>\n",
       "      <th>2</th>\n",
       "      <td>2</td>\n",
       "      <td>2023-02-26 22:52:11+00:00</td>\n",
       "      <td>c03x found #bitcoin in a User vault at this lo...</td>\n",
       "    </tr>\n",
       "    <tr>\n",
       "      <th>3</th>\n",
       "      <td>3</td>\n",
       "      <td>2023-02-26 22:51:23+00:00</td>\n",
       "      <td>Happy Monday everyone!!!\\n\\nCheck out this wee...</td>\n",
       "    </tr>\n",
       "    <tr>\n",
       "      <th>4</th>\n",
       "      <td>4</td>\n",
       "      <td>2023-02-26 22:50:36+00:00</td>\n",
       "      <td>c03x found #ethereum in a User vault at this l...</td>\n",
       "    </tr>\n",
       "    <tr>\n",
       "      <th>...</th>\n",
       "      <td>...</td>\n",
       "      <td>...</td>\n",
       "      <td>...</td>\n",
       "    </tr>\n",
       "    <tr>\n",
       "      <th>635333</th>\n",
       "      <td>499996</td>\n",
       "      <td>2022-12-26 14:43:42+00:00</td>\n",
       "      <td>#Crypto #Cryptocurrency #BTC #ETH #BNB #Solana...</td>\n",
       "    </tr>\n",
       "    <tr>\n",
       "      <th>635334</th>\n",
       "      <td>499997</td>\n",
       "      <td>2022-12-26 14:43:33+00:00</td>\n",
       "      <td>#Ethereum price update: \\n\\n#ETH $1216.12 USD\\...</td>\n",
       "    </tr>\n",
       "    <tr>\n",
       "      <th>635335</th>\n",
       "      <td>499998</td>\n",
       "      <td>2022-12-26 14:43:03+00:00</td>\n",
       "      <td>Bitcoin mining pool https://t.co/ndsT4HVEo2 re...</td>\n",
       "    </tr>\n",
       "    <tr>\n",
       "      <th>635336</th>\n",
       "      <td>499999</td>\n",
       "      <td>2022-12-26 14:43:03+00:00</td>\n",
       "      <td>#CryptoCurrency #France #cryptocurrencyexchang...</td>\n",
       "    </tr>\n",
       "    <tr>\n",
       "      <th>635337</th>\n",
       "      <td>500000</td>\n",
       "      <td>2022-12-26 14:43:02+00:00</td>\n",
       "      <td>Bitcoin mining pool https://t.co/T4lfxo6Los re...</td>\n",
       "    </tr>\n",
       "  </tbody>\n",
       "</table>\n",
       "<p>499995 rows × 3 columns</p>\n",
       "</div>"
      ],
      "text/plain": [
       "       Unnamed: 0                   Datetime  \\\n",
       "0               0  2023-02-26 22:54:02+00:00   \n",
       "1               1  2023-02-26 22:53:02+00:00   \n",
       "2               2  2023-02-26 22:52:11+00:00   \n",
       "3               3  2023-02-26 22:51:23+00:00   \n",
       "4               4  2023-02-26 22:50:36+00:00   \n",
       "...           ...                        ...   \n",
       "635333     499996  2022-12-26 14:43:42+00:00   \n",
       "635334     499997  2022-12-26 14:43:33+00:00   \n",
       "635335     499998  2022-12-26 14:43:03+00:00   \n",
       "635336     499999  2022-12-26 14:43:03+00:00   \n",
       "635337     500000  2022-12-26 14:43:02+00:00   \n",
       "\n",
       "                                                     Text  \n",
       "0       #Crypto #Cryptocurrency #BTC #ETH #BNB #Solana...  \n",
       "1       c03x found #bitcoin in a User vault at this lo...  \n",
       "2       c03x found #bitcoin in a User vault at this lo...  \n",
       "3       Happy Monday everyone!!!\\n\\nCheck out this wee...  \n",
       "4       c03x found #ethereum in a User vault at this l...  \n",
       "...                                                   ...  \n",
       "635333  #Crypto #Cryptocurrency #BTC #ETH #BNB #Solana...  \n",
       "635334  #Ethereum price update: \\n\\n#ETH $1216.12 USD\\...  \n",
       "635335  Bitcoin mining pool https://t.co/ndsT4HVEo2 re...  \n",
       "635336  #CryptoCurrency #France #cryptocurrencyexchang...  \n",
       "635337  Bitcoin mining pool https://t.co/T4lfxo6Los re...  \n",
       "\n",
       "[499995 rows x 3 columns]"
      ]
     },
     "execution_count": 86,
     "metadata": {},
     "output_type": "execute_result"
    }
   ],
   "source": [
    "pd.read_csv('./data/scraped_topics/cryptocurrency.csv').dropna()"
   ]
  },
  {
   "cell_type": "code",
   "execution_count": 23,
   "id": "e09b7f3d",
   "metadata": {},
   "outputs": [
    {
     "name": "stderr",
     "output_type": "stream",
     "text": [
      "/var/folders/qp/1k1ym6rd1z34yt05vjspksl40000gn/T/ipykernel_47944/1121654004.py:1: DtypeWarning: Columns (0) have mixed types. Specify dtype option on import or set low_memory=False.\n",
      "  infl = pd.read_csv(f'./data/scraped_topics/{topic.replace(\" \", \"_\")}2.csv')\n"
     ]
    }
   ],
   "source": [
    "infl = pd.read_csv(f'./data/scraped_topics/{topic.replace(\" \", \"_\")}2.csv')"
   ]
  },
  {
   "cell_type": "code",
   "execution_count": null,
   "id": "66bf98db",
   "metadata": {
    "scrolled": false
   },
   "outputs": [
    {
     "name": "stdout",
     "output_type": "stream",
     "text": [
      "0 reached\n",
      "10000 reached\n",
      "20000 reached\n",
      "30000 reached\n",
      "40000 reached\n",
      "50000 reached\n",
      "60000 reached\n",
      "70000 reached\n",
      "80000 reached\n",
      "90000 reached\n",
      "100000 reached\n",
      "110000 reached\n",
      "120000 reached\n",
      "130000 reached\n",
      "140000 reached\n",
      "150000 reached\n",
      "160000 reached\n",
      "170000 reached\n",
      "180000 reached\n",
      "190000 reached\n",
      "200000 reached\n",
      "210000 reached\n",
      "220000 reached\n",
      "230000 reached\n",
      "240000 reached\n",
      "250000 reached\n",
      "260000 reached\n",
      "270000 reached\n",
      "280000 reached\n",
      "290000 reached\n",
      "300000 reached\n",
      "310000 reached\n",
      "320000 reached\n",
      "330000 reached\n",
      "340000 reached\n",
      "350000 reached\n",
      "360000 reached\n",
      "370000 reached\n",
      "380000 reached\n"
     ]
    }
   ],
   "source": [
    "\n",
    "for topic in topics:\n",
    "    scrape_topics(topic, 500000)\n",
    "    globals()[topic.replace(' ', '_')].to_csv(f'./data/scraped_topics/{topic.replace(\" \", \"_\")}2.csv')\n",
    "    print(f'{topic} successful.')"
   ]
  },
  {
   "cell_type": "code",
   "execution_count": 8,
   "id": "86d80645",
   "metadata": {},
   "outputs": [
    {
     "data": {
      "text/html": [
       "<div>\n",
       "<style scoped>\n",
       "    .dataframe tbody tr th:only-of-type {\n",
       "        vertical-align: middle;\n",
       "    }\n",
       "\n",
       "    .dataframe tbody tr th {\n",
       "        vertical-align: top;\n",
       "    }\n",
       "\n",
       "    .dataframe thead th {\n",
       "        text-align: right;\n",
       "    }\n",
       "</style>\n",
       "<table border=\"1\" class=\"dataframe\">\n",
       "  <thead>\n",
       "    <tr style=\"text-align: right;\">\n",
       "      <th></th>\n",
       "      <th>Datetime</th>\n",
       "      <th>Text</th>\n",
       "    </tr>\n",
       "  </thead>\n",
       "  <tbody>\n",
       "  </tbody>\n",
       "</table>\n",
       "</div>"
      ],
      "text/plain": [
       "Empty DataFrame\n",
       "Columns: [Datetime, Text]\n",
       "Index: []"
      ]
     },
     "execution_count": 8,
     "metadata": {},
     "output_type": "execute_result"
    }
   ],
   "source": [
    "inflation"
   ]
  },
  {
   "cell_type": "code",
   "execution_count": 11,
   "id": "135e5c4d",
   "metadata": {},
   "outputs": [
    {
     "data": {
      "text/html": [
       "<div>\n",
       "<style scoped>\n",
       "    .dataframe tbody tr th:only-of-type {\n",
       "        vertical-align: middle;\n",
       "    }\n",
       "\n",
       "    .dataframe tbody tr th {\n",
       "        vertical-align: top;\n",
       "    }\n",
       "\n",
       "    .dataframe thead th {\n",
       "        text-align: right;\n",
       "    }\n",
       "</style>\n",
       "<table border=\"1\" class=\"dataframe\">\n",
       "  <thead>\n",
       "    <tr style=\"text-align: right;\">\n",
       "      <th></th>\n",
       "      <th>Datetime</th>\n",
       "      <th>Text</th>\n",
       "    </tr>\n",
       "  </thead>\n",
       "  <tbody>\n",
       "  </tbody>\n",
       "</table>\n",
       "</div>"
      ],
      "text/plain": [
       "Empty DataFrame\n",
       "Columns: [Datetime, Text]\n",
       "Index: []"
      ]
     },
     "execution_count": 11,
     "metadata": {},
     "output_type": "execute_result"
    }
   ],
   "source": [
    "topic = 'inflation'\n",
    "\n",
    "scrape_topics(topic, '2022-02-23', '2023-09-23')\n",
    "globals()[topic].to_csv(f'./data/scraped_topics/{topic}.csv')\n",
    "globals()[topic].head()"
   ]
  },
  {
   "cell_type": "code",
   "execution_count": 45,
   "id": "a8e5cd1f",
   "metadata": {},
   "outputs": [
    {
     "name": "stderr",
     "output_type": "stream",
     "text": [
      "/var/folders/qp/1k1ym6rd1z34yt05vjspksl40000gn/T/ipykernel_71691/927944712.py:12: FutureWarning: content is deprecated, use rawContent instead\n",
      "  tweets_list.append([tweet.date, tweet.content])\n"
     ]
    },
    {
     "data": {
      "text/html": [
       "<div>\n",
       "<style scoped>\n",
       "    .dataframe tbody tr th:only-of-type {\n",
       "        vertical-align: middle;\n",
       "    }\n",
       "\n",
       "    .dataframe tbody tr th {\n",
       "        vertical-align: top;\n",
       "    }\n",
       "\n",
       "    .dataframe thead th {\n",
       "        text-align: right;\n",
       "    }\n",
       "</style>\n",
       "<table border=\"1\" class=\"dataframe\">\n",
       "  <thead>\n",
       "    <tr style=\"text-align: right;\">\n",
       "      <th></th>\n",
       "      <th>Datetime</th>\n",
       "      <th>Text</th>\n",
       "    </tr>\n",
       "  </thead>\n",
       "  <tbody>\n",
       "    <tr>\n",
       "      <th>0</th>\n",
       "      <td>2023-02-24 07:00:25+00:00</td>\n",
       "      <td>\"The Commodities Feed: Brent rebounds\" - ING B...</td>\n",
       "    </tr>\n",
       "    <tr>\n",
       "      <th>1</th>\n",
       "      <td>2023-02-24 07:00:23+00:00</td>\n",
       "      <td>The effects of Indonesia’s technical barriers ...</td>\n",
       "    </tr>\n",
       "    <tr>\n",
       "      <th>2</th>\n",
       "      <td>2023-02-24 07:00:17+00:00</td>\n",
       "      <td>$GBX - White Brook Capital - Greenbrier: In An...</td>\n",
       "    </tr>\n",
       "    <tr>\n",
       "      <th>3</th>\n",
       "      <td>2023-02-24 07:00:07+00:00</td>\n",
       "      <td>US Industrial Production: Computers, video and...</td>\n",
       "    </tr>\n",
       "    <tr>\n",
       "      <th>4</th>\n",
       "      <td>2023-02-24 06:59:47+00:00</td>\n",
       "      <td>COMING UP @ 5 PM | 'Govt should acquire land &amp;...</td>\n",
       "    </tr>\n",
       "  </tbody>\n",
       "</table>\n",
       "</div>"
      ],
      "text/plain": [
       "                   Datetime                                               Text\n",
       "0 2023-02-24 07:00:25+00:00  \"The Commodities Feed: Brent rebounds\" - ING B...\n",
       "1 2023-02-24 07:00:23+00:00  The effects of Indonesia’s technical barriers ...\n",
       "2 2023-02-24 07:00:17+00:00  $GBX - White Brook Capital - Greenbrier: In An...\n",
       "3 2023-02-24 07:00:07+00:00  US Industrial Production: Computers, video and...\n",
       "4 2023-02-24 06:59:47+00:00  COMING UP @ 5 PM | 'Govt should acquire land &..."
      ]
     },
     "execution_count": 45,
     "metadata": {},
     "output_type": "execute_result"
    }
   ],
   "source": [
    "topic = 'economy'\n",
    "\n",
    "scrape_topics(topic, '2022-02-23', '2023-02-23')\n",
    "globals()[topic].to_csv(f'./data/scraped_topics/{topic}.csv')\n",
    "globals()[topic].head()"
   ]
  },
  {
   "cell_type": "code",
   "execution_count": 46,
   "id": "eb891795",
   "metadata": {},
   "outputs": [
    {
     "name": "stderr",
     "output_type": "stream",
     "text": [
      "/var/folders/qp/1k1ym6rd1z34yt05vjspksl40000gn/T/ipykernel_71691/927944712.py:12: FutureWarning: content is deprecated, use rawContent instead\n",
      "  tweets_list.append([tweet.date, tweet.content])\n"
     ]
    },
    {
     "data": {
      "text/html": [
       "<div>\n",
       "<style scoped>\n",
       "    .dataframe tbody tr th:only-of-type {\n",
       "        vertical-align: middle;\n",
       "    }\n",
       "\n",
       "    .dataframe tbody tr th {\n",
       "        vertical-align: top;\n",
       "    }\n",
       "\n",
       "    .dataframe thead th {\n",
       "        text-align: right;\n",
       "    }\n",
       "</style>\n",
       "<table border=\"1\" class=\"dataframe\">\n",
       "  <thead>\n",
       "    <tr style=\"text-align: right;\">\n",
       "      <th></th>\n",
       "      <th>Datetime</th>\n",
       "      <th>Text</th>\n",
       "    </tr>\n",
       "  </thead>\n",
       "  <tbody>\n",
       "    <tr>\n",
       "      <th>0</th>\n",
       "      <td>2023-02-24 07:36:03+00:00</td>\n",
       "      <td>बेरोज़गार बानी साहेब रोजगार मांगीला... \\n#neha...</td>\n",
       "    </tr>\n",
       "    <tr>\n",
       "      <th>1</th>\n",
       "      <td>2023-02-24 07:32:29+00:00</td>\n",
       "      <td>@_PTLB @IMPraveenDalal Indian economy has coll...</td>\n",
       "    </tr>\n",
       "    <tr>\n",
       "      <th>2</th>\n",
       "      <td>2023-02-24 07:14:17+00:00</td>\n",
       "      <td>https://t.co/prMYo88PgU\\n\\n#hunger #afganistan...</td>\n",
       "    </tr>\n",
       "    <tr>\n",
       "      <th>3</th>\n",
       "      <td>2023-02-24 06:57:40+00:00</td>\n",
       "      <td>बेरोज़गार बानी साहेब रोजगार मांगीला... \\n#neha...</td>\n",
       "    </tr>\n",
       "    <tr>\n",
       "      <th>4</th>\n",
       "      <td>2023-02-24 06:51:43+00:00</td>\n",
       "      <td>बेरोज़गार बानी साहेब रोजगार मांगीला... \\n#neha...</td>\n",
       "    </tr>\n",
       "  </tbody>\n",
       "</table>\n",
       "</div>"
      ],
      "text/plain": [
       "                   Datetime                                               Text\n",
       "0 2023-02-24 07:36:03+00:00  बेरोज़गार बानी साहेब रोजगार मांगीला... \\n#neha...\n",
       "1 2023-02-24 07:32:29+00:00  @_PTLB @IMPraveenDalal Indian economy has coll...\n",
       "2 2023-02-24 07:14:17+00:00  https://t.co/prMYo88PgU\\n\\n#hunger #afganistan...\n",
       "3 2023-02-24 06:57:40+00:00  बेरोज़गार बानी साहेब रोजगार मांगीला... \\n#neha...\n",
       "4 2023-02-24 06:51:43+00:00  बेरोज़गार बानी साहेब रोजगार मांगीला... \\n#neha..."
      ]
     },
     "execution_count": 46,
     "metadata": {},
     "output_type": "execute_result"
    }
   ],
   "source": [
    "topic = 'unemployment'\n",
    "\n",
    "scrape_topics(topic, '2022-02-23', '2023-02-23')\n",
    "globals()[topic].to_csv(f'./data/scraped_topics/{topic}.csv')\n",
    "globals()[topic].head()"
   ]
  },
  {
   "cell_type": "code",
   "execution_count": null,
   "id": "0ef61e14",
   "metadata": {},
   "outputs": [],
   "source": [
    "topic = 'inflation'\n",
    "\n",
    "scrape_topics(topic, '2022-02-23', '2023-02-23')\n",
    "globals()[topic].to_csv(f'./data/scraped_topics/{topic}.csv')\n",
    "globals()[topic].head()"
   ]
  },
  {
   "cell_type": "code",
   "execution_count": null,
   "id": "11300346",
   "metadata": {},
   "outputs": [],
   "source": [
    "topic = 'us treasury'\n",
    "\n",
    "scrape_topics(topic, '2022-02-23', '2023-02-23')\n",
    "globals()[topic].to_csv(f'./data/scraped_topics/{topic}.csv')\n",
    "globals()[topic].head()"
   ]
  },
  {
   "cell_type": "code",
   "execution_count": null,
   "id": "64eb0823",
   "metadata": {},
   "outputs": [],
   "source": [
    "topic = 'interest rates'\n",
    "\n",
    "scrape_topics(topic, '2022-02-23', '2023-02-23')\n",
    "globals()[topic.replace(' ', '_')].to_csv(f'./data/scraped_topics/{topic}.csv')\n",
    "globals()[topic.replace(' ', '_')].head()"
   ]
  },
  {
   "cell_type": "code",
   "execution_count": 76,
   "id": "00bca203",
   "metadata": {},
   "outputs": [
    {
     "name": "stderr",
     "output_type": "stream",
     "text": [
      "/var/folders/qp/1k1ym6rd1z34yt05vjspksl40000gn/T/ipykernel_71691/3462443423.py:12: FutureWarning: content is deprecated, use rawContent instead\n",
      "  tweets_list.append([tweet.date, tweet.content])\n"
     ]
    },
    {
     "data": {
      "text/html": [
       "<div>\n",
       "<style scoped>\n",
       "    .dataframe tbody tr th:only-of-type {\n",
       "        vertical-align: middle;\n",
       "    }\n",
       "\n",
       "    .dataframe tbody tr th {\n",
       "        vertical-align: top;\n",
       "    }\n",
       "\n",
       "    .dataframe thead th {\n",
       "        text-align: right;\n",
       "    }\n",
       "</style>\n",
       "<table border=\"1\" class=\"dataframe\">\n",
       "  <thead>\n",
       "    <tr style=\"text-align: right;\">\n",
       "      <th></th>\n",
       "      <th>Datetime</th>\n",
       "      <th>Text</th>\n",
       "    </tr>\n",
       "  </thead>\n",
       "  <tbody>\n",
       "    <tr>\n",
       "      <th>0</th>\n",
       "      <td>2023-02-24 23:20:43+00:00</td>\n",
       "      <td>⚠️🇺🇸#recession #us #economy\\nbond market lays ...</td>\n",
       "    </tr>\n",
       "    <tr>\n",
       "      <th>1</th>\n",
       "      <td>2023-02-24 21:01:20+00:00</td>\n",
       "      <td>We know that wealth distribution in the #US is...</td>\n",
       "    </tr>\n",
       "    <tr>\n",
       "      <th>2</th>\n",
       "      <td>2023-02-24 18:08:16+00:00</td>\n",
       "      <td>Made a bond and from there it turned into ever...</td>\n",
       "    </tr>\n",
       "    <tr>\n",
       "      <th>3</th>\n",
       "      <td>2023-02-24 03:22:26+00:00</td>\n",
       "      <td>Good Morning\\nMarket Crux\\n#USDINR #Rupee #Ind...</td>\n",
       "    </tr>\n",
       "    <tr>\n",
       "      <th>4</th>\n",
       "      <td>2023-02-23 16:29:43+00:00</td>\n",
       "      <td>Wall Street's bond expert Jeffrey gundlach rec...</td>\n",
       "    </tr>\n",
       "  </tbody>\n",
       "</table>\n",
       "</div>"
      ],
      "text/plain": [
       "                   Datetime                                               Text\n",
       "0 2023-02-24 23:20:43+00:00  ⚠️🇺🇸#recession #us #economy\\nbond market lays ...\n",
       "1 2023-02-24 21:01:20+00:00  We know that wealth distribution in the #US is...\n",
       "2 2023-02-24 18:08:16+00:00  Made a bond and from there it turned into ever...\n",
       "3 2023-02-24 03:22:26+00:00  Good Morning\\nMarket Crux\\n#USDINR #Rupee #Ind...\n",
       "4 2023-02-23 16:29:43+00:00  Wall Street's bond expert Jeffrey gundlach rec..."
      ]
     },
     "execution_count": 76,
     "metadata": {},
     "output_type": "execute_result"
    }
   ],
   "source": [
    "topic = 'us bonds'\n",
    "\n",
    "scrape_topics(topic, '2022-02-23', '2023-02-23')\n",
    "globals()[topic.replace(' ', '_')].to_csv(f'./data/scraped_topics/{topic}.csv')\n",
    "globals()[topic.replace(' ', '_')].head()"
   ]
  },
  {
   "cell_type": "code",
   "execution_count": null,
   "id": "9070a7c4",
   "metadata": {},
   "outputs": [],
   "source": []
  }
 ],
 "metadata": {
  "kernelspec": {
   "display_name": "Python 3 (ipykernel)",
   "language": "python",
   "name": "python3"
  },
  "language_info": {
   "codemirror_mode": {
    "name": "ipython",
    "version": 3
   },
   "file_extension": ".py",
   "mimetype": "text/x-python",
   "name": "python",
   "nbconvert_exporter": "python",
   "pygments_lexer": "ipython3",
   "version": "3.8.16"
  }
 },
 "nbformat": 4,
 "nbformat_minor": 5
}
