{
 "cells": [
  {
   "cell_type": "code",
   "execution_count": 317,
   "id": "d3226cfc",
   "metadata": {},
   "outputs": [],
   "source": [
    "import seaborn as sns\n",
    "import numpy as np\n",
    "import pandas as pd\n",
    "import snscrape.modules.twitter as sntwitter\n",
    "\n",
    "sns.set(rc = {'figure.figsize':(15, 7)})\n",
    "sns.set_style('white')\n",
    "pd.set_option('display.max_columns', 500)"
   ]
  },
  {
   "cell_type": "code",
   "execution_count": 318,
   "id": "8bb51163",
   "metadata": {},
   "outputs": [
    {
     "data": {
      "text/html": [
       "<div>\n",
       "<style scoped>\n",
       "    .dataframe tbody tr th:only-of-type {\n",
       "        vertical-align: middle;\n",
       "    }\n",
       "\n",
       "    .dataframe tbody tr th {\n",
       "        vertical-align: top;\n",
       "    }\n",
       "\n",
       "    .dataframe thead th {\n",
       "        text-align: right;\n",
       "    }\n",
       "</style>\n",
       "<table border=\"1\" class=\"dataframe\">\n",
       "  <thead>\n",
       "    <tr style=\"text-align: right;\">\n",
       "      <th></th>\n",
       "      <th>tweet_id</th>\n",
       "      <th>writer</th>\n",
       "      <th>post_date</th>\n",
       "      <th>body</th>\n",
       "      <th>comment_num</th>\n",
       "      <th>retweet_num</th>\n",
       "      <th>like_num</th>\n",
       "    </tr>\n",
       "  </thead>\n",
       "  <tbody>\n",
       "    <tr>\n",
       "      <th>0</th>\n",
       "      <td>550441509175443456</td>\n",
       "      <td>VisualStockRSRC</td>\n",
       "      <td>1420070457</td>\n",
       "      <td>lx21 made $10,008  on $AAPL -Check it out! htt...</td>\n",
       "      <td>0</td>\n",
       "      <td>0</td>\n",
       "      <td>1</td>\n",
       "    </tr>\n",
       "    <tr>\n",
       "      <th>1</th>\n",
       "      <td>550441672312512512</td>\n",
       "      <td>KeralaGuy77</td>\n",
       "      <td>1420070496</td>\n",
       "      <td>Insanity of today weirdo massive selling. $aap...</td>\n",
       "      <td>0</td>\n",
       "      <td>0</td>\n",
       "      <td>0</td>\n",
       "    </tr>\n",
       "    <tr>\n",
       "      <th>2</th>\n",
       "      <td>550441732014223360</td>\n",
       "      <td>DozenStocks</td>\n",
       "      <td>1420070510</td>\n",
       "      <td>S&amp;P100 #Stocks Performance $HD $LOW $SBUX $TGT...</td>\n",
       "      <td>0</td>\n",
       "      <td>0</td>\n",
       "      <td>0</td>\n",
       "    </tr>\n",
       "    <tr>\n",
       "      <th>3</th>\n",
       "      <td>550442977802207232</td>\n",
       "      <td>ShowDreamCar</td>\n",
       "      <td>1420070807</td>\n",
       "      <td>$GM $TSLA: Volkswagen Pushes 2014 Record Recal...</td>\n",
       "      <td>0</td>\n",
       "      <td>0</td>\n",
       "      <td>1</td>\n",
       "    </tr>\n",
       "    <tr>\n",
       "      <th>4</th>\n",
       "      <td>550443807834402816</td>\n",
       "      <td>i_Know_First</td>\n",
       "      <td>1420071005</td>\n",
       "      <td>Swing Trading: Up To 8.91% Return In 14 Days h...</td>\n",
       "      <td>0</td>\n",
       "      <td>0</td>\n",
       "      <td>1</td>\n",
       "    </tr>\n",
       "  </tbody>\n",
       "</table>\n",
       "</div>"
      ],
      "text/plain": [
       "             tweet_id           writer   post_date  \\\n",
       "0  550441509175443456  VisualStockRSRC  1420070457   \n",
       "1  550441672312512512      KeralaGuy77  1420070496   \n",
       "2  550441732014223360      DozenStocks  1420070510   \n",
       "3  550442977802207232     ShowDreamCar  1420070807   \n",
       "4  550443807834402816     i_Know_First  1420071005   \n",
       "\n",
       "                                                body  comment_num  \\\n",
       "0  lx21 made $10,008  on $AAPL -Check it out! htt...            0   \n",
       "1  Insanity of today weirdo massive selling. $aap...            0   \n",
       "2  S&P100 #Stocks Performance $HD $LOW $SBUX $TGT...            0   \n",
       "3  $GM $TSLA: Volkswagen Pushes 2014 Record Recal...            0   \n",
       "4  Swing Trading: Up To 8.91% Return In 14 Days h...            0   \n",
       "\n",
       "   retweet_num  like_num  \n",
       "0            0         1  \n",
       "1            0         0  \n",
       "2            0         0  \n",
       "3            0         1  \n",
       "4            0         1  "
      ]
     },
     "execution_count": 318,
     "metadata": {},
     "output_type": "execute_result"
    }
   ],
   "source": [
    "tweets1 = pd.read_csv('./data/Tweet.csv')\n",
    "company1 = pd.read_csv('./data/Company_Tweet.csv')\n",
    "stocks1 = pd.read_csv('./data/stock_data_2010_2020.csv')\n",
    "\n",
    "tweets2 = pd.read_csv('./data/stock_tweets_2021_2022.csv', parse_dates=['Date'])\n",
    "stocks2 = pd.read_csv('./data/stock_data_2021_2022.csv')\n",
    "\n",
    "tweets1.head()"
   ]
  },
  {
   "cell_type": "markdown",
   "id": "0ce7f1bf",
   "metadata": {},
   "source": [
    "### Scraping Twitter"
   ]
  },
  {
   "cell_type": "code",
   "execution_count": 217,
   "id": "0ef61e14",
   "metadata": {},
   "outputs": [
    {
     "data": {
      "text/plain": [
       "array(['TSLA', 'MSFT', 'PG', 'META', 'AMZN', 'GOOG', 'AMD', 'AAPL',\n",
       "       'NFLX', 'TSM', 'KO', 'F', 'COST', 'DIS', 'VZ', 'CRM', 'INTC', 'BA',\n",
       "       'BX', 'NOC', 'PYPL', 'ENPH', 'NIO', 'ZS', 'XPEV'], dtype=object)"
      ]
     },
     "execution_count": 217,
     "metadata": {},
     "output_type": "execute_result"
    }
   ],
   "source": [
    "tweets2['Stock Name'].unique()"
   ]
  },
  {
   "cell_type": "code",
   "execution_count": 212,
   "id": "11300346",
   "metadata": {},
   "outputs": [
    {
     "data": {
      "text/plain": [
       "array(['AAPL', 'GOOG', 'GOOGL', 'AMZN', 'MSFT', 'TSLA'], dtype=object)"
      ]
     },
     "execution_count": 212,
     "metadata": {},
     "output_type": "execute_result"
    }
   ],
   "source": [
    "company1['ticker_symbol'].unique()"
   ]
  },
  {
   "cell_type": "code",
   "execution_count": 241,
   "id": "64eb0823",
   "metadata": {},
   "outputs": [],
   "source": [
    "lst_to_scrape = ['PG', 'META', 'AMD', 'NFLX', 'TSM', 'KO', 'F', 'COST', 'DIS', 'VZ', \n",
    "             'CRM', 'INTC', 'BA', 'BX', 'NOC', 'PYPL', 'ENPH', 'NIO', 'ZS', 'XPEV']"
   ]
  },
  {
   "cell_type": "code",
   "execution_count": 263,
   "id": "0a5836c9",
   "metadata": {},
   "outputs": [],
   "source": [
    "twt_list = []\n",
    "twt_list2 = []\n",
    "\n",
    "for ticker in lst_to_scrape:\n",
    "    for idx, tweet in enumerate(sntwitter.TwitterSearchScraper(\n",
    "        f'@{ticker} since:2015-01-31 until:2019-12-31').get_items()):\n",
    "        \n",
    "        if idx > 15000:\n",
    "            break\n",
    "\n",
    "        twt_list.append([tweet.date, tweet.rawContent, ticker])\n",
    "        \n",
    "for ticker in tweets2['Stock Name'].unique():\n",
    "    for idx, tweet in enumerate(sntwitter.TwitterSearchScraper(\n",
    "        f'@{ticker} since:2020-01-01 until:2021-09-29').get_items()):\n",
    "        \n",
    "        if idx > 15000:\n",
    "            break\n",
    "\n",
    "        twt_list2.append([tweet.date, tweet.rawContent, ticker])"
   ]
  },
  {
   "cell_type": "code",
   "execution_count": 248,
   "id": "9e8ed0fc",
   "metadata": {},
   "outputs": [],
   "source": [
    "df = pd.DataFrame(twt_list, columns=['Date', 'Tweet', 'Stock Name']).merge(\n",
    "    tweets[['Stock Name', 'Company Name']].drop_duplicates(),\n",
    "    on='Stock Name')\n",
    "\n",
    "df2 = pd.DataFrame(twt_list2, columns=['Date', 'Tweet', 'Stock Name']).merge(\n",
    "    tweets[['Stock Name', 'Company Name']].drop_duplicates(),\n",
    "    on='Stock Name')"
   ]
  },
  {
   "cell_type": "code",
   "execution_count": 250,
   "id": "25eebd98",
   "metadata": {},
   "outputs": [],
   "source": [
    "df.to_csv('./data/scraped_tweets_2015_2019.csv', index=False)\n",
    "df2.to_csv('./data/scraped_tweets_2020_2021.csv', index=False)"
   ]
  },
  {
   "cell_type": "markdown",
   "id": "d9c118b6",
   "metadata": {},
   "source": [
    "### Scraping Yahoo Finances"
   ]
  },
  {
   "cell_type": "code",
   "execution_count": 319,
   "id": "5d1b6bfc",
   "metadata": {},
   "outputs": [],
   "source": [
    "from yahoo_fin.stock_info import get_analysts_info\n",
    "import yahoo_fin.stock_info as si"
   ]
  },
  {
   "cell_type": "code",
   "execution_count": 320,
   "id": "02dedf72",
   "metadata": {},
   "outputs": [],
   "source": [
    "user_agent = 'Mozilla/5.0 (Macintosh; Intel Mac OS X 10_15_7) AppleWebKit/537.36 (KHTML, like Gecko) Chrome/109.0.0.0 Safari/537.36'"
   ]
  },
  {
   "cell_type": "code",
   "execution_count": 336,
   "id": "396d2687",
   "metadata": {},
   "outputs": [],
   "source": [
    "df_list = []\n",
    "\n",
    "for ticker in tweets2['Stock Name'].unique():\n",
    "    try:\n",
    "        data = si.get_data(ticker, start_date = '01/01/2015', end_date = '09/29/2022').reset_index()\n",
    "        data.columns = stocks2.columns\n",
    "\n",
    "        globals()[ticker] = data\n",
    "        df_list.append(globals()[ticker])\n",
    "    except:\n",
    "        data = si.get_data(ticker, start_date = '01/01/2020', end_date = '09/29/2021').reset_index()\n",
    "        data.columns = stocks2.columns\n",
    "\n",
    "        globals()[ticker] = data\n",
    "        df_list2.append(globals()[ticker])"
   ]
  },
  {
   "cell_type": "code",
   "execution_count": 339,
   "id": "97c7e965",
   "metadata": {},
   "outputs": [],
   "source": [
    "df = pd.concat(df_list)\n",
    "df.to_csv('./data/scraped_stock_2015_2022.csv')"
   ]
  },
  {
   "cell_type": "code",
   "execution_count": 340,
   "id": "3c9dcf1e",
   "metadata": {},
   "outputs": [
    {
     "data": {
      "text/html": [
       "<div>\n",
       "<style scoped>\n",
       "    .dataframe tbody tr th:only-of-type {\n",
       "        vertical-align: middle;\n",
       "    }\n",
       "\n",
       "    .dataframe tbody tr th {\n",
       "        vertical-align: top;\n",
       "    }\n",
       "\n",
       "    .dataframe thead th {\n",
       "        text-align: right;\n",
       "    }\n",
       "</style>\n",
       "<table border=\"1\" class=\"dataframe\">\n",
       "  <thead>\n",
       "    <tr style=\"text-align: right;\">\n",
       "      <th></th>\n",
       "      <th>Date</th>\n",
       "      <th>Open</th>\n",
       "      <th>High</th>\n",
       "      <th>Low</th>\n",
       "      <th>Close</th>\n",
       "      <th>Adj Close</th>\n",
       "      <th>Volume</th>\n",
       "      <th>Stock Name</th>\n",
       "    </tr>\n",
       "  </thead>\n",
       "  <tbody>\n",
       "    <tr>\n",
       "      <th>0</th>\n",
       "      <td>2015-01-02</td>\n",
       "      <td>14.858000</td>\n",
       "      <td>14.883333</td>\n",
       "      <td>14.217333</td>\n",
       "      <td>14.620667</td>\n",
       "      <td>14.620667</td>\n",
       "      <td>71466000</td>\n",
       "      <td>TSLA</td>\n",
       "    </tr>\n",
       "    <tr>\n",
       "      <th>1</th>\n",
       "      <td>2015-01-05</td>\n",
       "      <td>14.303333</td>\n",
       "      <td>14.433333</td>\n",
       "      <td>13.810667</td>\n",
       "      <td>14.006000</td>\n",
       "      <td>14.006000</td>\n",
       "      <td>80527500</td>\n",
       "      <td>TSLA</td>\n",
       "    </tr>\n",
       "    <tr>\n",
       "      <th>2</th>\n",
       "      <td>2015-01-06</td>\n",
       "      <td>14.004000</td>\n",
       "      <td>14.280000</td>\n",
       "      <td>13.614000</td>\n",
       "      <td>14.085333</td>\n",
       "      <td>14.085333</td>\n",
       "      <td>93928500</td>\n",
       "      <td>TSLA</td>\n",
       "    </tr>\n",
       "    <tr>\n",
       "      <th>3</th>\n",
       "      <td>2015-01-07</td>\n",
       "      <td>14.223333</td>\n",
       "      <td>14.318667</td>\n",
       "      <td>13.985333</td>\n",
       "      <td>14.063333</td>\n",
       "      <td>14.063333</td>\n",
       "      <td>44526000</td>\n",
       "      <td>TSLA</td>\n",
       "    </tr>\n",
       "    <tr>\n",
       "      <th>4</th>\n",
       "      <td>2015-01-08</td>\n",
       "      <td>14.187333</td>\n",
       "      <td>14.253333</td>\n",
       "      <td>14.000667</td>\n",
       "      <td>14.041333</td>\n",
       "      <td>14.041333</td>\n",
       "      <td>51637500</td>\n",
       "      <td>TSLA</td>\n",
       "    </tr>\n",
       "  </tbody>\n",
       "</table>\n",
       "</div>"
      ],
      "text/plain": [
       "        Date       Open       High        Low      Close  Adj Close    Volume  \\\n",
       "0 2015-01-02  14.858000  14.883333  14.217333  14.620667  14.620667  71466000   \n",
       "1 2015-01-05  14.303333  14.433333  13.810667  14.006000  14.006000  80527500   \n",
       "2 2015-01-06  14.004000  14.280000  13.614000  14.085333  14.085333  93928500   \n",
       "3 2015-01-07  14.223333  14.318667  13.985333  14.063333  14.063333  44526000   \n",
       "4 2015-01-08  14.187333  14.253333  14.000667  14.041333  14.041333  51637500   \n",
       "\n",
       "  Stock Name  \n",
       "0       TSLA  \n",
       "1       TSLA  \n",
       "2       TSLA  \n",
       "3       TSLA  \n",
       "4       TSLA  "
      ]
     },
     "execution_count": 340,
     "metadata": {},
     "output_type": "execute_result"
    }
   ],
   "source": [
    "df.head()"
   ]
  },
  {
   "cell_type": "code",
   "execution_count": null,
   "id": "00bca203",
   "metadata": {},
   "outputs": [],
   "source": []
  }
 ],
 "metadata": {
  "kernelspec": {
   "display_name": "tf-gpu",
   "language": "python",
   "name": "python3"
  },
  "language_info": {
   "codemirror_mode": {
    "name": "ipython",
    "version": 3
   },
   "file_extension": ".py",
   "mimetype": "text/x-python",
   "name": "python",
   "nbconvert_exporter": "python",
   "pygments_lexer": "ipython3",
   "version": "3.8.16"
  },
  "vscode": {
   "interpreter": {
    "hash": "ceae43ca17c107a60b34777c27c553d5521d9f4ac98cdc2e408386327fde8098"
   }
  }
 },
 "nbformat": 4,
 "nbformat_minor": 5
}
